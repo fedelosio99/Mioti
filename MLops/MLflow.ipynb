{
 "cells": [
  {
   "cell_type": "code",
   "execution_count": 1,
   "metadata": {},
   "outputs": [
    {
     "name": "stdout",
     "output_type": "stream",
     "text": [
      "Requirement already satisfied: mlflow in /opt/anaconda3/lib/python3.12/site-packages (2.20.3)\n",
      "Requirement already satisfied: mlflow-skinny==2.20.3 in /opt/anaconda3/lib/python3.12/site-packages (from mlflow) (2.20.3)\n",
      "Requirement already satisfied: Flask<4 in /opt/anaconda3/lib/python3.12/site-packages (from mlflow) (3.0.3)\n",
      "Requirement already satisfied: Jinja2<4,>=2.11 in /opt/anaconda3/lib/python3.12/site-packages (from mlflow) (3.1.4)\n",
      "Requirement already satisfied: alembic!=1.10.0,<2 in /opt/anaconda3/lib/python3.12/site-packages (from mlflow) (1.14.1)\n",
      "Requirement already satisfied: docker<8,>=4.0.0 in /opt/anaconda3/lib/python3.12/site-packages (from mlflow) (7.1.0)\n",
      "Requirement already satisfied: graphene<4 in /opt/anaconda3/lib/python3.12/site-packages (from mlflow) (3.4.3)\n",
      "Requirement already satisfied: gunicorn<24 in /opt/anaconda3/lib/python3.12/site-packages (from mlflow) (23.0.0)\n",
      "Requirement already satisfied: markdown<4,>=3.3 in /opt/anaconda3/lib/python3.12/site-packages (from mlflow) (3.4.1)\n",
      "Requirement already satisfied: matplotlib<4 in /opt/anaconda3/lib/python3.12/site-packages (from mlflow) (3.9.2)\n",
      "Requirement already satisfied: numpy<3 in /opt/anaconda3/lib/python3.12/site-packages (from mlflow) (1.26.4)\n",
      "Requirement already satisfied: pandas<3 in /opt/anaconda3/lib/python3.12/site-packages (from mlflow) (2.2.2)\n",
      "Requirement already satisfied: pyarrow<20,>=4.0.0 in /opt/anaconda3/lib/python3.12/site-packages (from mlflow) (16.1.0)\n",
      "Requirement already satisfied: scikit-learn<2 in /opt/anaconda3/lib/python3.12/site-packages (from mlflow) (1.5.1)\n",
      "Requirement already satisfied: scipy<2 in /opt/anaconda3/lib/python3.12/site-packages (from mlflow) (1.13.1)\n",
      "Requirement already satisfied: sqlalchemy<3,>=1.4.0 in /opt/anaconda3/lib/python3.12/site-packages (from mlflow) (2.0.34)\n",
      "Requirement already satisfied: cachetools<6,>=5.0.0 in /opt/anaconda3/lib/python3.12/site-packages (from mlflow-skinny==2.20.3->mlflow) (5.3.3)\n",
      "Requirement already satisfied: click<9,>=7.0 in /opt/anaconda3/lib/python3.12/site-packages (from mlflow-skinny==2.20.3->mlflow) (8.1.7)\n",
      "Requirement already satisfied: cloudpickle<4 in /opt/anaconda3/lib/python3.12/site-packages (from mlflow-skinny==2.20.3->mlflow) (3.0.0)\n",
      "Requirement already satisfied: databricks-sdk<1,>=0.20.0 in /opt/anaconda3/lib/python3.12/site-packages (from mlflow-skinny==2.20.3->mlflow) (0.44.1)\n",
      "Requirement already satisfied: gitpython<4,>=3.1.9 in /opt/anaconda3/lib/python3.12/site-packages (from mlflow-skinny==2.20.3->mlflow) (3.1.43)\n",
      "Requirement already satisfied: importlib_metadata!=4.7.0,<9,>=3.7.0 in /opt/anaconda3/lib/python3.12/site-packages (from mlflow-skinny==2.20.3->mlflow) (7.0.1)\n",
      "Requirement already satisfied: opentelemetry-api<3,>=1.9.0 in /opt/anaconda3/lib/python3.12/site-packages (from mlflow-skinny==2.20.3->mlflow) (1.30.0)\n",
      "Requirement already satisfied: opentelemetry-sdk<3,>=1.9.0 in /opt/anaconda3/lib/python3.12/site-packages (from mlflow-skinny==2.20.3->mlflow) (1.30.0)\n",
      "Requirement already satisfied: packaging<25 in /opt/anaconda3/lib/python3.12/site-packages (from mlflow-skinny==2.20.3->mlflow) (24.1)\n",
      "Requirement already satisfied: protobuf<6,>=3.12.0 in /opt/anaconda3/lib/python3.12/site-packages (from mlflow-skinny==2.20.3->mlflow) (4.25.3)\n",
      "Requirement already satisfied: pydantic<3,>=1.10.8 in /opt/anaconda3/lib/python3.12/site-packages (from mlflow-skinny==2.20.3->mlflow) (2.8.2)\n",
      "Requirement already satisfied: pyyaml<7,>=5.1 in /opt/anaconda3/lib/python3.12/site-packages (from mlflow-skinny==2.20.3->mlflow) (6.0.1)\n",
      "Requirement already satisfied: requests<3,>=2.17.3 in /opt/anaconda3/lib/python3.12/site-packages (from mlflow-skinny==2.20.3->mlflow) (2.32.3)\n",
      "Requirement already satisfied: sqlparse<1,>=0.4.0 in /opt/anaconda3/lib/python3.12/site-packages (from mlflow-skinny==2.20.3->mlflow) (0.5.3)\n",
      "Requirement already satisfied: typing-extensions<5,>=4.0.0 in /opt/anaconda3/lib/python3.12/site-packages (from mlflow-skinny==2.20.3->mlflow) (4.11.0)\n",
      "Requirement already satisfied: Mako in /opt/anaconda3/lib/python3.12/site-packages (from alembic!=1.10.0,<2->mlflow) (1.3.9)\n",
      "Requirement already satisfied: urllib3>=1.26.0 in /opt/anaconda3/lib/python3.12/site-packages (from docker<8,>=4.0.0->mlflow) (2.2.3)\n",
      "Requirement already satisfied: Werkzeug>=3.0.0 in /opt/anaconda3/lib/python3.12/site-packages (from Flask<4->mlflow) (3.0.3)\n",
      "Requirement already satisfied: itsdangerous>=2.1.2 in /opt/anaconda3/lib/python3.12/site-packages (from Flask<4->mlflow) (2.2.0)\n",
      "Requirement already satisfied: blinker>=1.6.2 in /opt/anaconda3/lib/python3.12/site-packages (from Flask<4->mlflow) (1.6.2)\n",
      "Requirement already satisfied: graphql-core<3.3,>=3.1 in /opt/anaconda3/lib/python3.12/site-packages (from graphene<4->mlflow) (3.2.6)\n",
      "Requirement already satisfied: graphql-relay<3.3,>=3.1 in /opt/anaconda3/lib/python3.12/site-packages (from graphene<4->mlflow) (3.2.0)\n",
      "Requirement already satisfied: python-dateutil<3,>=2.7.0 in /opt/anaconda3/lib/python3.12/site-packages (from graphene<4->mlflow) (2.9.0.post0)\n",
      "Requirement already satisfied: MarkupSafe>=2.0 in /opt/anaconda3/lib/python3.12/site-packages (from Jinja2<4,>=2.11->mlflow) (2.1.3)\n",
      "Requirement already satisfied: contourpy>=1.0.1 in /opt/anaconda3/lib/python3.12/site-packages (from matplotlib<4->mlflow) (1.2.0)\n",
      "Requirement already satisfied: cycler>=0.10 in /opt/anaconda3/lib/python3.12/site-packages (from matplotlib<4->mlflow) (0.11.0)\n",
      "Requirement already satisfied: fonttools>=4.22.0 in /opt/anaconda3/lib/python3.12/site-packages (from matplotlib<4->mlflow) (4.51.0)\n",
      "Requirement already satisfied: kiwisolver>=1.3.1 in /opt/anaconda3/lib/python3.12/site-packages (from matplotlib<4->mlflow) (1.4.4)\n",
      "Requirement already satisfied: pillow>=8 in /opt/anaconda3/lib/python3.12/site-packages (from matplotlib<4->mlflow) (10.4.0)\n",
      "Requirement already satisfied: pyparsing>=2.3.1 in /opt/anaconda3/lib/python3.12/site-packages (from matplotlib<4->mlflow) (3.1.2)\n",
      "Requirement already satisfied: pytz>=2020.1 in /opt/anaconda3/lib/python3.12/site-packages (from pandas<3->mlflow) (2024.1)\n",
      "Requirement already satisfied: tzdata>=2022.7 in /opt/anaconda3/lib/python3.12/site-packages (from pandas<3->mlflow) (2023.3)\n",
      "Requirement already satisfied: joblib>=1.2.0 in /opt/anaconda3/lib/python3.12/site-packages (from scikit-learn<2->mlflow) (1.4.2)\n",
      "Requirement already satisfied: threadpoolctl>=3.1.0 in /opt/anaconda3/lib/python3.12/site-packages (from scikit-learn<2->mlflow) (3.5.0)\n",
      "Requirement already satisfied: google-auth~=2.0 in /opt/anaconda3/lib/python3.12/site-packages (from databricks-sdk<1,>=0.20.0->mlflow-skinny==2.20.3->mlflow) (2.38.0)\n",
      "Requirement already satisfied: gitdb<5,>=4.0.1 in /opt/anaconda3/lib/python3.12/site-packages (from gitpython<4,>=3.1.9->mlflow-skinny==2.20.3->mlflow) (4.0.7)\n",
      "Requirement already satisfied: zipp>=0.5 in /opt/anaconda3/lib/python3.12/site-packages (from importlib_metadata!=4.7.0,<9,>=3.7.0->mlflow-skinny==2.20.3->mlflow) (3.17.0)\n",
      "Requirement already satisfied: deprecated>=1.2.6 in /opt/anaconda3/lib/python3.12/site-packages (from opentelemetry-api<3,>=1.9.0->mlflow-skinny==2.20.3->mlflow) (1.2.18)\n",
      "Requirement already satisfied: opentelemetry-semantic-conventions==0.51b0 in /opt/anaconda3/lib/python3.12/site-packages (from opentelemetry-sdk<3,>=1.9.0->mlflow-skinny==2.20.3->mlflow) (0.51b0)\n",
      "Requirement already satisfied: annotated-types>=0.4.0 in /opt/anaconda3/lib/python3.12/site-packages (from pydantic<3,>=1.10.8->mlflow-skinny==2.20.3->mlflow) (0.6.0)\n",
      "Requirement already satisfied: pydantic-core==2.20.1 in /opt/anaconda3/lib/python3.12/site-packages (from pydantic<3,>=1.10.8->mlflow-skinny==2.20.3->mlflow) (2.20.1)\n",
      "Requirement already satisfied: six>=1.5 in /opt/anaconda3/lib/python3.12/site-packages (from python-dateutil<3,>=2.7.0->graphene<4->mlflow) (1.16.0)\n",
      "Requirement already satisfied: charset-normalizer<4,>=2 in /opt/anaconda3/lib/python3.12/site-packages (from requests<3,>=2.17.3->mlflow-skinny==2.20.3->mlflow) (3.3.2)\n",
      "Requirement already satisfied: idna<4,>=2.5 in /opt/anaconda3/lib/python3.12/site-packages (from requests<3,>=2.17.3->mlflow-skinny==2.20.3->mlflow) (3.7)\n",
      "Requirement already satisfied: certifi>=2017.4.17 in /opt/anaconda3/lib/python3.12/site-packages (from requests<3,>=2.17.3->mlflow-skinny==2.20.3->mlflow) (2025.1.31)\n",
      "Requirement already satisfied: wrapt<2,>=1.10 in /opt/anaconda3/lib/python3.12/site-packages (from deprecated>=1.2.6->opentelemetry-api<3,>=1.9.0->mlflow-skinny==2.20.3->mlflow) (1.14.1)\n",
      "Requirement already satisfied: smmap<5,>=3.0.1 in /opt/anaconda3/lib/python3.12/site-packages (from gitdb<5,>=4.0.1->gitpython<4,>=3.1.9->mlflow-skinny==2.20.3->mlflow) (4.0.0)\n",
      "Requirement already satisfied: pyasn1-modules>=0.2.1 in /opt/anaconda3/lib/python3.12/site-packages (from google-auth~=2.0->databricks-sdk<1,>=0.20.0->mlflow-skinny==2.20.3->mlflow) (0.2.8)\n",
      "Requirement already satisfied: rsa<5,>=3.1.4 in /opt/anaconda3/lib/python3.12/site-packages (from google-auth~=2.0->databricks-sdk<1,>=0.20.0->mlflow-skinny==2.20.3->mlflow) (4.9)\n",
      "Requirement already satisfied: pyasn1<0.5.0,>=0.4.6 in /opt/anaconda3/lib/python3.12/site-packages (from pyasn1-modules>=0.2.1->google-auth~=2.0->databricks-sdk<1,>=0.20.0->mlflow-skinny==2.20.3->mlflow) (0.4.8)\n",
      "Note: you may need to restart the kernel to use updated packages.\n"
     ]
    }
   ],
   "source": [
    "pip install mlflow"
   ]
  },
  {
   "cell_type": "code",
   "execution_count": 2,
   "metadata": {},
   "outputs": [
    {
     "name": "stdout",
     "output_type": "stream",
     "text": [
      "Requirement already satisfied: xgboost in /opt/anaconda3/lib/python3.12/site-packages (2.1.4)\n",
      "Requirement already satisfied: numpy in /opt/anaconda3/lib/python3.12/site-packages (from xgboost) (1.26.4)\n",
      "Requirement already satisfied: scipy in /opt/anaconda3/lib/python3.12/site-packages (from xgboost) (1.13.1)\n",
      "Note: you may need to restart the kernel to use updated packages.\n"
     ]
    }
   ],
   "source": [
    "pip install xgboost"
   ]
  },
  {
   "cell_type": "code",
   "execution_count": 3,
   "metadata": {},
   "outputs": [
    {
     "name": "stdout",
     "output_type": "stream",
     "text": [
      "Requirement already satisfied: lightgbm in /opt/anaconda3/lib/python3.12/site-packages (4.6.0)\n",
      "Requirement already satisfied: numpy>=1.17.0 in /opt/anaconda3/lib/python3.12/site-packages (from lightgbm) (1.26.4)\n",
      "Requirement already satisfied: scipy in /opt/anaconda3/lib/python3.12/site-packages (from lightgbm) (1.13.1)\n",
      "Note: you may need to restart the kernel to use updated packages.\n"
     ]
    }
   ],
   "source": [
    "pip install lightgbm"
   ]
  },
  {
   "cell_type": "code",
   "execution_count": 4,
   "metadata": {},
   "outputs": [
    {
     "name": "stdout",
     "output_type": "stream",
     "text": [
      "Requirement already satisfied: catboost in /opt/anaconda3/lib/python3.12/site-packages (1.2.7)\n",
      "Requirement already satisfied: graphviz in /opt/anaconda3/lib/python3.12/site-packages (from catboost) (0.20.3)\n",
      "Requirement already satisfied: matplotlib in /opt/anaconda3/lib/python3.12/site-packages (from catboost) (3.9.2)\n",
      "Requirement already satisfied: numpy<2.0,>=1.16.0 in /opt/anaconda3/lib/python3.12/site-packages (from catboost) (1.26.4)\n",
      "Requirement already satisfied: pandas>=0.24 in /opt/anaconda3/lib/python3.12/site-packages (from catboost) (2.2.2)\n",
      "Requirement already satisfied: scipy in /opt/anaconda3/lib/python3.12/site-packages (from catboost) (1.13.1)\n",
      "Requirement already satisfied: plotly in /opt/anaconda3/lib/python3.12/site-packages (from catboost) (5.24.1)\n",
      "Requirement already satisfied: six in /opt/anaconda3/lib/python3.12/site-packages (from catboost) (1.16.0)\n",
      "Requirement already satisfied: python-dateutil>=2.8.2 in /opt/anaconda3/lib/python3.12/site-packages (from pandas>=0.24->catboost) (2.9.0.post0)\n",
      "Requirement already satisfied: pytz>=2020.1 in /opt/anaconda3/lib/python3.12/site-packages (from pandas>=0.24->catboost) (2024.1)\n",
      "Requirement already satisfied: tzdata>=2022.7 in /opt/anaconda3/lib/python3.12/site-packages (from pandas>=0.24->catboost) (2023.3)\n",
      "Requirement already satisfied: contourpy>=1.0.1 in /opt/anaconda3/lib/python3.12/site-packages (from matplotlib->catboost) (1.2.0)\n",
      "Requirement already satisfied: cycler>=0.10 in /opt/anaconda3/lib/python3.12/site-packages (from matplotlib->catboost) (0.11.0)\n",
      "Requirement already satisfied: fonttools>=4.22.0 in /opt/anaconda3/lib/python3.12/site-packages (from matplotlib->catboost) (4.51.0)\n",
      "Requirement already satisfied: kiwisolver>=1.3.1 in /opt/anaconda3/lib/python3.12/site-packages (from matplotlib->catboost) (1.4.4)\n",
      "Requirement already satisfied: packaging>=20.0 in /opt/anaconda3/lib/python3.12/site-packages (from matplotlib->catboost) (24.1)\n",
      "Requirement already satisfied: pillow>=8 in /opt/anaconda3/lib/python3.12/site-packages (from matplotlib->catboost) (10.4.0)\n",
      "Requirement already satisfied: pyparsing>=2.3.1 in /opt/anaconda3/lib/python3.12/site-packages (from matplotlib->catboost) (3.1.2)\n",
      "Requirement already satisfied: tenacity>=6.2.0 in /opt/anaconda3/lib/python3.12/site-packages (from plotly->catboost) (8.2.3)\n",
      "Note: you may need to restart the kernel to use updated packages.\n"
     ]
    }
   ],
   "source": [
    "pip install catboost"
   ]
  },
  {
   "cell_type": "code",
   "execution_count": 5,
   "metadata": {},
   "outputs": [],
   "source": [
    "import pandas as pd\n",
    "import numpy as np\n",
    "import matplotlib.pyplot as plt\n",
    "import os\n",
    "import sys\n",
    "import warnings\n",
    "\n",
    "import mlflow\n",
    "from mlflow.models import infer_signature\n",
    "import mlflow.sklearn\n",
    "from sklearn.model_selection import GridSearchCV, train_test_split\n",
    "from sklearn.linear_model import LinearRegression, LogisticRegression\n",
    "from sklearn.ensemble import RandomForestRegressor, RandomForestClassifier\n",
    "from sklearn.preprocessing import LabelEncoder\n",
    "from xgboost import XGBRegressor, XGBClassifier\n",
    "import lightgbm as lgb\n",
    "from lightgbm import LGBMRegressor\n",
    "from catboost import CatBoostRegressor, CatBoostClassifier\n",
    "from sklearn.neural_network import MLPRegressor\n",
    "from sklearn.svm import SVR\n",
    "from sklearn.metrics import mean_absolute_error, mean_squared_error, r2_score, accuracy_score, precision_score, recall_score, f1_score, confusion_matrix\n",
    "import itertools\n",
    "from itertools import product  # Para probar combinaciones de hiperparámetros\n",
    "import seaborn as sns"
   ]
  },
  {
   "cell_type": "code",
   "execution_count": 6,
   "metadata": {},
   "outputs": [
    {
     "data": {
      "text/html": [
       "<div>\n",
       "<style scoped>\n",
       "    .dataframe tbody tr th:only-of-type {\n",
       "        vertical-align: middle;\n",
       "    }\n",
       "\n",
       "    .dataframe tbody tr th {\n",
       "        vertical-align: top;\n",
       "    }\n",
       "\n",
       "    .dataframe thead th {\n",
       "        text-align: right;\n",
       "    }\n",
       "</style>\n",
       "<table border=\"1\" class=\"dataframe\">\n",
       "  <thead>\n",
       "    <tr style=\"text-align: right;\">\n",
       "      <th></th>\n",
       "      <th>estacion_id</th>\n",
       "      <th>estacion_nombre</th>\n",
       "      <th>sensor_id</th>\n",
       "      <th>sensor_alias</th>\n",
       "      <th>sensor_nombre</th>\n",
       "      <th>fecha_observacion</th>\n",
       "      <th>metrica</th>\n",
       "      <th>valor</th>\n",
       "    </tr>\n",
       "  </thead>\n",
       "  <tbody>\n",
       "    <tr>\n",
       "      <th>0</th>\n",
       "      <td>5</td>\n",
       "      <td>GUIAIS01</td>\n",
       "      <td>405</td>\n",
       "      <td>WSP</td>\n",
       "      <td>Velocidad del viento</td>\n",
       "      <td>2025-01-01</td>\n",
       "      <td>total</td>\n",
       "      <td>NaN</td>\n",
       "    </tr>\n",
       "    <tr>\n",
       "      <th>1</th>\n",
       "      <td>5</td>\n",
       "      <td>GUIAIS01</td>\n",
       "      <td>405</td>\n",
       "      <td>WSP</td>\n",
       "      <td>Velocidad del viento</td>\n",
       "      <td>2025-01-01</td>\n",
       "      <td>media</td>\n",
       "      <td>2.51875</td>\n",
       "    </tr>\n",
       "    <tr>\n",
       "      <th>2</th>\n",
       "      <td>5</td>\n",
       "      <td>GUIAIS01</td>\n",
       "      <td>405</td>\n",
       "      <td>WSP</td>\n",
       "      <td>Velocidad del viento</td>\n",
       "      <td>2025-01-01</td>\n",
       "      <td>minimo</td>\n",
       "      <td>0.80000</td>\n",
       "    </tr>\n",
       "    <tr>\n",
       "      <th>3</th>\n",
       "      <td>5</td>\n",
       "      <td>GUIAIS01</td>\n",
       "      <td>405</td>\n",
       "      <td>WSP</td>\n",
       "      <td>Velocidad del viento</td>\n",
       "      <td>2025-01-01</td>\n",
       "      <td>maximo</td>\n",
       "      <td>5.70000</td>\n",
       "    </tr>\n",
       "    <tr>\n",
       "      <th>4</th>\n",
       "      <td>5</td>\n",
       "      <td>GUIAIS01</td>\n",
       "      <td>405</td>\n",
       "      <td>WSP</td>\n",
       "      <td>Velocidad del viento</td>\n",
       "      <td>2025-01-02</td>\n",
       "      <td>total</td>\n",
       "      <td>NaN</td>\n",
       "    </tr>\n",
       "  </tbody>\n",
       "</table>\n",
       "</div>"
      ],
      "text/plain": [
       "   estacion_id estacion_nombre  sensor_id sensor_alias         sensor_nombre  \\\n",
       "0            5        GUIAIS01        405          WSP  Velocidad del viento   \n",
       "1            5        GUIAIS01        405          WSP  Velocidad del viento   \n",
       "2            5        GUIAIS01        405          WSP  Velocidad del viento   \n",
       "3            5        GUIAIS01        405          WSP  Velocidad del viento   \n",
       "4            5        GUIAIS01        405          WSP  Velocidad del viento   \n",
       "\n",
       "  fecha_observacion metrica    valor  \n",
       "0        2025-01-01   total      NaN  \n",
       "1        2025-01-01   media  2.51875  \n",
       "2        2025-01-01  minimo  0.80000  \n",
       "3        2025-01-01  maximo  5.70000  \n",
       "4        2025-01-02   total      NaN  "
      ]
     },
     "execution_count": 6,
     "metadata": {},
     "output_type": "execute_result"
    }
   ],
   "source": [
    "import pandas as pd\n",
    "\n",
    "url = 'https://datos.tenerife.es/ckan/dataset/12810866-bd1b-47d7-b66e-0547d340abc8/resource/a9fdd19a-bc35-4f0e-8bdd-87e635e9834e/download/datos-meteorologicos-diarios-guiais01-2025.csv'\n",
    "df = pd.read_csv(url)\n",
    "df.head()"
   ]
  },
  {
   "cell_type": "code",
   "execution_count": 7,
   "metadata": {},
   "outputs": [],
   "source": [
    "urls = [\n",
    "    'https://datos.tenerife.es/ckan/dataset/12810866-bd1b-47d7-b66e-0547d340abc8/resource/a9fdd19a-bc35-4f0e-8bdd-87e635e9834e/download/datos-meteorologicos-diarios-guiais01-2025.csv',\n",
    "    'https://datos.tenerife.es/ckan/dataset/12810866-bd1b-47d7-b66e-0547d340abc8/resource/5bb5acac-5d04-4d6d-8f3e-c044173428b1/download/datos-meteorologicos-diarios-guiais01-2024.csv',\n",
    "    'https://datos.tenerife.es/ckan/dataset/12810866-bd1b-47d7-b66e-0547d340abc8/resource/4384d836-cb55-4ae0-888b-6c5cb738ca46/download/datos-meteorologicos-diarios-guiais01-2023.csv',\n",
    "    'https://datos.tenerife.es/ckan/dataset/12810866-bd1b-47d7-b66e-0547d340abc8/resource/0dda533e-be05-4d14-918a-816c78f5ec82/download/datos-meteorologicos-diarios-guiais01-2022.csv',\n",
    "    'https://datos.tenerife.es/ckan/dataset/12810866-bd1b-47d7-b66e-0547d340abc8/resource/5da8911b-789c-4bd8-87b9-2e664f543c6e/download/datos-meteorologicos-diarios-guiais01-2021.csv',\n",
    "    'https://datos.tenerife.es/ckan/dataset/12810866-bd1b-47d7-b66e-0547d340abc8/resource/025c53fa-71f9-4cd1-a800-97a61800ae95/download/datos-meteorologicos-diarios-guiais01-2020.csv',\n",
    "    'https://datos.tenerife.es/ckan/dataset/12810866-bd1b-47d7-b66e-0547d340abc8/resource/79b3f918-0e25-4eae-b657-33f1affc261f/download/datos-meteorologicos-diarios-guiais01-2019.csv',\n",
    "    'https://datos.tenerife.es/ckan/dataset/12810866-bd1b-47d7-b66e-0547d340abc8/resource/2db56505-52ef-4b51-a203-af10185be6cc/download/datos-meteorologicos-diarios-guiais01-2018.csv',\n",
    "    'https://datos.tenerife.es/ckan/dataset/12810866-bd1b-47d7-b66e-0547d340abc8/resource/9da19568-b87a-42b5-8b8d-c93a910b21fb/download/datos-meteorologicos-diarios-guiais01-2017.csv',\n",
    "    'https://datos.tenerife.es/ckan/dataset/12810866-bd1b-47d7-b66e-0547d340abc8/resource/28cd14b2-08fe-463f-a5b1-75d38d30cdc3/download/datos-meteorologicos-diarios-guiais01-2016.csv',\n",
    "    'https://datos.tenerife.es/ckan/dataset/12810866-bd1b-47d7-b66e-0547d340abc8/resource/9f9326ef-992d-4cd2-84f4-40f1c94cf39c/download/datos-meteorologicos-diarios-guiais01-2015.csv',\n",
    "    'https://datos.tenerife.es/ckan/dataset/12810866-bd1b-47d7-b66e-0547d340abc8/resource/66798aa2-bb0f-4e44-bc2c-8094484690fd/download/datos-meteorologicos-diarios-guiais01-2014.csv',\n",
    "    'https://datos.tenerife.es/ckan/dataset/12810866-bd1b-47d7-b66e-0547d340abc8/resource/786c1aab-b386-4b4f-80b7-0c620048082c/download/datos-meteorologicos-diarios-guiais01-2013.csv'\n",
    "]"
   ]
  },
  {
   "cell_type": "code",
   "execution_count": 8,
   "metadata": {},
   "outputs": [
    {
     "name": "stdout",
     "output_type": "stream",
     "text": [
      "https://datos.tenerife.es/ckan/dataset/12810866-bd1b-47d7-b66e-0547d340abc8/resource/a9fdd19a-bc35-4f0e-8bdd-87e635e9834e/download/datos-meteorologicos-diarios-guiais01-2025.csv\n",
      "https://datos.tenerife.es/ckan/dataset/12810866-bd1b-47d7-b66e-0547d340abc8/resource/5bb5acac-5d04-4d6d-8f3e-c044173428b1/download/datos-meteorologicos-diarios-guiais01-2024.csv\n",
      "https://datos.tenerife.es/ckan/dataset/12810866-bd1b-47d7-b66e-0547d340abc8/resource/4384d836-cb55-4ae0-888b-6c5cb738ca46/download/datos-meteorologicos-diarios-guiais01-2023.csv\n",
      "https://datos.tenerife.es/ckan/dataset/12810866-bd1b-47d7-b66e-0547d340abc8/resource/0dda533e-be05-4d14-918a-816c78f5ec82/download/datos-meteorologicos-diarios-guiais01-2022.csv\n",
      "https://datos.tenerife.es/ckan/dataset/12810866-bd1b-47d7-b66e-0547d340abc8/resource/5da8911b-789c-4bd8-87b9-2e664f543c6e/download/datos-meteorologicos-diarios-guiais01-2021.csv\n",
      "https://datos.tenerife.es/ckan/dataset/12810866-bd1b-47d7-b66e-0547d340abc8/resource/025c53fa-71f9-4cd1-a800-97a61800ae95/download/datos-meteorologicos-diarios-guiais01-2020.csv\n",
      "https://datos.tenerife.es/ckan/dataset/12810866-bd1b-47d7-b66e-0547d340abc8/resource/79b3f918-0e25-4eae-b657-33f1affc261f/download/datos-meteorologicos-diarios-guiais01-2019.csv\n",
      "https://datos.tenerife.es/ckan/dataset/12810866-bd1b-47d7-b66e-0547d340abc8/resource/2db56505-52ef-4b51-a203-af10185be6cc/download/datos-meteorologicos-diarios-guiais01-2018.csv\n",
      "https://datos.tenerife.es/ckan/dataset/12810866-bd1b-47d7-b66e-0547d340abc8/resource/9da19568-b87a-42b5-8b8d-c93a910b21fb/download/datos-meteorologicos-diarios-guiais01-2017.csv\n",
      "https://datos.tenerife.es/ckan/dataset/12810866-bd1b-47d7-b66e-0547d340abc8/resource/28cd14b2-08fe-463f-a5b1-75d38d30cdc3/download/datos-meteorologicos-diarios-guiais01-2016.csv\n",
      "https://datos.tenerife.es/ckan/dataset/12810866-bd1b-47d7-b66e-0547d340abc8/resource/9f9326ef-992d-4cd2-84f4-40f1c94cf39c/download/datos-meteorologicos-diarios-guiais01-2015.csv\n",
      "https://datos.tenerife.es/ckan/dataset/12810866-bd1b-47d7-b66e-0547d340abc8/resource/66798aa2-bb0f-4e44-bc2c-8094484690fd/download/datos-meteorologicos-diarios-guiais01-2014.csv\n",
      "https://datos.tenerife.es/ckan/dataset/12810866-bd1b-47d7-b66e-0547d340abc8/resource/786c1aab-b386-4b4f-80b7-0c620048082c/download/datos-meteorologicos-diarios-guiais01-2013.csv\n"
     ]
    }
   ],
   "source": [
    "df= pd.DataFrame()\n",
    "for url in urls:\n",
    "    df1= pd.read_csv(url)\n",
    "    df = pd.concat([df, df1], axis=0)\n",
    "    print(url)"
   ]
  },
  {
   "cell_type": "code",
   "execution_count": 9,
   "metadata": {},
   "outputs": [
    {
     "data": {
      "text/html": [
       "<div>\n",
       "<style scoped>\n",
       "    .dataframe tbody tr th:only-of-type {\n",
       "        vertical-align: middle;\n",
       "    }\n",
       "\n",
       "    .dataframe tbody tr th {\n",
       "        vertical-align: top;\n",
       "    }\n",
       "\n",
       "    .dataframe thead th {\n",
       "        text-align: right;\n",
       "    }\n",
       "</style>\n",
       "<table border=\"1\" class=\"dataframe\">\n",
       "  <thead>\n",
       "    <tr style=\"text-align: right;\">\n",
       "      <th></th>\n",
       "      <th>estacion_id</th>\n",
       "      <th>estacion_nombre</th>\n",
       "      <th>sensor_id</th>\n",
       "      <th>sensor_alias</th>\n",
       "      <th>sensor_nombre</th>\n",
       "      <th>fecha_observacion</th>\n",
       "      <th>metrica</th>\n",
       "      <th>valor</th>\n",
       "    </tr>\n",
       "  </thead>\n",
       "  <tbody>\n",
       "    <tr>\n",
       "      <th>0</th>\n",
       "      <td>5</td>\n",
       "      <td>GUIAIS01</td>\n",
       "      <td>405</td>\n",
       "      <td>WSP</td>\n",
       "      <td>Velocidad del viento</td>\n",
       "      <td>2025-01-01</td>\n",
       "      <td>total</td>\n",
       "      <td>NaN</td>\n",
       "    </tr>\n",
       "    <tr>\n",
       "      <th>1</th>\n",
       "      <td>5</td>\n",
       "      <td>GUIAIS01</td>\n",
       "      <td>405</td>\n",
       "      <td>WSP</td>\n",
       "      <td>Velocidad del viento</td>\n",
       "      <td>2025-01-01</td>\n",
       "      <td>media</td>\n",
       "      <td>2.51875</td>\n",
       "    </tr>\n",
       "    <tr>\n",
       "      <th>2</th>\n",
       "      <td>5</td>\n",
       "      <td>GUIAIS01</td>\n",
       "      <td>405</td>\n",
       "      <td>WSP</td>\n",
       "      <td>Velocidad del viento</td>\n",
       "      <td>2025-01-01</td>\n",
       "      <td>minimo</td>\n",
       "      <td>0.80000</td>\n",
       "    </tr>\n",
       "    <tr>\n",
       "      <th>3</th>\n",
       "      <td>5</td>\n",
       "      <td>GUIAIS01</td>\n",
       "      <td>405</td>\n",
       "      <td>WSP</td>\n",
       "      <td>Velocidad del viento</td>\n",
       "      <td>2025-01-01</td>\n",
       "      <td>maximo</td>\n",
       "      <td>5.70000</td>\n",
       "    </tr>\n",
       "    <tr>\n",
       "      <th>4</th>\n",
       "      <td>5</td>\n",
       "      <td>GUIAIS01</td>\n",
       "      <td>405</td>\n",
       "      <td>WSP</td>\n",
       "      <td>Velocidad del viento</td>\n",
       "      <td>2025-01-02</td>\n",
       "      <td>total</td>\n",
       "      <td>NaN</td>\n",
       "    </tr>\n",
       "  </tbody>\n",
       "</table>\n",
       "</div>"
      ],
      "text/plain": [
       "   estacion_id estacion_nombre  sensor_id sensor_alias         sensor_nombre  \\\n",
       "0            5        GUIAIS01        405          WSP  Velocidad del viento   \n",
       "1            5        GUIAIS01        405          WSP  Velocidad del viento   \n",
       "2            5        GUIAIS01        405          WSP  Velocidad del viento   \n",
       "3            5        GUIAIS01        405          WSP  Velocidad del viento   \n",
       "4            5        GUIAIS01        405          WSP  Velocidad del viento   \n",
       "\n",
       "  fecha_observacion metrica    valor  \n",
       "0        2025-01-01   total      NaN  \n",
       "1        2025-01-01   media  2.51875  \n",
       "2        2025-01-01  minimo  0.80000  \n",
       "3        2025-01-01  maximo  5.70000  \n",
       "4        2025-01-02   total      NaN  "
      ]
     },
     "execution_count": 9,
     "metadata": {},
     "output_type": "execute_result"
    }
   ],
   "source": [
    "df.head()"
   ]
  },
  {
   "cell_type": "code",
   "execution_count": 10,
   "metadata": {},
   "outputs": [
    {
     "data": {
      "text/plain": [
       "Index(['estacion_id', 'estacion_nombre', 'sensor_id', 'sensor_alias',\n",
       "       'sensor_nombre', 'fecha_observacion', 'metrica', 'valor'],\n",
       "      dtype='object')"
      ]
     },
     "execution_count": 10,
     "metadata": {},
     "output_type": "execute_result"
    }
   ],
   "source": [
    "#veo que columnas tiene el dataset\n",
    "df.columns"
   ]
  },
  {
   "cell_type": "code",
   "execution_count": 11,
   "metadata": {},
   "outputs": [
    {
     "data": {
      "text/plain": [
       "estacion_id            int64\n",
       "estacion_nombre       object\n",
       "sensor_id              int64\n",
       "sensor_alias          object\n",
       "sensor_nombre         object\n",
       "fecha_observacion     object\n",
       "metrica               object\n",
       "valor                float64\n",
       "dtype: object"
      ]
     },
     "execution_count": 11,
     "metadata": {},
     "output_type": "execute_result"
    }
   ],
   "source": [
    "#veo los tipos de datos\n",
    "df.dtypes\n"
   ]
  },
  {
   "cell_type": "code",
   "execution_count": 12,
   "metadata": {},
   "outputs": [],
   "source": [
    "# cambio fecha_observacion a tipo fecha\n",
    "df['fecha_observacion'] = pd.to_datetime(df['fecha_observacion'])"
   ]
  },
  {
   "cell_type": "code",
   "execution_count": 13,
   "metadata": {},
   "outputs": [],
   "source": [
    "#ordeno por fecha\n",
    "df = df.sort_values(by='fecha_observacion')"
   ]
  },
  {
   "cell_type": "code",
   "execution_count": 14,
   "metadata": {},
   "outputs": [
    {
     "data": {
      "text/plain": [
       "array([2013, 2014, 2015, 2016, 2017, 2018, 2019, 2020, 2021, 2022, 2023,\n",
       "       2024, 2025], dtype=int32)"
      ]
     },
     "execution_count": 14,
     "metadata": {},
     "output_type": "execute_result"
    }
   ],
   "source": [
    "#veo los años que tengo\n",
    "df['fecha_observacion'].dt.year.unique()"
   ]
  },
  {
   "cell_type": "code",
   "execution_count": 15,
   "metadata": {},
   "outputs": [
    {
     "data": {
      "text/plain": [
       "array(['Radiación solar', 'Temperatura', 'Velocidad del viento',\n",
       "       'Precipitación', 'Humedad relativa'], dtype=object)"
      ]
     },
     "execution_count": 15,
     "metadata": {},
     "output_type": "execute_result"
    }
   ],
   "source": [
    "#veo los sensores que tengo\n",
    "df['sensor_nombre'].unique()"
   ]
  },
  {
   "cell_type": "code",
   "execution_count": 16,
   "metadata": {},
   "outputs": [
    {
     "data": {
      "text/html": [
       "<div>\n",
       "<style scoped>\n",
       "    .dataframe tbody tr th:only-of-type {\n",
       "        vertical-align: middle;\n",
       "    }\n",
       "\n",
       "    .dataframe tbody tr th {\n",
       "        vertical-align: top;\n",
       "    }\n",
       "\n",
       "    .dataframe thead th {\n",
       "        text-align: right;\n",
       "    }\n",
       "</style>\n",
       "<table border=\"1\" class=\"dataframe\">\n",
       "  <thead>\n",
       "    <tr style=\"text-align: right;\">\n",
       "      <th></th>\n",
       "      <th>estacion_id</th>\n",
       "      <th>estacion_nombre</th>\n",
       "      <th>sensor_id</th>\n",
       "      <th>sensor_alias</th>\n",
       "      <th>sensor_nombre</th>\n",
       "      <th>fecha_observacion</th>\n",
       "      <th>metrica</th>\n",
       "      <th>valor</th>\n",
       "    </tr>\n",
       "  </thead>\n",
       "  <tbody>\n",
       "    <tr>\n",
       "      <th>0</th>\n",
       "      <td>5</td>\n",
       "      <td>GUIAIS01</td>\n",
       "      <td>407</td>\n",
       "      <td>TEMP</td>\n",
       "      <td>Temperatura</td>\n",
       "      <td>2013-01-01</td>\n",
       "      <td>media</td>\n",
       "      <td>15.0</td>\n",
       "    </tr>\n",
       "    <tr>\n",
       "      <th>1</th>\n",
       "      <td>5</td>\n",
       "      <td>GUIAIS01</td>\n",
       "      <td>407</td>\n",
       "      <td>TEMP</td>\n",
       "      <td>Temperatura</td>\n",
       "      <td>2013-01-01</td>\n",
       "      <td>total</td>\n",
       "      <td>NaN</td>\n",
       "    </tr>\n",
       "    <tr>\n",
       "      <th>2</th>\n",
       "      <td>5</td>\n",
       "      <td>GUIAIS01</td>\n",
       "      <td>407</td>\n",
       "      <td>TEMP</td>\n",
       "      <td>Temperatura</td>\n",
       "      <td>2013-01-01</td>\n",
       "      <td>minimo</td>\n",
       "      <td>13.2</td>\n",
       "    </tr>\n",
       "    <tr>\n",
       "      <th>3</th>\n",
       "      <td>5</td>\n",
       "      <td>GUIAIS01</td>\n",
       "      <td>407</td>\n",
       "      <td>TEMP</td>\n",
       "      <td>Temperatura</td>\n",
       "      <td>2013-01-01</td>\n",
       "      <td>maximo</td>\n",
       "      <td>17.7</td>\n",
       "    </tr>\n",
       "    <tr>\n",
       "      <th>4</th>\n",
       "      <td>5</td>\n",
       "      <td>GUIAIS01</td>\n",
       "      <td>407</td>\n",
       "      <td>TEMP</td>\n",
       "      <td>Temperatura</td>\n",
       "      <td>2013-01-02</td>\n",
       "      <td>maximo</td>\n",
       "      <td>19.2</td>\n",
       "    </tr>\n",
       "  </tbody>\n",
       "</table>\n",
       "</div>"
      ],
      "text/plain": [
       "   estacion_id estacion_nombre  sensor_id sensor_alias sensor_nombre  \\\n",
       "0            5        GUIAIS01        407         TEMP   Temperatura   \n",
       "1            5        GUIAIS01        407         TEMP   Temperatura   \n",
       "2            5        GUIAIS01        407         TEMP   Temperatura   \n",
       "3            5        GUIAIS01        407         TEMP   Temperatura   \n",
       "4            5        GUIAIS01        407         TEMP   Temperatura   \n",
       "\n",
       "  fecha_observacion metrica  valor  \n",
       "0        2013-01-01   media   15.0  \n",
       "1        2013-01-01   total    NaN  \n",
       "2        2013-01-01  minimo   13.2  \n",
       "3        2013-01-01  maximo   17.7  \n",
       "4        2013-01-02  maximo   19.2  "
      ]
     },
     "execution_count": 16,
     "metadata": {},
     "output_type": "execute_result"
    }
   ],
   "source": [
    "#para este caso voy a trabajar con el sensor de temperatura\n",
    "df_temp = df[df['sensor_nombre'] == 'Temperatura']\n",
    "df_temp.reset_index(drop=True, inplace=True)\n",
    "df_temp.head()\n"
   ]
  },
  {
   "cell_type": "code",
   "execution_count": 17,
   "metadata": {},
   "outputs": [
    {
     "data": {
      "text/html": [
       "<div>\n",
       "<style scoped>\n",
       "    .dataframe tbody tr th:only-of-type {\n",
       "        vertical-align: middle;\n",
       "    }\n",
       "\n",
       "    .dataframe tbody tr th {\n",
       "        vertical-align: top;\n",
       "    }\n",
       "\n",
       "    .dataframe thead th {\n",
       "        text-align: right;\n",
       "    }\n",
       "</style>\n",
       "<table border=\"1\" class=\"dataframe\">\n",
       "  <thead>\n",
       "    <tr style=\"text-align: right;\">\n",
       "      <th></th>\n",
       "      <th>estacion_id</th>\n",
       "      <th>estacion_nombre</th>\n",
       "      <th>sensor_id</th>\n",
       "      <th>sensor_alias</th>\n",
       "      <th>sensor_nombre</th>\n",
       "      <th>fecha_observacion</th>\n",
       "      <th>metrica</th>\n",
       "      <th>valor</th>\n",
       "    </tr>\n",
       "  </thead>\n",
       "  <tbody>\n",
       "    <tr>\n",
       "      <th>0</th>\n",
       "      <td>5</td>\n",
       "      <td>GUIAIS01</td>\n",
       "      <td>407</td>\n",
       "      <td>TEMP</td>\n",
       "      <td>Temperatura</td>\n",
       "      <td>2013-01-01</td>\n",
       "      <td>media</td>\n",
       "      <td>15.000000</td>\n",
       "    </tr>\n",
       "    <tr>\n",
       "      <th>1</th>\n",
       "      <td>5</td>\n",
       "      <td>GUIAIS01</td>\n",
       "      <td>407</td>\n",
       "      <td>TEMP</td>\n",
       "      <td>Temperatura</td>\n",
       "      <td>2013-01-01</td>\n",
       "      <td>total</td>\n",
       "      <td>NaN</td>\n",
       "    </tr>\n",
       "    <tr>\n",
       "      <th>2</th>\n",
       "      <td>5</td>\n",
       "      <td>GUIAIS01</td>\n",
       "      <td>407</td>\n",
       "      <td>TEMP</td>\n",
       "      <td>Temperatura</td>\n",
       "      <td>2013-01-01</td>\n",
       "      <td>minimo</td>\n",
       "      <td>13.200000</td>\n",
       "    </tr>\n",
       "    <tr>\n",
       "      <th>3</th>\n",
       "      <td>5</td>\n",
       "      <td>GUIAIS01</td>\n",
       "      <td>407</td>\n",
       "      <td>TEMP</td>\n",
       "      <td>Temperatura</td>\n",
       "      <td>2013-01-01</td>\n",
       "      <td>maximo</td>\n",
       "      <td>17.700000</td>\n",
       "    </tr>\n",
       "    <tr>\n",
       "      <th>4</th>\n",
       "      <td>5</td>\n",
       "      <td>GUIAIS01</td>\n",
       "      <td>407</td>\n",
       "      <td>TEMP</td>\n",
       "      <td>Temperatura</td>\n",
       "      <td>2013-01-02</td>\n",
       "      <td>maximo</td>\n",
       "      <td>19.200000</td>\n",
       "    </tr>\n",
       "    <tr>\n",
       "      <th>...</th>\n",
       "      <td>...</td>\n",
       "      <td>...</td>\n",
       "      <td>...</td>\n",
       "      <td>...</td>\n",
       "      <td>...</td>\n",
       "      <td>...</td>\n",
       "      <td>...</td>\n",
       "      <td>...</td>\n",
       "    </tr>\n",
       "    <tr>\n",
       "      <th>17731</th>\n",
       "      <td>5</td>\n",
       "      <td>GUIAIS01</td>\n",
       "      <td>407</td>\n",
       "      <td>TEMP</td>\n",
       "      <td>Temperatura</td>\n",
       "      <td>2025-02-19</td>\n",
       "      <td>media</td>\n",
       "      <td>16.234028</td>\n",
       "    </tr>\n",
       "    <tr>\n",
       "      <th>17732</th>\n",
       "      <td>5</td>\n",
       "      <td>GUIAIS01</td>\n",
       "      <td>407</td>\n",
       "      <td>TEMP</td>\n",
       "      <td>Temperatura</td>\n",
       "      <td>2025-02-20</td>\n",
       "      <td>minimo</td>\n",
       "      <td>13.400000</td>\n",
       "    </tr>\n",
       "    <tr>\n",
       "      <th>17733</th>\n",
       "      <td>5</td>\n",
       "      <td>GUIAIS01</td>\n",
       "      <td>407</td>\n",
       "      <td>TEMP</td>\n",
       "      <td>Temperatura</td>\n",
       "      <td>2025-02-20</td>\n",
       "      <td>maximo</td>\n",
       "      <td>19.000000</td>\n",
       "    </tr>\n",
       "    <tr>\n",
       "      <th>17734</th>\n",
       "      <td>5</td>\n",
       "      <td>GUIAIS01</td>\n",
       "      <td>407</td>\n",
       "      <td>TEMP</td>\n",
       "      <td>Temperatura</td>\n",
       "      <td>2025-02-20</td>\n",
       "      <td>total</td>\n",
       "      <td>NaN</td>\n",
       "    </tr>\n",
       "    <tr>\n",
       "      <th>17735</th>\n",
       "      <td>5</td>\n",
       "      <td>GUIAIS01</td>\n",
       "      <td>407</td>\n",
       "      <td>TEMP</td>\n",
       "      <td>Temperatura</td>\n",
       "      <td>2025-02-20</td>\n",
       "      <td>media</td>\n",
       "      <td>15.875000</td>\n",
       "    </tr>\n",
       "  </tbody>\n",
       "</table>\n",
       "<p>17736 rows × 8 columns</p>\n",
       "</div>"
      ],
      "text/plain": [
       "       estacion_id estacion_nombre  sensor_id sensor_alias sensor_nombre  \\\n",
       "0                5        GUIAIS01        407         TEMP   Temperatura   \n",
       "1                5        GUIAIS01        407         TEMP   Temperatura   \n",
       "2                5        GUIAIS01        407         TEMP   Temperatura   \n",
       "3                5        GUIAIS01        407         TEMP   Temperatura   \n",
       "4                5        GUIAIS01        407         TEMP   Temperatura   \n",
       "...            ...             ...        ...          ...           ...   \n",
       "17731            5        GUIAIS01        407         TEMP   Temperatura   \n",
       "17732            5        GUIAIS01        407         TEMP   Temperatura   \n",
       "17733            5        GUIAIS01        407         TEMP   Temperatura   \n",
       "17734            5        GUIAIS01        407         TEMP   Temperatura   \n",
       "17735            5        GUIAIS01        407         TEMP   Temperatura   \n",
       "\n",
       "      fecha_observacion metrica      valor  \n",
       "0            2013-01-01   media  15.000000  \n",
       "1            2013-01-01   total        NaN  \n",
       "2            2013-01-01  minimo  13.200000  \n",
       "3            2013-01-01  maximo  17.700000  \n",
       "4            2013-01-02  maximo  19.200000  \n",
       "...                 ...     ...        ...  \n",
       "17731        2025-02-19   media  16.234028  \n",
       "17732        2025-02-20  minimo  13.400000  \n",
       "17733        2025-02-20  maximo  19.000000  \n",
       "17734        2025-02-20   total        NaN  \n",
       "17735        2025-02-20   media  15.875000  \n",
       "\n",
       "[17736 rows x 8 columns]"
      ]
     },
     "execution_count": 17,
     "metadata": {},
     "output_type": "execute_result"
    }
   ],
   "source": [
    "df_temp"
   ]
  },
  {
   "cell_type": "code",
   "execution_count": 18,
   "metadata": {},
   "outputs": [],
   "source": [
    "#me quedo unicamente con la metrica media\n",
    "df_temp = df_temp[df_temp['metrica'] == 'media']\n",
    "df_temp.reset_index(drop=True, inplace=True)"
   ]
  },
  {
   "cell_type": "code",
   "execution_count": 19,
   "metadata": {},
   "outputs": [
    {
     "data": {
      "text/html": [
       "<div>\n",
       "<style scoped>\n",
       "    .dataframe tbody tr th:only-of-type {\n",
       "        vertical-align: middle;\n",
       "    }\n",
       "\n",
       "    .dataframe tbody tr th {\n",
       "        vertical-align: top;\n",
       "    }\n",
       "\n",
       "    .dataframe thead th {\n",
       "        text-align: right;\n",
       "    }\n",
       "</style>\n",
       "<table border=\"1\" class=\"dataframe\">\n",
       "  <thead>\n",
       "    <tr style=\"text-align: right;\">\n",
       "      <th></th>\n",
       "      <th>estacion_id</th>\n",
       "      <th>estacion_nombre</th>\n",
       "      <th>sensor_id</th>\n",
       "      <th>sensor_alias</th>\n",
       "      <th>sensor_nombre</th>\n",
       "      <th>fecha_observacion</th>\n",
       "      <th>metrica</th>\n",
       "      <th>valor</th>\n",
       "    </tr>\n",
       "  </thead>\n",
       "  <tbody>\n",
       "    <tr>\n",
       "      <th>0</th>\n",
       "      <td>5</td>\n",
       "      <td>GUIAIS01</td>\n",
       "      <td>407</td>\n",
       "      <td>TEMP</td>\n",
       "      <td>Temperatura</td>\n",
       "      <td>2013-01-01</td>\n",
       "      <td>media</td>\n",
       "      <td>15.000000</td>\n",
       "    </tr>\n",
       "    <tr>\n",
       "      <th>1</th>\n",
       "      <td>5</td>\n",
       "      <td>GUIAIS01</td>\n",
       "      <td>407</td>\n",
       "      <td>TEMP</td>\n",
       "      <td>Temperatura</td>\n",
       "      <td>2013-01-02</td>\n",
       "      <td>media</td>\n",
       "      <td>14.870900</td>\n",
       "    </tr>\n",
       "    <tr>\n",
       "      <th>2</th>\n",
       "      <td>5</td>\n",
       "      <td>GUIAIS01</td>\n",
       "      <td>407</td>\n",
       "      <td>TEMP</td>\n",
       "      <td>Temperatura</td>\n",
       "      <td>2013-01-03</td>\n",
       "      <td>media</td>\n",
       "      <td>15.120000</td>\n",
       "    </tr>\n",
       "    <tr>\n",
       "      <th>3</th>\n",
       "      <td>5</td>\n",
       "      <td>GUIAIS01</td>\n",
       "      <td>407</td>\n",
       "      <td>TEMP</td>\n",
       "      <td>Temperatura</td>\n",
       "      <td>2013-01-04</td>\n",
       "      <td>media</td>\n",
       "      <td>14.994600</td>\n",
       "    </tr>\n",
       "    <tr>\n",
       "      <th>4</th>\n",
       "      <td>5</td>\n",
       "      <td>GUIAIS01</td>\n",
       "      <td>407</td>\n",
       "      <td>TEMP</td>\n",
       "      <td>Temperatura</td>\n",
       "      <td>2013-01-05</td>\n",
       "      <td>media</td>\n",
       "      <td>14.667500</td>\n",
       "    </tr>\n",
       "    <tr>\n",
       "      <th>...</th>\n",
       "      <td>...</td>\n",
       "      <td>...</td>\n",
       "      <td>...</td>\n",
       "      <td>...</td>\n",
       "      <td>...</td>\n",
       "      <td>...</td>\n",
       "      <td>...</td>\n",
       "      <td>...</td>\n",
       "    </tr>\n",
       "    <tr>\n",
       "      <th>4429</th>\n",
       "      <td>5</td>\n",
       "      <td>GUIAIS01</td>\n",
       "      <td>407</td>\n",
       "      <td>TEMP</td>\n",
       "      <td>Temperatura</td>\n",
       "      <td>2025-02-16</td>\n",
       "      <td>media</td>\n",
       "      <td>15.550694</td>\n",
       "    </tr>\n",
       "    <tr>\n",
       "      <th>4430</th>\n",
       "      <td>5</td>\n",
       "      <td>GUIAIS01</td>\n",
       "      <td>407</td>\n",
       "      <td>TEMP</td>\n",
       "      <td>Temperatura</td>\n",
       "      <td>2025-02-17</td>\n",
       "      <td>media</td>\n",
       "      <td>15.544444</td>\n",
       "    </tr>\n",
       "    <tr>\n",
       "      <th>4431</th>\n",
       "      <td>5</td>\n",
       "      <td>GUIAIS01</td>\n",
       "      <td>407</td>\n",
       "      <td>TEMP</td>\n",
       "      <td>Temperatura</td>\n",
       "      <td>2025-02-18</td>\n",
       "      <td>media</td>\n",
       "      <td>17.752777</td>\n",
       "    </tr>\n",
       "    <tr>\n",
       "      <th>4432</th>\n",
       "      <td>5</td>\n",
       "      <td>GUIAIS01</td>\n",
       "      <td>407</td>\n",
       "      <td>TEMP</td>\n",
       "      <td>Temperatura</td>\n",
       "      <td>2025-02-19</td>\n",
       "      <td>media</td>\n",
       "      <td>16.234028</td>\n",
       "    </tr>\n",
       "    <tr>\n",
       "      <th>4433</th>\n",
       "      <td>5</td>\n",
       "      <td>GUIAIS01</td>\n",
       "      <td>407</td>\n",
       "      <td>TEMP</td>\n",
       "      <td>Temperatura</td>\n",
       "      <td>2025-02-20</td>\n",
       "      <td>media</td>\n",
       "      <td>15.875000</td>\n",
       "    </tr>\n",
       "  </tbody>\n",
       "</table>\n",
       "<p>4434 rows × 8 columns</p>\n",
       "</div>"
      ],
      "text/plain": [
       "      estacion_id estacion_nombre  sensor_id sensor_alias sensor_nombre  \\\n",
       "0               5        GUIAIS01        407         TEMP   Temperatura   \n",
       "1               5        GUIAIS01        407         TEMP   Temperatura   \n",
       "2               5        GUIAIS01        407         TEMP   Temperatura   \n",
       "3               5        GUIAIS01        407         TEMP   Temperatura   \n",
       "4               5        GUIAIS01        407         TEMP   Temperatura   \n",
       "...           ...             ...        ...          ...           ...   \n",
       "4429            5        GUIAIS01        407         TEMP   Temperatura   \n",
       "4430            5        GUIAIS01        407         TEMP   Temperatura   \n",
       "4431            5        GUIAIS01        407         TEMP   Temperatura   \n",
       "4432            5        GUIAIS01        407         TEMP   Temperatura   \n",
       "4433            5        GUIAIS01        407         TEMP   Temperatura   \n",
       "\n",
       "     fecha_observacion metrica      valor  \n",
       "0           2013-01-01   media  15.000000  \n",
       "1           2013-01-02   media  14.870900  \n",
       "2           2013-01-03   media  15.120000  \n",
       "3           2013-01-04   media  14.994600  \n",
       "4           2013-01-05   media  14.667500  \n",
       "...                ...     ...        ...  \n",
       "4429        2025-02-16   media  15.550694  \n",
       "4430        2025-02-17   media  15.544444  \n",
       "4431        2025-02-18   media  17.752777  \n",
       "4432        2025-02-19   media  16.234028  \n",
       "4433        2025-02-20   media  15.875000  \n",
       "\n",
       "[4434 rows x 8 columns]"
      ]
     },
     "execution_count": 19,
     "metadata": {},
     "output_type": "execute_result"
    }
   ],
   "source": [
    "df_temp"
   ]
  },
  {
   "cell_type": "code",
   "execution_count": 20,
   "metadata": {},
   "outputs": [
    {
     "data": {
      "text/plain": [
       "fecha_observacion\n",
       "2016    366\n",
       "2020    366\n",
       "2024    366\n",
       "2013    365\n",
       "2014    365\n",
       "2015    365\n",
       "2017    365\n",
       "2018    365\n",
       "2019    365\n",
       "2021    365\n",
       "2022    365\n",
       "2023    365\n",
       "2025     51\n",
       "Name: count, dtype: int64"
      ]
     },
     "execution_count": 20,
     "metadata": {},
     "output_type": "execute_result"
    }
   ],
   "source": [
    "# no tiene una abundancia de datos, pero suficiente para hacer un analisis\n",
    "df_temp['fecha_observacion'].dt.year.value_counts()"
   ]
  },
  {
   "cell_type": "code",
   "execution_count": 21,
   "metadata": {},
   "outputs": [],
   "source": [
    "mlflow.set_tracking_uri(\"http://localhost:8080\")"
   ]
  },
  {
   "cell_type": "code",
   "execution_count": 22,
   "metadata": {},
   "outputs": [],
   "source": [
    "#me quedo unicamente con fecha y valor\n",
    "df_temp = df_temp[['fecha_observacion', 'valor']]"
   ]
  },
  {
   "cell_type": "code",
   "execution_count": 23,
   "metadata": {},
   "outputs": [
    {
     "name": "stderr",
     "output_type": "stream",
     "text": [
      "/var/folders/sp/x455bs6n6vqbnk9zj20_q5fh0000gn/T/ipykernel_21886/3942806323.py:1: SettingWithCopyWarning: \n",
      "A value is trying to be set on a copy of a slice from a DataFrame.\n",
      "Try using .loc[row_indexer,col_indexer] = value instead\n",
      "\n",
      "See the caveats in the documentation: https://pandas.pydata.org/pandas-docs/stable/user_guide/indexing.html#returning-a-view-versus-a-copy\n",
      "  df_temp['offset days']= df_temp.index\n",
      "/var/folders/sp/x455bs6n6vqbnk9zj20_q5fh0000gn/T/ipykernel_21886/3942806323.py:2: SettingWithCopyWarning: \n",
      "A value is trying to be set on a copy of a slice from a DataFrame.\n",
      "Try using .loc[row_indexer,col_indexer] = value instead\n",
      "\n",
      "See the caveats in the documentation: https://pandas.pydata.org/pandas-docs/stable/user_guide/indexing.html#returning-a-view-versus-a-copy\n",
      "  df_temp['valor_previo'] = df_temp['valor'].shift(1)\n",
      "/var/folders/sp/x455bs6n6vqbnk9zj20_q5fh0000gn/T/ipykernel_21886/3942806323.py:3: SettingWithCopyWarning: \n",
      "A value is trying to be set on a copy of a slice from a DataFrame.\n",
      "Try using .loc[row_indexer,col_indexer] = value instead\n",
      "\n",
      "See the caveats in the documentation: https://pandas.pydata.org/pandas-docs/stable/user_guide/indexing.html#returning-a-view-versus-a-copy\n",
      "  df_temp['valor_diff']=df_temp['valor_previo'].diff()\n",
      "/var/folders/sp/x455bs6n6vqbnk9zj20_q5fh0000gn/T/ipykernel_21886/3942806323.py:4: SettingWithCopyWarning: \n",
      "A value is trying to be set on a copy of a slice from a DataFrame.\n",
      "Try using .loc[row_indexer,col_indexer] = value instead\n",
      "\n",
      "See the caveats in the documentation: https://pandas.pydata.org/pandas-docs/stable/user_guide/indexing.html#returning-a-view-versus-a-copy\n",
      "  df_temp['dia_semana'] = df_temp['fecha_observacion'].dt.dayofweek\n",
      "/var/folders/sp/x455bs6n6vqbnk9zj20_q5fh0000gn/T/ipykernel_21886/3942806323.py:5: SettingWithCopyWarning: \n",
      "A value is trying to be set on a copy of a slice from a DataFrame.\n",
      "Try using .loc[row_indexer,col_indexer] = value instead\n",
      "\n",
      "See the caveats in the documentation: https://pandas.pydata.org/pandas-docs/stable/user_guide/indexing.html#returning-a-view-versus-a-copy\n",
      "  df_temp['mes'] = df_temp['fecha_observacion'].dt.month\n"
     ]
    }
   ],
   "source": [
    "df_temp['offset days']= df_temp.index\n",
    "df_temp['valor_previo'] = df_temp['valor'].shift(1)\n",
    "df_temp['valor_diff']=df_temp['valor_previo'].diff()\n",
    "df_temp['dia_semana'] = df_temp['fecha_observacion'].dt.dayofweek\n",
    "df_temp['mes'] = df_temp['fecha_observacion'].dt.month"
   ]
  },
  {
   "cell_type": "code",
   "execution_count": 24,
   "metadata": {},
   "outputs": [],
   "source": [
    "for i, día in enumerate([\"Lunes\", \"Martes\", \"Miércoles\", \"Jueves\", \"Viernes\", \"Sábado\"]):\n",
    "    df_temp[día] = df_temp['dia_semana'].apply(lambda x: 1 if (x==i) else 0)"
   ]
  },
  {
   "cell_type": "code",
   "execution_count": 25,
   "metadata": {},
   "outputs": [],
   "source": [
    "# hago para el mes con el nombre como arriba\n",
    "for i, mes in enumerate([\"Enero\", \"Febrero\", \"Marzo\", \"Abril\", \"Mayo\", \"Junio\", \"Julio\", \"Agosto\", \"Septiembre\", \"Octubre\", \"Noviembre\"]):\n",
    "    df_temp[mes] = df_temp['mes'].apply(lambda x: 1 if (x==i+1) else 0)\n"
   ]
  },
  {
   "cell_type": "code",
   "execution_count": 26,
   "metadata": {},
   "outputs": [],
   "source": [
    "#temperatura media ultimos 7 dias y 30 dias\n",
    "df_temp['media_7_dias'] = df_temp['valor'].rolling(window=7).mean()\n",
    "df_temp['media_30_dias'] = df_temp['valor'].rolling(window=30).mean()"
   ]
  },
  {
   "cell_type": "code",
   "execution_count": 27,
   "metadata": {},
   "outputs": [],
   "source": [
    "#elimino la columna mes y la columna dia_semana\n",
    "df_temp = df_temp.drop(columns=['mes', 'dia_semana'])"
   ]
  },
  {
   "cell_type": "code",
   "execution_count": 28,
   "metadata": {},
   "outputs": [
    {
     "data": {
      "text/plain": [
       "Index(['fecha_observacion', 'valor', 'offset days', 'valor_previo',\n",
       "       'valor_diff', 'Lunes', 'Martes', 'Miércoles', 'Jueves', 'Viernes',\n",
       "       'Sábado', 'Enero', 'Febrero', 'Marzo', 'Abril', 'Mayo', 'Junio',\n",
       "       'Julio', 'Agosto', 'Septiembre', 'Octubre', 'Noviembre', 'media_7_dias',\n",
       "       'media_30_dias'],\n",
       "      dtype='object')"
      ]
     },
     "execution_count": 28,
     "metadata": {},
     "output_type": "execute_result"
    }
   ],
   "source": [
    "df_temp.columns"
   ]
  },
  {
   "cell_type": "code",
   "execution_count": 29,
   "metadata": {},
   "outputs": [],
   "source": [
    "#remuevo los valores nulos\n",
    "df_temp = df_temp.dropna()\n",
    "df_temp.reset_index(drop=True, inplace=True)"
   ]
  },
  {
   "cell_type": "code",
   "execution_count": 30,
   "metadata": {},
   "outputs": [],
   "source": [
    "# separo en X,y\n",
    "X = df_temp.drop(columns=['valor', 'fecha_observacion'])\n",
    "y = df_temp['valor']"
   ]
  },
  {
   "cell_type": "code",
   "execution_count": 31,
   "metadata": {},
   "outputs": [
    {
     "data": {
      "text/html": [
       "<div>\n",
       "<style scoped>\n",
       "    .dataframe tbody tr th:only-of-type {\n",
       "        vertical-align: middle;\n",
       "    }\n",
       "\n",
       "    .dataframe tbody tr th {\n",
       "        vertical-align: top;\n",
       "    }\n",
       "\n",
       "    .dataframe thead th {\n",
       "        text-align: right;\n",
       "    }\n",
       "</style>\n",
       "<table border=\"1\" class=\"dataframe\">\n",
       "  <thead>\n",
       "    <tr style=\"text-align: right;\">\n",
       "      <th></th>\n",
       "      <th>offset days</th>\n",
       "      <th>valor_previo</th>\n",
       "      <th>valor_diff</th>\n",
       "      <th>Lunes</th>\n",
       "      <th>Martes</th>\n",
       "      <th>Miércoles</th>\n",
       "      <th>Jueves</th>\n",
       "      <th>Viernes</th>\n",
       "      <th>Sábado</th>\n",
       "      <th>Enero</th>\n",
       "      <th>...</th>\n",
       "      <th>Abril</th>\n",
       "      <th>Mayo</th>\n",
       "      <th>Junio</th>\n",
       "      <th>Julio</th>\n",
       "      <th>Agosto</th>\n",
       "      <th>Septiembre</th>\n",
       "      <th>Octubre</th>\n",
       "      <th>Noviembre</th>\n",
       "      <th>media_7_dias</th>\n",
       "      <th>media_30_dias</th>\n",
       "    </tr>\n",
       "  </thead>\n",
       "  <tbody>\n",
       "    <tr>\n",
       "      <th>0</th>\n",
       "      <td>29</td>\n",
       "      <td>16.825000</td>\n",
       "      <td>2.261700</td>\n",
       "      <td>0</td>\n",
       "      <td>0</td>\n",
       "      <td>1</td>\n",
       "      <td>0</td>\n",
       "      <td>0</td>\n",
       "      <td>0</td>\n",
       "      <td>1</td>\n",
       "      <td>...</td>\n",
       "      <td>0</td>\n",
       "      <td>0</td>\n",
       "      <td>0</td>\n",
       "      <td>0</td>\n",
       "      <td>0</td>\n",
       "      <td>0</td>\n",
       "      <td>0</td>\n",
       "      <td>0</td>\n",
       "      <td>15.738200</td>\n",
       "      <td>14.980760</td>\n",
       "    </tr>\n",
       "    <tr>\n",
       "      <th>1</th>\n",
       "      <td>30</td>\n",
       "      <td>19.453300</td>\n",
       "      <td>2.628300</td>\n",
       "      <td>0</td>\n",
       "      <td>0</td>\n",
       "      <td>0</td>\n",
       "      <td>1</td>\n",
       "      <td>0</td>\n",
       "      <td>0</td>\n",
       "      <td>1</td>\n",
       "      <td>...</td>\n",
       "      <td>0</td>\n",
       "      <td>0</td>\n",
       "      <td>0</td>\n",
       "      <td>0</td>\n",
       "      <td>0</td>\n",
       "      <td>0</td>\n",
       "      <td>0</td>\n",
       "      <td>0</td>\n",
       "      <td>16.431657</td>\n",
       "      <td>15.113150</td>\n",
       "    </tr>\n",
       "    <tr>\n",
       "      <th>2</th>\n",
       "      <td>31</td>\n",
       "      <td>18.971700</td>\n",
       "      <td>-0.481600</td>\n",
       "      <td>0</td>\n",
       "      <td>0</td>\n",
       "      <td>0</td>\n",
       "      <td>0</td>\n",
       "      <td>1</td>\n",
       "      <td>0</td>\n",
       "      <td>0</td>\n",
       "      <td>...</td>\n",
       "      <td>0</td>\n",
       "      <td>0</td>\n",
       "      <td>0</td>\n",
       "      <td>0</td>\n",
       "      <td>0</td>\n",
       "      <td>0</td>\n",
       "      <td>0</td>\n",
       "      <td>0</td>\n",
       "      <td>17.074400</td>\n",
       "      <td>15.252593</td>\n",
       "    </tr>\n",
       "    <tr>\n",
       "      <th>3</th>\n",
       "      <td>32</td>\n",
       "      <td>19.054200</td>\n",
       "      <td>0.082500</td>\n",
       "      <td>0</td>\n",
       "      <td>0</td>\n",
       "      <td>0</td>\n",
       "      <td>0</td>\n",
       "      <td>0</td>\n",
       "      <td>1</td>\n",
       "      <td>0</td>\n",
       "      <td>...</td>\n",
       "      <td>0</td>\n",
       "      <td>0</td>\n",
       "      <td>0</td>\n",
       "      <td>0</td>\n",
       "      <td>0</td>\n",
       "      <td>0</td>\n",
       "      <td>0</td>\n",
       "      <td>0</td>\n",
       "      <td>17.389757</td>\n",
       "      <td>15.327927</td>\n",
       "    </tr>\n",
       "    <tr>\n",
       "      <th>4</th>\n",
       "      <td>33</td>\n",
       "      <td>17.380000</td>\n",
       "      <td>-1.674200</td>\n",
       "      <td>0</td>\n",
       "      <td>0</td>\n",
       "      <td>0</td>\n",
       "      <td>0</td>\n",
       "      <td>0</td>\n",
       "      <td>0</td>\n",
       "      <td>0</td>\n",
       "      <td>...</td>\n",
       "      <td>0</td>\n",
       "      <td>0</td>\n",
       "      <td>0</td>\n",
       "      <td>0</td>\n",
       "      <td>0</td>\n",
       "      <td>0</td>\n",
       "      <td>0</td>\n",
       "      <td>0</td>\n",
       "      <td>17.250600</td>\n",
       "      <td>15.311663</td>\n",
       "    </tr>\n",
       "    <tr>\n",
       "      <th>...</th>\n",
       "      <td>...</td>\n",
       "      <td>...</td>\n",
       "      <td>...</td>\n",
       "      <td>...</td>\n",
       "      <td>...</td>\n",
       "      <td>...</td>\n",
       "      <td>...</td>\n",
       "      <td>...</td>\n",
       "      <td>...</td>\n",
       "      <td>...</td>\n",
       "      <td>...</td>\n",
       "      <td>...</td>\n",
       "      <td>...</td>\n",
       "      <td>...</td>\n",
       "      <td>...</td>\n",
       "      <td>...</td>\n",
       "      <td>...</td>\n",
       "      <td>...</td>\n",
       "      <td>...</td>\n",
       "      <td>...</td>\n",
       "      <td>...</td>\n",
       "    </tr>\n",
       "    <tr>\n",
       "      <th>4339</th>\n",
       "      <td>4429</td>\n",
       "      <td>16.391666</td>\n",
       "      <td>0.854861</td>\n",
       "      <td>0</td>\n",
       "      <td>0</td>\n",
       "      <td>0</td>\n",
       "      <td>0</td>\n",
       "      <td>0</td>\n",
       "      <td>0</td>\n",
       "      <td>0</td>\n",
       "      <td>...</td>\n",
       "      <td>0</td>\n",
       "      <td>0</td>\n",
       "      <td>0</td>\n",
       "      <td>0</td>\n",
       "      <td>0</td>\n",
       "      <td>0</td>\n",
       "      <td>0</td>\n",
       "      <td>0</td>\n",
       "      <td>15.960317</td>\n",
       "      <td>15.991509</td>\n",
       "    </tr>\n",
       "    <tr>\n",
       "      <th>4340</th>\n",
       "      <td>4430</td>\n",
       "      <td>15.550694</td>\n",
       "      <td>-0.840972</td>\n",
       "      <td>1</td>\n",
       "      <td>0</td>\n",
       "      <td>0</td>\n",
       "      <td>0</td>\n",
       "      <td>0</td>\n",
       "      <td>0</td>\n",
       "      <td>0</td>\n",
       "      <td>...</td>\n",
       "      <td>0</td>\n",
       "      <td>0</td>\n",
       "      <td>0</td>\n",
       "      <td>0</td>\n",
       "      <td>0</td>\n",
       "      <td>0</td>\n",
       "      <td>0</td>\n",
       "      <td>0</td>\n",
       "      <td>15.996230</td>\n",
       "      <td>15.985444</td>\n",
       "    </tr>\n",
       "    <tr>\n",
       "      <th>4341</th>\n",
       "      <td>4431</td>\n",
       "      <td>15.544444</td>\n",
       "      <td>-0.006250</td>\n",
       "      <td>0</td>\n",
       "      <td>1</td>\n",
       "      <td>0</td>\n",
       "      <td>0</td>\n",
       "      <td>0</td>\n",
       "      <td>0</td>\n",
       "      <td>0</td>\n",
       "      <td>...</td>\n",
       "      <td>0</td>\n",
       "      <td>0</td>\n",
       "      <td>0</td>\n",
       "      <td>0</td>\n",
       "      <td>0</td>\n",
       "      <td>0</td>\n",
       "      <td>0</td>\n",
       "      <td>0</td>\n",
       "      <td>16.230357</td>\n",
       "      <td>16.055143</td>\n",
       "    </tr>\n",
       "    <tr>\n",
       "      <th>4342</th>\n",
       "      <td>4432</td>\n",
       "      <td>17.752777</td>\n",
       "      <td>2.208333</td>\n",
       "      <td>0</td>\n",
       "      <td>0</td>\n",
       "      <td>1</td>\n",
       "      <td>0</td>\n",
       "      <td>0</td>\n",
       "      <td>0</td>\n",
       "      <td>0</td>\n",
       "      <td>...</td>\n",
       "      <td>0</td>\n",
       "      <td>0</td>\n",
       "      <td>0</td>\n",
       "      <td>0</td>\n",
       "      <td>0</td>\n",
       "      <td>0</td>\n",
       "      <td>0</td>\n",
       "      <td>0</td>\n",
       "      <td>16.197916</td>\n",
       "      <td>16.063893</td>\n",
       "    </tr>\n",
       "    <tr>\n",
       "      <th>4343</th>\n",
       "      <td>4433</td>\n",
       "      <td>16.234028</td>\n",
       "      <td>-1.518749</td>\n",
       "      <td>0</td>\n",
       "      <td>0</td>\n",
       "      <td>0</td>\n",
       "      <td>1</td>\n",
       "      <td>0</td>\n",
       "      <td>0</td>\n",
       "      <td>0</td>\n",
       "      <td>...</td>\n",
       "      <td>0</td>\n",
       "      <td>0</td>\n",
       "      <td>0</td>\n",
       "      <td>0</td>\n",
       "      <td>0</td>\n",
       "      <td>0</td>\n",
       "      <td>0</td>\n",
       "      <td>0</td>\n",
       "      <td>16.126488</td>\n",
       "      <td>16.048361</td>\n",
       "    </tr>\n",
       "  </tbody>\n",
       "</table>\n",
       "<p>4344 rows × 22 columns</p>\n",
       "</div>"
      ],
      "text/plain": [
       "      offset days  valor_previo  valor_diff  Lunes  Martes  Miércoles  Jueves  \\\n",
       "0              29     16.825000    2.261700      0       0          1       0   \n",
       "1              30     19.453300    2.628300      0       0          0       1   \n",
       "2              31     18.971700   -0.481600      0       0          0       0   \n",
       "3              32     19.054200    0.082500      0       0          0       0   \n",
       "4              33     17.380000   -1.674200      0       0          0       0   \n",
       "...           ...           ...         ...    ...     ...        ...     ...   \n",
       "4339         4429     16.391666    0.854861      0       0          0       0   \n",
       "4340         4430     15.550694   -0.840972      1       0          0       0   \n",
       "4341         4431     15.544444   -0.006250      0       1          0       0   \n",
       "4342         4432     17.752777    2.208333      0       0          1       0   \n",
       "4343         4433     16.234028   -1.518749      0       0          0       1   \n",
       "\n",
       "      Viernes  Sábado  Enero  ...  Abril  Mayo  Junio  Julio  Agosto  \\\n",
       "0           0       0      1  ...      0     0      0      0       0   \n",
       "1           0       0      1  ...      0     0      0      0       0   \n",
       "2           1       0      0  ...      0     0      0      0       0   \n",
       "3           0       1      0  ...      0     0      0      0       0   \n",
       "4           0       0      0  ...      0     0      0      0       0   \n",
       "...       ...     ...    ...  ...    ...   ...    ...    ...     ...   \n",
       "4339        0       0      0  ...      0     0      0      0       0   \n",
       "4340        0       0      0  ...      0     0      0      0       0   \n",
       "4341        0       0      0  ...      0     0      0      0       0   \n",
       "4342        0       0      0  ...      0     0      0      0       0   \n",
       "4343        0       0      0  ...      0     0      0      0       0   \n",
       "\n",
       "      Septiembre  Octubre  Noviembre  media_7_dias  media_30_dias  \n",
       "0              0        0          0     15.738200      14.980760  \n",
       "1              0        0          0     16.431657      15.113150  \n",
       "2              0        0          0     17.074400      15.252593  \n",
       "3              0        0          0     17.389757      15.327927  \n",
       "4              0        0          0     17.250600      15.311663  \n",
       "...          ...      ...        ...           ...            ...  \n",
       "4339           0        0          0     15.960317      15.991509  \n",
       "4340           0        0          0     15.996230      15.985444  \n",
       "4341           0        0          0     16.230357      16.055143  \n",
       "4342           0        0          0     16.197916      16.063893  \n",
       "4343           0        0          0     16.126488      16.048361  \n",
       "\n",
       "[4344 rows x 22 columns]"
      ]
     },
     "execution_count": 31,
     "metadata": {},
     "output_type": "execute_result"
    }
   ],
   "source": [
    "X"
   ]
  },
  {
   "cell_type": "code",
   "execution_count": 32,
   "metadata": {},
   "outputs": [],
   "source": [
    "#max columns\n",
    "pd.set_option('display.max_columns', None)"
   ]
  },
  {
   "cell_type": "code",
   "execution_count": 33,
   "metadata": {},
   "outputs": [],
   "source": [
    "X_train, X_test, y_train, y_test = train_test_split(X, y, test_size=0.2, random_state=42, shuffle=False)"
   ]
  },
  {
   "cell_type": "code",
   "execution_count": 34,
   "metadata": {},
   "outputs": [
    {
     "data": {
      "text/html": [
       "<div>\n",
       "<style scoped>\n",
       "    .dataframe tbody tr th:only-of-type {\n",
       "        vertical-align: middle;\n",
       "    }\n",
       "\n",
       "    .dataframe tbody tr th {\n",
       "        vertical-align: top;\n",
       "    }\n",
       "\n",
       "    .dataframe thead th {\n",
       "        text-align: right;\n",
       "    }\n",
       "</style>\n",
       "<table border=\"1\" class=\"dataframe\">\n",
       "  <thead>\n",
       "    <tr style=\"text-align: right;\">\n",
       "      <th></th>\n",
       "      <th>offset days</th>\n",
       "      <th>valor_previo</th>\n",
       "      <th>valor_diff</th>\n",
       "      <th>Lunes</th>\n",
       "      <th>Martes</th>\n",
       "      <th>Miércoles</th>\n",
       "      <th>Jueves</th>\n",
       "      <th>Viernes</th>\n",
       "      <th>Sábado</th>\n",
       "      <th>Enero</th>\n",
       "      <th>Febrero</th>\n",
       "      <th>Marzo</th>\n",
       "      <th>Abril</th>\n",
       "      <th>Mayo</th>\n",
       "      <th>Junio</th>\n",
       "      <th>Julio</th>\n",
       "      <th>Agosto</th>\n",
       "      <th>Septiembre</th>\n",
       "      <th>Octubre</th>\n",
       "      <th>Noviembre</th>\n",
       "      <th>media_7_dias</th>\n",
       "      <th>media_30_dias</th>\n",
       "    </tr>\n",
       "  </thead>\n",
       "  <tbody>\n",
       "    <tr>\n",
       "      <th>3475</th>\n",
       "      <td>3565</td>\n",
       "      <td>24.627100</td>\n",
       "      <td>-0.616000</td>\n",
       "      <td>0</td>\n",
       "      <td>0</td>\n",
       "      <td>0</td>\n",
       "      <td>1</td>\n",
       "      <td>0</td>\n",
       "      <td>0</td>\n",
       "      <td>0</td>\n",
       "      <td>0</td>\n",
       "      <td>0</td>\n",
       "      <td>0</td>\n",
       "      <td>0</td>\n",
       "      <td>0</td>\n",
       "      <td>0</td>\n",
       "      <td>0</td>\n",
       "      <td>0</td>\n",
       "      <td>1</td>\n",
       "      <td>0</td>\n",
       "      <td>22.087914</td>\n",
       "      <td>21.483730</td>\n",
       "    </tr>\n",
       "    <tr>\n",
       "      <th>3476</th>\n",
       "      <td>3566</td>\n",
       "      <td>20.573600</td>\n",
       "      <td>-4.053500</td>\n",
       "      <td>0</td>\n",
       "      <td>0</td>\n",
       "      <td>0</td>\n",
       "      <td>0</td>\n",
       "      <td>1</td>\n",
       "      <td>0</td>\n",
       "      <td>0</td>\n",
       "      <td>0</td>\n",
       "      <td>0</td>\n",
       "      <td>0</td>\n",
       "      <td>0</td>\n",
       "      <td>0</td>\n",
       "      <td>0</td>\n",
       "      <td>0</td>\n",
       "      <td>0</td>\n",
       "      <td>1</td>\n",
       "      <td>0</td>\n",
       "      <td>22.193471</td>\n",
       "      <td>21.476253</td>\n",
       "    </tr>\n",
       "    <tr>\n",
       "      <th>3477</th>\n",
       "      <td>3567</td>\n",
       "      <td>20.865300</td>\n",
       "      <td>0.291700</td>\n",
       "      <td>0</td>\n",
       "      <td>0</td>\n",
       "      <td>0</td>\n",
       "      <td>0</td>\n",
       "      <td>0</td>\n",
       "      <td>1</td>\n",
       "      <td>0</td>\n",
       "      <td>0</td>\n",
       "      <td>0</td>\n",
       "      <td>0</td>\n",
       "      <td>0</td>\n",
       "      <td>0</td>\n",
       "      <td>0</td>\n",
       "      <td>0</td>\n",
       "      <td>0</td>\n",
       "      <td>1</td>\n",
       "      <td>0</td>\n",
       "      <td>22.272943</td>\n",
       "      <td>21.456253</td>\n",
       "    </tr>\n",
       "    <tr>\n",
       "      <th>3478</th>\n",
       "      <td>3568</td>\n",
       "      <td>20.791700</td>\n",
       "      <td>-0.073600</td>\n",
       "      <td>0</td>\n",
       "      <td>0</td>\n",
       "      <td>0</td>\n",
       "      <td>0</td>\n",
       "      <td>0</td>\n",
       "      <td>0</td>\n",
       "      <td>0</td>\n",
       "      <td>0</td>\n",
       "      <td>0</td>\n",
       "      <td>0</td>\n",
       "      <td>0</td>\n",
       "      <td>0</td>\n",
       "      <td>0</td>\n",
       "      <td>0</td>\n",
       "      <td>0</td>\n",
       "      <td>1</td>\n",
       "      <td>0</td>\n",
       "      <td>22.272443</td>\n",
       "      <td>21.417063</td>\n",
       "    </tr>\n",
       "    <tr>\n",
       "      <th>3479</th>\n",
       "      <td>3569</td>\n",
       "      <td>20.600700</td>\n",
       "      <td>-0.191000</td>\n",
       "      <td>1</td>\n",
       "      <td>0</td>\n",
       "      <td>0</td>\n",
       "      <td>0</td>\n",
       "      <td>0</td>\n",
       "      <td>0</td>\n",
       "      <td>0</td>\n",
       "      <td>0</td>\n",
       "      <td>0</td>\n",
       "      <td>0</td>\n",
       "      <td>0</td>\n",
       "      <td>0</td>\n",
       "      <td>0</td>\n",
       "      <td>0</td>\n",
       "      <td>0</td>\n",
       "      <td>1</td>\n",
       "      <td>0</td>\n",
       "      <td>21.844157</td>\n",
       "      <td>21.372640</td>\n",
       "    </tr>\n",
       "    <tr>\n",
       "      <th>...</th>\n",
       "      <td>...</td>\n",
       "      <td>...</td>\n",
       "      <td>...</td>\n",
       "      <td>...</td>\n",
       "      <td>...</td>\n",
       "      <td>...</td>\n",
       "      <td>...</td>\n",
       "      <td>...</td>\n",
       "      <td>...</td>\n",
       "      <td>...</td>\n",
       "      <td>...</td>\n",
       "      <td>...</td>\n",
       "      <td>...</td>\n",
       "      <td>...</td>\n",
       "      <td>...</td>\n",
       "      <td>...</td>\n",
       "      <td>...</td>\n",
       "      <td>...</td>\n",
       "      <td>...</td>\n",
       "      <td>...</td>\n",
       "      <td>...</td>\n",
       "      <td>...</td>\n",
       "    </tr>\n",
       "    <tr>\n",
       "      <th>4339</th>\n",
       "      <td>4429</td>\n",
       "      <td>16.391666</td>\n",
       "      <td>0.854861</td>\n",
       "      <td>0</td>\n",
       "      <td>0</td>\n",
       "      <td>0</td>\n",
       "      <td>0</td>\n",
       "      <td>0</td>\n",
       "      <td>0</td>\n",
       "      <td>0</td>\n",
       "      <td>1</td>\n",
       "      <td>0</td>\n",
       "      <td>0</td>\n",
       "      <td>0</td>\n",
       "      <td>0</td>\n",
       "      <td>0</td>\n",
       "      <td>0</td>\n",
       "      <td>0</td>\n",
       "      <td>0</td>\n",
       "      <td>0</td>\n",
       "      <td>15.960317</td>\n",
       "      <td>15.991509</td>\n",
       "    </tr>\n",
       "    <tr>\n",
       "      <th>4340</th>\n",
       "      <td>4430</td>\n",
       "      <td>15.550694</td>\n",
       "      <td>-0.840972</td>\n",
       "      <td>1</td>\n",
       "      <td>0</td>\n",
       "      <td>0</td>\n",
       "      <td>0</td>\n",
       "      <td>0</td>\n",
       "      <td>0</td>\n",
       "      <td>0</td>\n",
       "      <td>1</td>\n",
       "      <td>0</td>\n",
       "      <td>0</td>\n",
       "      <td>0</td>\n",
       "      <td>0</td>\n",
       "      <td>0</td>\n",
       "      <td>0</td>\n",
       "      <td>0</td>\n",
       "      <td>0</td>\n",
       "      <td>0</td>\n",
       "      <td>15.996230</td>\n",
       "      <td>15.985444</td>\n",
       "    </tr>\n",
       "    <tr>\n",
       "      <th>4341</th>\n",
       "      <td>4431</td>\n",
       "      <td>15.544444</td>\n",
       "      <td>-0.006250</td>\n",
       "      <td>0</td>\n",
       "      <td>1</td>\n",
       "      <td>0</td>\n",
       "      <td>0</td>\n",
       "      <td>0</td>\n",
       "      <td>0</td>\n",
       "      <td>0</td>\n",
       "      <td>1</td>\n",
       "      <td>0</td>\n",
       "      <td>0</td>\n",
       "      <td>0</td>\n",
       "      <td>0</td>\n",
       "      <td>0</td>\n",
       "      <td>0</td>\n",
       "      <td>0</td>\n",
       "      <td>0</td>\n",
       "      <td>0</td>\n",
       "      <td>16.230357</td>\n",
       "      <td>16.055143</td>\n",
       "    </tr>\n",
       "    <tr>\n",
       "      <th>4342</th>\n",
       "      <td>4432</td>\n",
       "      <td>17.752777</td>\n",
       "      <td>2.208333</td>\n",
       "      <td>0</td>\n",
       "      <td>0</td>\n",
       "      <td>1</td>\n",
       "      <td>0</td>\n",
       "      <td>0</td>\n",
       "      <td>0</td>\n",
       "      <td>0</td>\n",
       "      <td>1</td>\n",
       "      <td>0</td>\n",
       "      <td>0</td>\n",
       "      <td>0</td>\n",
       "      <td>0</td>\n",
       "      <td>0</td>\n",
       "      <td>0</td>\n",
       "      <td>0</td>\n",
       "      <td>0</td>\n",
       "      <td>0</td>\n",
       "      <td>16.197916</td>\n",
       "      <td>16.063893</td>\n",
       "    </tr>\n",
       "    <tr>\n",
       "      <th>4343</th>\n",
       "      <td>4433</td>\n",
       "      <td>16.234028</td>\n",
       "      <td>-1.518749</td>\n",
       "      <td>0</td>\n",
       "      <td>0</td>\n",
       "      <td>0</td>\n",
       "      <td>1</td>\n",
       "      <td>0</td>\n",
       "      <td>0</td>\n",
       "      <td>0</td>\n",
       "      <td>1</td>\n",
       "      <td>0</td>\n",
       "      <td>0</td>\n",
       "      <td>0</td>\n",
       "      <td>0</td>\n",
       "      <td>0</td>\n",
       "      <td>0</td>\n",
       "      <td>0</td>\n",
       "      <td>0</td>\n",
       "      <td>0</td>\n",
       "      <td>16.126488</td>\n",
       "      <td>16.048361</td>\n",
       "    </tr>\n",
       "  </tbody>\n",
       "</table>\n",
       "<p>869 rows × 22 columns</p>\n",
       "</div>"
      ],
      "text/plain": [
       "      offset days  valor_previo  valor_diff  Lunes  Martes  Miércoles  Jueves  \\\n",
       "3475         3565     24.627100   -0.616000      0       0          0       1   \n",
       "3476         3566     20.573600   -4.053500      0       0          0       0   \n",
       "3477         3567     20.865300    0.291700      0       0          0       0   \n",
       "3478         3568     20.791700   -0.073600      0       0          0       0   \n",
       "3479         3569     20.600700   -0.191000      1       0          0       0   \n",
       "...           ...           ...         ...    ...     ...        ...     ...   \n",
       "4339         4429     16.391666    0.854861      0       0          0       0   \n",
       "4340         4430     15.550694   -0.840972      1       0          0       0   \n",
       "4341         4431     15.544444   -0.006250      0       1          0       0   \n",
       "4342         4432     17.752777    2.208333      0       0          1       0   \n",
       "4343         4433     16.234028   -1.518749      0       0          0       1   \n",
       "\n",
       "      Viernes  Sábado  Enero  Febrero  Marzo  Abril  Mayo  Junio  Julio  \\\n",
       "3475        0       0      0        0      0      0     0      0      0   \n",
       "3476        1       0      0        0      0      0     0      0      0   \n",
       "3477        0       1      0        0      0      0     0      0      0   \n",
       "3478        0       0      0        0      0      0     0      0      0   \n",
       "3479        0       0      0        0      0      0     0      0      0   \n",
       "...       ...     ...    ...      ...    ...    ...   ...    ...    ...   \n",
       "4339        0       0      0        1      0      0     0      0      0   \n",
       "4340        0       0      0        1      0      0     0      0      0   \n",
       "4341        0       0      0        1      0      0     0      0      0   \n",
       "4342        0       0      0        1      0      0     0      0      0   \n",
       "4343        0       0      0        1      0      0     0      0      0   \n",
       "\n",
       "      Agosto  Septiembre  Octubre  Noviembre  media_7_dias  media_30_dias  \n",
       "3475       0           0        1          0     22.087914      21.483730  \n",
       "3476       0           0        1          0     22.193471      21.476253  \n",
       "3477       0           0        1          0     22.272943      21.456253  \n",
       "3478       0           0        1          0     22.272443      21.417063  \n",
       "3479       0           0        1          0     21.844157      21.372640  \n",
       "...      ...         ...      ...        ...           ...            ...  \n",
       "4339       0           0        0          0     15.960317      15.991509  \n",
       "4340       0           0        0          0     15.996230      15.985444  \n",
       "4341       0           0        0          0     16.230357      16.055143  \n",
       "4342       0           0        0          0     16.197916      16.063893  \n",
       "4343       0           0        0          0     16.126488      16.048361  \n",
       "\n",
       "[869 rows x 22 columns]"
      ]
     },
     "execution_count": 34,
     "metadata": {},
     "output_type": "execute_result"
    }
   ],
   "source": [
    "X_test"
   ]
  },
  {
   "cell_type": "code",
   "execution_count": 292,
   "metadata": {},
   "outputs": [
    {
     "data": {
      "text/plain": [
       "[<matplotlib.lines.Line2D at 0x16444d3a0>]"
      ]
     },
     "execution_count": 292,
     "metadata": {},
     "output_type": "execute_result"
    },
    {
     "data": {
      "image/png": "[encoded data removed]",
      "text/plain": [
       "<Figure size 640x480 with 1 Axes>"
      ]
     },
     "metadata": {},
     "output_type": "display_data"
    }
   ],
   "source": [
    "#hago un plot de x_train y x_test\n",
    "plt.plot(X_train['offset days'], y_train, color='blue', label='Train')\n",
    "plt.plot(X_test['offset days'], y_test, color='green', label='Test')"
   ]
  },
  {
   "cell_type": "code",
   "execution_count": 47,
   "metadata": {},
   "outputs": [
    {
     "data": {
      "text/plain": [
       "<Experiment: artifact_location='mlflow-artifacts:/142334081949881656', creation_time=1740645078126, experiment_id='142334081949881656', last_update_time=1740661635243, lifecycle_stage='active', name='Comparacion_Modelos_Hiperparametros', tags={}>"
      ]
     },
     "execution_count": 47,
     "metadata": {},
     "output_type": "execute_result"
    }
   ],
   "source": [
    "import mlflow\n",
    "\n",
    "# Restore the deleted experiment\n",
    "experiment_name = \"Comparacion_Modelos_Hiperparametros\"\n",
    "experiment = mlflow.get_experiment_by_name(experiment_name)\n",
    "\n",
    "if experiment and experiment.lifecycle_stage == \"deleted\":\n",
    "    mlflow.tracking.MlflowClient().restore_experiment(experiment.experiment_id)\n",
    "\n",
    "# Set the experiment\n",
    "mlflow.set_experiment(experiment_name)"
   ]
  },
  {
   "cell_type": "code",
   "execution_count": 49,
   "metadata": {},
   "outputs": [
    {
     "name": "stdout",
     "output_type": "stream",
     "text": [
      "Entrenando Random Forest con {'n_estimators': 50, 'max_depth': 5}...\n"
     ]
    },
    {
     "name": "stderr",
     "output_type": "stream",
     "text": [
      "\u001b[31m2025/02/27 14:16:45 WARNING mlflow.models.model: Model logged without a signature and input example. Please set `input_example` parameter when logging the model to auto infer the model signature.\u001b[0m\n"
     ]
    },
    {
     "name": "stdout",
     "output_type": "stream",
     "text": [
      "Random Forest con {'n_estimators': 50, 'max_depth': 5} registrado | R2: 0.8218, MAE: 0.8759, RMSE: 1.3232\n",
      "🏃 View run Random Forest - {'n_estimators': 50, 'max_depth': 5} at: http://localhost:8080/#/experiments/460161067001223350/runs/f4fb2ffbf18c41a598a9d38514babc1b\n",
      "🧪 View experiment at: http://localhost:8080/#/experiments/460161067001223350\n",
      "Entrenando Random Forest con {'n_estimators': 100, 'max_depth': 10}...\n"
     ]
    },
    {
     "name": "stderr",
     "output_type": "stream",
     "text": [
      "\u001b[31m2025/02/27 14:16:47 WARNING mlflow.models.model: Model logged without a signature and input example. Please set `input_example` parameter when logging the model to auto infer the model signature.\u001b[0m\n"
     ]
    },
    {
     "name": "stdout",
     "output_type": "stream",
     "text": [
      "Random Forest con {'n_estimators': 100, 'max_depth': 10} registrado | R2: 0.8338, MAE: 0.8620, RMSE: 1.2776\n",
      "🏃 View run Random Forest - {'n_estimators': 100, 'max_depth': 10} at: http://localhost:8080/#/experiments/460161067001223350/runs/1e0e0f0390b549cb8870ed4624d76baf\n",
      "🧪 View experiment at: http://localhost:8080/#/experiments/460161067001223350\n",
      "Entrenando XGBoost con {'n_estimators': 50, 'learning_rate': 0.1}...\n"
     ]
    },
    {
     "name": "stderr",
     "output_type": "stream",
     "text": [
      "\u001b[31m2025/02/27 14:16:49 WARNING mlflow.models.model: Model logged without a signature and input example. Please set `input_example` parameter when logging the model to auto infer the model signature.\u001b[0m\n"
     ]
    },
    {
     "name": "stdout",
     "output_type": "stream",
     "text": [
      "XGBoost con {'n_estimators': 50, 'learning_rate': 0.1} registrado | R2: 0.8289, MAE: 0.8686, RMSE: 1.2962\n",
      "🏃 View run XGBoost - {'n_estimators': 50, 'learning_rate': 0.1} at: http://localhost:8080/#/experiments/460161067001223350/runs/5f02fbf57b7a422cadc19055dd09e6ee\n",
      "🧪 View experiment at: http://localhost:8080/#/experiments/460161067001223350\n",
      "Entrenando XGBoost con {'n_estimators': 100, 'learning_rate': 0.05}...\n"
     ]
    },
    {
     "name": "stderr",
     "output_type": "stream",
     "text": [
      "\u001b[31m2025/02/27 14:16:50 WARNING mlflow.models.model: Model logged without a signature and input example. Please set `input_example` parameter when logging the model to auto infer the model signature.\u001b[0m\n"
     ]
    },
    {
     "name": "stdout",
     "output_type": "stream",
     "text": [
      "XGBoost con {'n_estimators': 100, 'learning_rate': 0.05} registrado | R2: 0.8272, MAE: 0.8752, RMSE: 1.3028\n",
      "🏃 View run XGBoost - {'n_estimators': 100, 'learning_rate': 0.05} at: http://localhost:8080/#/experiments/460161067001223350/runs/273059c72b49442fa5fbc59b719ce452\n",
      "🧪 View experiment at: http://localhost:8080/#/experiments/460161067001223350\n",
      "Entrenando LightGBM con {'n_estimators': 50, 'learning_rate': 0.05}...\n",
      "[LightGBM] [Warning] Found whitespace in feature_names, replace with underlines\n",
      "[LightGBM] [Info] Auto-choosing col-wise multi-threading, the overhead of testing was 0.000145 seconds.\n",
      "You can set `force_col_wise=true` to remove the overhead.\n",
      "[LightGBM] [Info] Total Bins 1309\n",
      "[LightGBM] [Info] Number of data points in the train set: 3516, number of used features: 22\n",
      "[LightGBM] [Info] Start training from score 18.917042\n"
     ]
    },
    {
     "name": "stderr",
     "output_type": "stream",
     "text": [
      "\u001b[31m2025/02/27 14:16:52 WARNING mlflow.models.model: Model logged without a signature and input example. Please set `input_example` parameter when logging the model to auto infer the model signature.\u001b[0m\n"
     ]
    },
    {
     "name": "stdout",
     "output_type": "stream",
     "text": [
      "LightGBM con {'n_estimators': 50, 'learning_rate': 0.05} registrado | R2: 0.8188, MAE: 0.8717, RMSE: 1.3341\n",
      "🏃 View run LightGBM - {'n_estimators': 50, 'learning_rate': 0.05} at: http://localhost:8080/#/experiments/460161067001223350/runs/a51570d68bed492180826b37b02a342b\n",
      "🧪 View experiment at: http://localhost:8080/#/experiments/460161067001223350\n",
      "Entrenando LightGBM con {'n_estimators': 100, 'learning_rate': 0.1}...\n",
      "[LightGBM] [Warning] Found whitespace in feature_names, replace with underlines\n",
      "[LightGBM] [Info] Auto-choosing col-wise multi-threading, the overhead of testing was 0.000149 seconds.\n",
      "You can set `force_col_wise=true` to remove the overhead.\n",
      "[LightGBM] [Info] Total Bins 1309\n",
      "[LightGBM] [Info] Number of data points in the train set: 3516, number of used features: 22\n",
      "[LightGBM] [Info] Start training from score 18.917042\n"
     ]
    },
    {
     "name": "stderr",
     "output_type": "stream",
     "text": [
      "\u001b[31m2025/02/27 14:16:55 WARNING mlflow.models.model: Model logged without a signature and input example. Please set `input_example` parameter when logging the model to auto infer the model signature.\u001b[0m\n"
     ]
    },
    {
     "name": "stdout",
     "output_type": "stream",
     "text": [
      "LightGBM con {'n_estimators': 100, 'learning_rate': 0.1} registrado | R2: 0.8223, MAE: 0.8838, RMSE: 1.3214\n",
      "🏃 View run LightGBM - {'n_estimators': 100, 'learning_rate': 0.1} at: http://localhost:8080/#/experiments/460161067001223350/runs/cdb06d365a7743abb5f9ed8dbc40e453\n",
      "🧪 View experiment at: http://localhost:8080/#/experiments/460161067001223350\n",
      "Entrenando CatBoost con {'iterations': 50, 'learning_rate': 0.05, 'depth': 6}...\n"
     ]
    },
    {
     "name": "stderr",
     "output_type": "stream",
     "text": [
      "\u001b[31m2025/02/27 14:16:57 WARNING mlflow.models.model: Model logged without a signature and input example. Please set `input_example` parameter when logging the model to auto infer the model signature.\u001b[0m\n"
     ]
    },
    {
     "name": "stdout",
     "output_type": "stream",
     "text": [
      "CatBoost con {'iterations': 50, 'learning_rate': 0.05, 'depth': 6} registrado | R2: 0.7969, MAE: 0.9182, RMSE: 1.4124\n",
      "🏃 View run CatBoost - {'iterations': 50, 'learning_rate': 0.05, 'depth': 6} at: http://localhost:8080/#/experiments/460161067001223350/runs/ebc0b59496db4367ab8361cd2266feb3\n",
      "🧪 View experiment at: http://localhost:8080/#/experiments/460161067001223350\n",
      "Entrenando CatBoost con {'iterations': 100, 'learning_rate': 0.1, 'depth': 6}...\n"
     ]
    },
    {
     "name": "stderr",
     "output_type": "stream",
     "text": [
      "\u001b[31m2025/02/27 14:16:58 WARNING mlflow.models.model: Model logged without a signature and input example. Please set `input_example` parameter when logging the model to auto infer the model signature.\u001b[0m\n"
     ]
    },
    {
     "name": "stdout",
     "output_type": "stream",
     "text": [
      "CatBoost con {'iterations': 100, 'learning_rate': 0.1, 'depth': 6} registrado | R2: 0.8357, MAE: 0.8520, RMSE: 1.2704\n",
      "🏃 View run CatBoost - {'iterations': 100, 'learning_rate': 0.1, 'depth': 6} at: http://localhost:8080/#/experiments/460161067001223350/runs/1a448598de574f2ca5e5a55fe8f17e5e\n",
      "🧪 View experiment at: http://localhost:8080/#/experiments/460161067001223350\n",
      "Entrenando MLP con {'hidden_layer_sizes': (64, 32), 'max_iter': 100}...\n"
     ]
    },
    {
     "name": "stderr",
     "output_type": "stream",
     "text": [
      "\u001b[31m2025/02/27 14:17:01 WARNING mlflow.models.model: Model logged without a signature and input example. Please set `input_example` parameter when logging the model to auto infer the model signature.\u001b[0m\n"
     ]
    },
    {
     "name": "stdout",
     "output_type": "stream",
     "text": [
      "MLP con {'hidden_layer_sizes': (64, 32), 'max_iter': 100} registrado | R2: 0.4565, MAE: 2.0746, RMSE: 2.3105\n",
      "🏃 View run MLP - {'hidden_layer_sizes': (64, 32), 'max_iter': 100} at: http://localhost:8080/#/experiments/460161067001223350/runs/9d47109e4eb54e3690b373aa839f5a63\n",
      "🧪 View experiment at: http://localhost:8080/#/experiments/460161067001223350\n",
      "Entrenando MLP con {'hidden_layer_sizes': (128, 64), 'max_iter': 200}...\n"
     ]
    },
    {
     "name": "stderr",
     "output_type": "stream",
     "text": [
      "\u001b[31m2025/02/27 14:17:04 WARNING mlflow.models.model: Model logged without a signature and input example. Please set `input_example` parameter when logging the model to auto infer the model signature.\u001b[0m\n"
     ]
    },
    {
     "name": "stdout",
     "output_type": "stream",
     "text": [
      "MLP con {'hidden_layer_sizes': (128, 64), 'max_iter': 200} registrado | R2: 0.7774, MAE: 1.1704, RMSE: 1.4786\n",
      "🏃 View run MLP - {'hidden_layer_sizes': (128, 64), 'max_iter': 200} at: http://localhost:8080/#/experiments/460161067001223350/runs/dbe89c886caa4da3b66b281686077c1c\n",
      "🧪 View experiment at: http://localhost:8080/#/experiments/460161067001223350\n",
      "Entrenando SVR con {'C': 1.0, 'epsilon': 0.1}...\n"
     ]
    },
    {
     "name": "stderr",
     "output_type": "stream",
     "text": [
      "\u001b[31m2025/02/27 14:17:06 WARNING mlflow.models.model: Model logged without a signature and input example. Please set `input_example` parameter when logging the model to auto infer the model signature.\u001b[0m\n"
     ]
    },
    {
     "name": "stdout",
     "output_type": "stream",
     "text": [
      "SVR con {'C': 1.0, 'epsilon': 0.1} registrado | R2: -0.0084, MAE: 2.4059, RMSE: 3.1473\n",
      "🏃 View run SVR - {'C': 1.0, 'epsilon': 0.1} at: http://localhost:8080/#/experiments/460161067001223350/runs/1dfaebddd0534f40815ba802224d0fbe\n",
      "🧪 View experiment at: http://localhost:8080/#/experiments/460161067001223350\n",
      "Entrenando SVR con {'C': 10.0, 'epsilon': 0.05}...\n"
     ]
    },
    {
     "name": "stderr",
     "output_type": "stream",
     "text": [
      "\u001b[31m2025/02/27 14:17:08 WARNING mlflow.models.model: Model logged without a signature and input example. Please set `input_example` parameter when logging the model to auto infer the model signature.\u001b[0m\n"
     ]
    },
    {
     "name": "stdout",
     "output_type": "stream",
     "text": [
      "SVR con {'C': 10.0, 'epsilon': 0.05} registrado | R2: -0.4000, MAE: 2.9880, RMSE: 3.7084\n",
      "🏃 View run SVR - {'C': 10.0, 'epsilon': 0.05} at: http://localhost:8080/#/experiments/460161067001223350/runs/9849a411527f4ae2b9c575031f80c7d2\n",
      "🧪 View experiment at: http://localhost:8080/#/experiments/460161067001223350\n",
      "¡Entrenamiento completado!\n"
     ]
    }
   ],
   "source": [
    "# 2️⃣ Definir los modelos y sus hiperparámetros a probar\n",
    "hiperparametros = {\n",
    "    \"Random Forest\": [\n",
    "        {\"n_estimators\": 50, \"max_depth\": 5},\n",
    "        {\"n_estimators\": 100, \"max_depth\": 10},\n",
    "    ],\n",
    "    \"XGBoost\": [\n",
    "        {\"n_estimators\": 50, \"learning_rate\": 0.1},\n",
    "        {\"n_estimators\": 100, \"learning_rate\": 0.05},\n",
    "    ],\n",
    "    \"LightGBM\": [\n",
    "        {\"n_estimators\": 50, \"learning_rate\": 0.05},\n",
    "        {\"n_estimators\": 100, \"learning_rate\": 0.1},\n",
    "    ],\n",
    "    \"CatBoost\": [\n",
    "        {\"iterations\": 50, \"learning_rate\": 0.05, \"depth\": 6},\n",
    "        {\"iterations\": 100, \"learning_rate\": 0.1, \"depth\": 6},\n",
    "    ],\n",
    "    \"MLP\": [\n",
    "        {\"hidden_layer_sizes\": (64, 32), \"max_iter\": 100},\n",
    "        {\"hidden_layer_sizes\": (128, 64), \"max_iter\": 200},\n",
    "    ],\n",
    "    \"SVR\": [\n",
    "        {\"C\": 1.0, \"epsilon\": 0.1},\n",
    "        {\"C\": 10.0, \"epsilon\": 0.05},\n",
    "    ]\n",
    "}\n",
    "\n",
    "# 3️⃣ Configurar MLflow\n",
    "mlflow.set_experiment(\"Modelos_temp\")\n",
    "\n",
    "# 4️⃣ Entrenar modelos con distintas configuraciones\n",
    "for nombre, lista_parametros in hiperparametros.items():\n",
    "    for params in lista_parametros:\n",
    "        with mlflow.start_run(run_name=f\"{nombre} - {params}\"):\n",
    "            print(f\"Entrenando {nombre} con {params}...\")\n",
    "\n",
    "            # Crear modelo con los parámetros actuales\n",
    "            if nombre == \"Regresión Lineal\":\n",
    "                modelo = LinearRegression()\n",
    "            elif nombre == \"Random Forest\":\n",
    "                modelo = RandomForestRegressor(**params, random_state=42)\n",
    "            elif nombre == \"XGBoost\":\n",
    "                modelo = XGBRegressor(**params, random_state=42)\n",
    "            elif nombre == \"LightGBM\":\n",
    "                modelo = lgb.LGBMRegressor(**params, random_state=42)\n",
    "            elif nombre == \"CatBoost\":\n",
    "                modelo = CatBoostRegressor(**params, random_state=42, verbose=0)\n",
    "            elif nombre == \"MLP\":\n",
    "                modelo = MLPRegressor(**params, random_state=42)\n",
    "            elif nombre == \"SVR\":\n",
    "                modelo = SVR(**params)\n",
    "\n",
    "            # Entrenar modelo\n",
    "            modelo.fit(X_train, y_train)\n",
    "            y_pred = modelo.predict(X_test)\n",
    "\n",
    "            # Calcular métricas\n",
    "            mae = mean_absolute_error(y_test, y_pred)\n",
    "            rmse = np.sqrt(mean_squared_error(y_test, y_pred))\n",
    "            r2 = r2_score(y_test, y_pred)\n",
    "\n",
    "            # Registrar en MLflow\n",
    "            mlflow.log_params(params)  # Guarda los hiperparámetros usados\n",
    "            mlflow.log_metric(\"MAE\", mae)\n",
    "            mlflow.log_metric(\"RMSE\", rmse)\n",
    "            mlflow.log_metric(\"R2\", r2)\n",
    "            mlflow.sklearn.log_model(modelo, f\"modelo_{nombre}\")\n",
    "\n",
    "            print(f\"{nombre} con {params} registrado | R2: {r2:.4f}, MAE: {mae:.4f}, RMSE: {rmse:.4f}\")\n",
    "\n",
    "print(\"¡Entrenamiento completado!\")\n"
   ]
  },
  {
   "cell_type": "code",
   "execution_count": null,
   "metadata": {},
   "outputs": [],
   "source": [
    "# me quedo con el "
   ]
  },
  {
   "cell_type": "code",
   "execution_count": 52,
   "metadata": {},
   "outputs": [
    {
     "name": "stdout",
     "output_type": "stream",
     "text": [
      "Entrenando con diferentes combinaciones de parámetros y registrando en MLflow...\n"
     ]
    },
    {
     "name": "stderr",
     "output_type": "stream",
     "text": [
      "/opt/anaconda3/lib/python3.12/site-packages/mlflow/types/utils.py:452: UserWarning: Hint: Inferred schema contains integer column(s). Integer columns in Python cannot represent missing values. If your input data contains missing values at inference time, it will be encoded as floats and will cause a schema enforcement error. The best way to avoid this problem is to infer the model schema based on a realistic data sample (training dataset) that includes missing values. Alternatively, you can declare integer columns as doubles (float64) whenever these columns may have missing values. See `Handling Integers With Missing Values <https://www.mlflow.org/docs/latest/models.html#handling-integers-with-missing-values>`_ for more details.\n",
      "  warnings.warn(\n",
      "\u001b[31m2025/02/27 14:19:35 WARNING mlflow.models.model: Model logged without a signature and input example. Please set `input_example` parameter when logging the model to auto infer the model signature.\u001b[0m\n",
      "/opt/anaconda3/lib/python3.12/site-packages/mlflow/types/utils.py:452: UserWarning: Hint: Inferred schema contains integer column(s). Integer columns in Python cannot represent missing values. If your input data contains missing values at inference time, it will be encoded as floats and will cause a schema enforcement error. The best way to avoid this problem is to infer the model schema based on a realistic data sample (training dataset) that includes missing values. Alternatively, you can declare integer columns as doubles (float64) whenever these columns may have missing values. See `Handling Integers With Missing Values <https://www.mlflow.org/docs/latest/models.html#handling-integers-with-missing-values>`_ for more details.\n",
      "  warnings.warn(\n"
     ]
    },
    {
     "name": "stdout",
     "output_type": "stream",
     "text": [
      "🏃 View run Modelo CatBoost - {'iterations': 50, 'learning_rate': 0.01, 'depth': 5} at: http://localhost:8080/#/experiments/718553704951825850/runs/f48844413e52421e91727fcfc1c228a2\n",
      "🧪 View experiment at: http://localhost:8080/#/experiments/718553704951825850\n"
     ]
    },
    {
     "name": "stderr",
     "output_type": "stream",
     "text": [
      "\u001b[31m2025/02/27 14:19:39 WARNING mlflow.models.model: Model logged without a signature and input example. Please set `input_example` parameter when logging the model to auto infer the model signature.\u001b[0m\n",
      "/opt/anaconda3/lib/python3.12/site-packages/mlflow/types/utils.py:452: UserWarning: Hint: Inferred schema contains integer column(s). Integer columns in Python cannot represent missing values. If your input data contains missing values at inference time, it will be encoded as floats and will cause a schema enforcement error. The best way to avoid this problem is to infer the model schema based on a realistic data sample (training dataset) that includes missing values. Alternatively, you can declare integer columns as doubles (float64) whenever these columns may have missing values. See `Handling Integers With Missing Values <https://www.mlflow.org/docs/latest/models.html#handling-integers-with-missing-values>`_ for more details.\n",
      "  warnings.warn(\n"
     ]
    },
    {
     "name": "stdout",
     "output_type": "stream",
     "text": [
      "🏃 View run Modelo CatBoost - {'iterations': 50, 'learning_rate': 0.01, 'depth': 6} at: http://localhost:8080/#/experiments/718553704951825850/runs/627e2cfd44c949d4a043fec525ac0124\n",
      "🧪 View experiment at: http://localhost:8080/#/experiments/718553704951825850\n"
     ]
    },
    {
     "name": "stderr",
     "output_type": "stream",
     "text": [
      "\u001b[31m2025/02/27 14:19:42 WARNING mlflow.models.model: Model logged without a signature and input example. Please set `input_example` parameter when logging the model to auto infer the model signature.\u001b[0m\n",
      "/opt/anaconda3/lib/python3.12/site-packages/mlflow/types/utils.py:452: UserWarning: Hint: Inferred schema contains integer column(s). Integer columns in Python cannot represent missing values. If your input data contains missing values at inference time, it will be encoded as floats and will cause a schema enforcement error. The best way to avoid this problem is to infer the model schema based on a realistic data sample (training dataset) that includes missing values. Alternatively, you can declare integer columns as doubles (float64) whenever these columns may have missing values. See `Handling Integers With Missing Values <https://www.mlflow.org/docs/latest/models.html#handling-integers-with-missing-values>`_ for more details.\n",
      "  warnings.warn(\n"
     ]
    },
    {
     "name": "stdout",
     "output_type": "stream",
     "text": [
      "🏃 View run Modelo CatBoost - {'iterations': 50, 'learning_rate': 0.01, 'depth': 10} at: http://localhost:8080/#/experiments/718553704951825850/runs/add3ad5903cb42969edfbc3c205d6bd0\n",
      "🧪 View experiment at: http://localhost:8080/#/experiments/718553704951825850\n"
     ]
    },
    {
     "name": "stderr",
     "output_type": "stream",
     "text": [
      "\u001b[31m2025/02/27 14:19:46 WARNING mlflow.models.model: Model logged without a signature and input example. Please set `input_example` parameter when logging the model to auto infer the model signature.\u001b[0m\n",
      "/opt/anaconda3/lib/python3.12/site-packages/mlflow/types/utils.py:452: UserWarning: Hint: Inferred schema contains integer column(s). Integer columns in Python cannot represent missing values. If your input data contains missing values at inference time, it will be encoded as floats and will cause a schema enforcement error. The best way to avoid this problem is to infer the model schema based on a realistic data sample (training dataset) that includes missing values. Alternatively, you can declare integer columns as doubles (float64) whenever these columns may have missing values. See `Handling Integers With Missing Values <https://www.mlflow.org/docs/latest/models.html#handling-integers-with-missing-values>`_ for more details.\n",
      "  warnings.warn(\n"
     ]
    },
    {
     "name": "stdout",
     "output_type": "stream",
     "text": [
      "🏃 View run Modelo CatBoost - {'iterations': 50, 'learning_rate': 0.05, 'depth': 5} at: http://localhost:8080/#/experiments/718553704951825850/runs/fbff8c0110374dc6a1da29f56de962f0\n",
      "🧪 View experiment at: http://localhost:8080/#/experiments/718553704951825850\n"
     ]
    },
    {
     "name": "stderr",
     "output_type": "stream",
     "text": [
      "\u001b[31m2025/02/27 14:19:50 WARNING mlflow.models.model: Model logged without a signature and input example. Please set `input_example` parameter when logging the model to auto infer the model signature.\u001b[0m\n",
      "/opt/anaconda3/lib/python3.12/site-packages/mlflow/types/utils.py:452: UserWarning: Hint: Inferred schema contains integer column(s). Integer columns in Python cannot represent missing values. If your input data contains missing values at inference time, it will be encoded as floats and will cause a schema enforcement error. The best way to avoid this problem is to infer the model schema based on a realistic data sample (training dataset) that includes missing values. Alternatively, you can declare integer columns as doubles (float64) whenever these columns may have missing values. See `Handling Integers With Missing Values <https://www.mlflow.org/docs/latest/models.html#handling-integers-with-missing-values>`_ for more details.\n",
      "  warnings.warn(\n"
     ]
    },
    {
     "name": "stdout",
     "output_type": "stream",
     "text": [
      "🏃 View run Modelo CatBoost - {'iterations': 50, 'learning_rate': 0.05, 'depth': 6} at: http://localhost:8080/#/experiments/718553704951825850/runs/ea7d109f26cc44978122a71aeefb4d68\n",
      "🧪 View experiment at: http://localhost:8080/#/experiments/718553704951825850\n"
     ]
    },
    {
     "name": "stderr",
     "output_type": "stream",
     "text": [
      "\u001b[31m2025/02/27 14:19:54 WARNING mlflow.models.model: Model logged without a signature and input example. Please set `input_example` parameter when logging the model to auto infer the model signature.\u001b[0m\n",
      "/opt/anaconda3/lib/python3.12/site-packages/mlflow/types/utils.py:452: UserWarning: Hint: Inferred schema contains integer column(s). Integer columns in Python cannot represent missing values. If your input data contains missing values at inference time, it will be encoded as floats and will cause a schema enforcement error. The best way to avoid this problem is to infer the model schema based on a realistic data sample (training dataset) that includes missing values. Alternatively, you can declare integer columns as doubles (float64) whenever these columns may have missing values. See `Handling Integers With Missing Values <https://www.mlflow.org/docs/latest/models.html#handling-integers-with-missing-values>`_ for more details.\n",
      "  warnings.warn(\n"
     ]
    },
    {
     "name": "stdout",
     "output_type": "stream",
     "text": [
      "🏃 View run Modelo CatBoost - {'iterations': 50, 'learning_rate': 0.05, 'depth': 10} at: http://localhost:8080/#/experiments/718553704951825850/runs/2080bc4ed5bb46e3bec7e45133b99a06\n",
      "🧪 View experiment at: http://localhost:8080/#/experiments/718553704951825850\n"
     ]
    },
    {
     "name": "stderr",
     "output_type": "stream",
     "text": [
      "\u001b[31m2025/02/27 14:19:57 WARNING mlflow.models.model: Model logged without a signature and input example. Please set `input_example` parameter when logging the model to auto infer the model signature.\u001b[0m\n",
      "/opt/anaconda3/lib/python3.12/site-packages/mlflow/types/utils.py:452: UserWarning: Hint: Inferred schema contains integer column(s). Integer columns in Python cannot represent missing values. If your input data contains missing values at inference time, it will be encoded as floats and will cause a schema enforcement error. The best way to avoid this problem is to infer the model schema based on a realistic data sample (training dataset) that includes missing values. Alternatively, you can declare integer columns as doubles (float64) whenever these columns may have missing values. See `Handling Integers With Missing Values <https://www.mlflow.org/docs/latest/models.html#handling-integers-with-missing-values>`_ for more details.\n",
      "  warnings.warn(\n"
     ]
    },
    {
     "name": "stdout",
     "output_type": "stream",
     "text": [
      "🏃 View run Modelo CatBoost - {'iterations': 50, 'learning_rate': 0.1, 'depth': 5} at: http://localhost:8080/#/experiments/718553704951825850/runs/523c6ec358324014928bee49ccb587e4\n",
      "🧪 View experiment at: http://localhost:8080/#/experiments/718553704951825850\n"
     ]
    },
    {
     "name": "stderr",
     "output_type": "stream",
     "text": [
      "\u001b[31m2025/02/27 14:20:01 WARNING mlflow.models.model: Model logged without a signature and input example. Please set `input_example` parameter when logging the model to auto infer the model signature.\u001b[0m\n",
      "/opt/anaconda3/lib/python3.12/site-packages/mlflow/types/utils.py:452: UserWarning: Hint: Inferred schema contains integer column(s). Integer columns in Python cannot represent missing values. If your input data contains missing values at inference time, it will be encoded as floats and will cause a schema enforcement error. The best way to avoid this problem is to infer the model schema based on a realistic data sample (training dataset) that includes missing values. Alternatively, you can declare integer columns as doubles (float64) whenever these columns may have missing values. See `Handling Integers With Missing Values <https://www.mlflow.org/docs/latest/models.html#handling-integers-with-missing-values>`_ for more details.\n",
      "  warnings.warn(\n"
     ]
    },
    {
     "name": "stdout",
     "output_type": "stream",
     "text": [
      "🏃 View run Modelo CatBoost - {'iterations': 50, 'learning_rate': 0.1, 'depth': 6} at: http://localhost:8080/#/experiments/718553704951825850/runs/29b106b0a5bc4a4c8513440ea4607377\n",
      "🧪 View experiment at: http://localhost:8080/#/experiments/718553704951825850\n"
     ]
    },
    {
     "name": "stderr",
     "output_type": "stream",
     "text": [
      "\u001b[31m2025/02/27 14:20:04 WARNING mlflow.models.model: Model logged without a signature and input example. Please set `input_example` parameter when logging the model to auto infer the model signature.\u001b[0m\n",
      "/opt/anaconda3/lib/python3.12/site-packages/mlflow/types/utils.py:452: UserWarning: Hint: Inferred schema contains integer column(s). Integer columns in Python cannot represent missing values. If your input data contains missing values at inference time, it will be encoded as floats and will cause a schema enforcement error. The best way to avoid this problem is to infer the model schema based on a realistic data sample (training dataset) that includes missing values. Alternatively, you can declare integer columns as doubles (float64) whenever these columns may have missing values. See `Handling Integers With Missing Values <https://www.mlflow.org/docs/latest/models.html#handling-integers-with-missing-values>`_ for more details.\n",
      "  warnings.warn(\n"
     ]
    },
    {
     "name": "stdout",
     "output_type": "stream",
     "text": [
      "🏃 View run Modelo CatBoost - {'iterations': 50, 'learning_rate': 0.1, 'depth': 10} at: http://localhost:8080/#/experiments/718553704951825850/runs/b9e5e7c40e2342afb57149d0cd28b235\n",
      "🧪 View experiment at: http://localhost:8080/#/experiments/718553704951825850\n"
     ]
    },
    {
     "name": "stderr",
     "output_type": "stream",
     "text": [
      "\u001b[31m2025/02/27 14:20:08 WARNING mlflow.models.model: Model logged without a signature and input example. Please set `input_example` parameter when logging the model to auto infer the model signature.\u001b[0m\n",
      "/opt/anaconda3/lib/python3.12/site-packages/mlflow/types/utils.py:452: UserWarning: Hint: Inferred schema contains integer column(s). Integer columns in Python cannot represent missing values. If your input data contains missing values at inference time, it will be encoded as floats and will cause a schema enforcement error. The best way to avoid this problem is to infer the model schema based on a realistic data sample (training dataset) that includes missing values. Alternatively, you can declare integer columns as doubles (float64) whenever these columns may have missing values. See `Handling Integers With Missing Values <https://www.mlflow.org/docs/latest/models.html#handling-integers-with-missing-values>`_ for more details.\n",
      "  warnings.warn(\n"
     ]
    },
    {
     "name": "stdout",
     "output_type": "stream",
     "text": [
      "🏃 View run Modelo CatBoost - {'iterations': 100, 'learning_rate': 0.01, 'depth': 5} at: http://localhost:8080/#/experiments/718553704951825850/runs/6e3e3252fa3a4b1782e7423b05a00bd7\n",
      "🧪 View experiment at: http://localhost:8080/#/experiments/718553704951825850\n"
     ]
    },
    {
     "name": "stderr",
     "output_type": "stream",
     "text": [
      "\u001b[31m2025/02/27 14:20:12 WARNING mlflow.models.model: Model logged without a signature and input example. Please set `input_example` parameter when logging the model to auto infer the model signature.\u001b[0m\n"
     ]
    },
    {
     "name": "stdout",
     "output_type": "stream",
     "text": [
      "🏃 View run Modelo CatBoost - {'iterations': 100, 'learning_rate': 0.01, 'depth': 6} at: http://localhost:8080/#/experiments/718553704951825850/runs/3a0bdc5b887f4f56b85faf11465fc1a5\n",
      "🧪 View experiment at: http://localhost:8080/#/experiments/718553704951825850\n"
     ]
    },
    {
     "name": "stderr",
     "output_type": "stream",
     "text": [
      "/opt/anaconda3/lib/python3.12/site-packages/mlflow/types/utils.py:452: UserWarning: Hint: Inferred schema contains integer column(s). Integer columns in Python cannot represent missing values. If your input data contains missing values at inference time, it will be encoded as floats and will cause a schema enforcement error. The best way to avoid this problem is to infer the model schema based on a realistic data sample (training dataset) that includes missing values. Alternatively, you can declare integer columns as doubles (float64) whenever these columns may have missing values. See `Handling Integers With Missing Values <https://www.mlflow.org/docs/latest/models.html#handling-integers-with-missing-values>`_ for more details.\n",
      "  warnings.warn(\n",
      "\u001b[31m2025/02/27 14:20:16 WARNING mlflow.models.model: Model logged without a signature and input example. Please set `input_example` parameter when logging the model to auto infer the model signature.\u001b[0m\n",
      "/opt/anaconda3/lib/python3.12/site-packages/mlflow/types/utils.py:452: UserWarning: Hint: Inferred schema contains integer column(s). Integer columns in Python cannot represent missing values. If your input data contains missing values at inference time, it will be encoded as floats and will cause a schema enforcement error. The best way to avoid this problem is to infer the model schema based on a realistic data sample (training dataset) that includes missing values. Alternatively, you can declare integer columns as doubles (float64) whenever these columns may have missing values. See `Handling Integers With Missing Values <https://www.mlflow.org/docs/latest/models.html#handling-integers-with-missing-values>`_ for more details.\n",
      "  warnings.warn(\n"
     ]
    },
    {
     "name": "stdout",
     "output_type": "stream",
     "text": [
      "🏃 View run Modelo CatBoost - {'iterations': 100, 'learning_rate': 0.01, 'depth': 10} at: http://localhost:8080/#/experiments/718553704951825850/runs/92698af405014d6b88f4168fcded663d\n",
      "🧪 View experiment at: http://localhost:8080/#/experiments/718553704951825850\n"
     ]
    },
    {
     "name": "stderr",
     "output_type": "stream",
     "text": [
      "\u001b[31m2025/02/27 14:20:19 WARNING mlflow.models.model: Model logged without a signature and input example. Please set `input_example` parameter when logging the model to auto infer the model signature.\u001b[0m\n",
      "/opt/anaconda3/lib/python3.12/site-packages/mlflow/types/utils.py:452: UserWarning: Hint: Inferred schema contains integer column(s). Integer columns in Python cannot represent missing values. If your input data contains missing values at inference time, it will be encoded as floats and will cause a schema enforcement error. The best way to avoid this problem is to infer the model schema based on a realistic data sample (training dataset) that includes missing values. Alternatively, you can declare integer columns as doubles (float64) whenever these columns may have missing values. See `Handling Integers With Missing Values <https://www.mlflow.org/docs/latest/models.html#handling-integers-with-missing-values>`_ for more details.\n",
      "  warnings.warn(\n"
     ]
    },
    {
     "name": "stdout",
     "output_type": "stream",
     "text": [
      "🏃 View run Modelo CatBoost - {'iterations': 100, 'learning_rate': 0.05, 'depth': 5} at: http://localhost:8080/#/experiments/718553704951825850/runs/f3d4d898c6b245e9b88f652b1979840c\n",
      "🧪 View experiment at: http://localhost:8080/#/experiments/718553704951825850\n"
     ]
    },
    {
     "name": "stderr",
     "output_type": "stream",
     "text": [
      "\u001b[31m2025/02/27 14:20:23 WARNING mlflow.models.model: Model logged without a signature and input example. Please set `input_example` parameter when logging the model to auto infer the model signature.\u001b[0m\n"
     ]
    },
    {
     "name": "stdout",
     "output_type": "stream",
     "text": [
      "🏃 View run Modelo CatBoost - {'iterations': 100, 'learning_rate': 0.05, 'depth': 6} at: http://localhost:8080/#/experiments/718553704951825850/runs/373aed8c6a46418ea2728f0466a21f66\n",
      "🧪 View experiment at: http://localhost:8080/#/experiments/718553704951825850\n"
     ]
    },
    {
     "name": "stderr",
     "output_type": "stream",
     "text": [
      "/opt/anaconda3/lib/python3.12/site-packages/mlflow/types/utils.py:452: UserWarning: Hint: Inferred schema contains integer column(s). Integer columns in Python cannot represent missing values. If your input data contains missing values at inference time, it will be encoded as floats and will cause a schema enforcement error. The best way to avoid this problem is to infer the model schema based on a realistic data sample (training dataset) that includes missing values. Alternatively, you can declare integer columns as doubles (float64) whenever these columns may have missing values. See `Handling Integers With Missing Values <https://www.mlflow.org/docs/latest/models.html#handling-integers-with-missing-values>`_ for more details.\n",
      "  warnings.warn(\n",
      "\u001b[31m2025/02/27 14:20:27 WARNING mlflow.models.model: Model logged without a signature and input example. Please set `input_example` parameter when logging the model to auto infer the model signature.\u001b[0m\n",
      "/opt/anaconda3/lib/python3.12/site-packages/mlflow/types/utils.py:452: UserWarning: Hint: Inferred schema contains integer column(s). Integer columns in Python cannot represent missing values. If your input data contains missing values at inference time, it will be encoded as floats and will cause a schema enforcement error. The best way to avoid this problem is to infer the model schema based on a realistic data sample (training dataset) that includes missing values. Alternatively, you can declare integer columns as doubles (float64) whenever these columns may have missing values. See `Handling Integers With Missing Values <https://www.mlflow.org/docs/latest/models.html#handling-integers-with-missing-values>`_ for more details.\n",
      "  warnings.warn(\n"
     ]
    },
    {
     "name": "stdout",
     "output_type": "stream",
     "text": [
      "🏃 View run Modelo CatBoost - {'iterations': 100, 'learning_rate': 0.05, 'depth': 10} at: http://localhost:8080/#/experiments/718553704951825850/runs/8e384aa71edc4a8dbd19679f33dc150e\n",
      "🧪 View experiment at: http://localhost:8080/#/experiments/718553704951825850\n"
     ]
    },
    {
     "name": "stderr",
     "output_type": "stream",
     "text": [
      "\u001b[31m2025/02/27 14:20:30 WARNING mlflow.models.model: Model logged without a signature and input example. Please set `input_example` parameter when logging the model to auto infer the model signature.\u001b[0m\n",
      "/opt/anaconda3/lib/python3.12/site-packages/mlflow/types/utils.py:452: UserWarning: Hint: Inferred schema contains integer column(s). Integer columns in Python cannot represent missing values. If your input data contains missing values at inference time, it will be encoded as floats and will cause a schema enforcement error. The best way to avoid this problem is to infer the model schema based on a realistic data sample (training dataset) that includes missing values. Alternatively, you can declare integer columns as doubles (float64) whenever these columns may have missing values. See `Handling Integers With Missing Values <https://www.mlflow.org/docs/latest/models.html#handling-integers-with-missing-values>`_ for more details.\n",
      "  warnings.warn(\n"
     ]
    },
    {
     "name": "stdout",
     "output_type": "stream",
     "text": [
      "🏃 View run Modelo CatBoost - {'iterations': 100, 'learning_rate': 0.1, 'depth': 5} at: http://localhost:8080/#/experiments/718553704951825850/runs/30bab6142ca349d8aa1da0e6222967d7\n",
      "🧪 View experiment at: http://localhost:8080/#/experiments/718553704951825850\n"
     ]
    },
    {
     "name": "stderr",
     "output_type": "stream",
     "text": [
      "\u001b[31m2025/02/27 14:20:34 WARNING mlflow.models.model: Model logged without a signature and input example. Please set `input_example` parameter when logging the model to auto infer the model signature.\u001b[0m\n"
     ]
    },
    {
     "name": "stdout",
     "output_type": "stream",
     "text": [
      "🏃 View run Modelo CatBoost - {'iterations': 100, 'learning_rate': 0.1, 'depth': 6} at: http://localhost:8080/#/experiments/718553704951825850/runs/e9fed5683fbd402aa7fec1f976402fae\n",
      "🧪 View experiment at: http://localhost:8080/#/experiments/718553704951825850\n"
     ]
    },
    {
     "name": "stderr",
     "output_type": "stream",
     "text": [
      "/opt/anaconda3/lib/python3.12/site-packages/mlflow/types/utils.py:452: UserWarning: Hint: Inferred schema contains integer column(s). Integer columns in Python cannot represent missing values. If your input data contains missing values at inference time, it will be encoded as floats and will cause a schema enforcement error. The best way to avoid this problem is to infer the model schema based on a realistic data sample (training dataset) that includes missing values. Alternatively, you can declare integer columns as doubles (float64) whenever these columns may have missing values. See `Handling Integers With Missing Values <https://www.mlflow.org/docs/latest/models.html#handling-integers-with-missing-values>`_ for more details.\n",
      "  warnings.warn(\n",
      "\u001b[31m2025/02/27 14:20:38 WARNING mlflow.models.model: Model logged without a signature and input example. Please set `input_example` parameter when logging the model to auto infer the model signature.\u001b[0m\n",
      "/opt/anaconda3/lib/python3.12/site-packages/mlflow/types/utils.py:452: UserWarning: Hint: Inferred schema contains integer column(s). Integer columns in Python cannot represent missing values. If your input data contains missing values at inference time, it will be encoded as floats and will cause a schema enforcement error. The best way to avoid this problem is to infer the model schema based on a realistic data sample (training dataset) that includes missing values. Alternatively, you can declare integer columns as doubles (float64) whenever these columns may have missing values. See `Handling Integers With Missing Values <https://www.mlflow.org/docs/latest/models.html#handling-integers-with-missing-values>`_ for more details.\n",
      "  warnings.warn(\n"
     ]
    },
    {
     "name": "stdout",
     "output_type": "stream",
     "text": [
      "🏃 View run Modelo CatBoost - {'iterations': 100, 'learning_rate': 0.1, 'depth': 10} at: http://localhost:8080/#/experiments/718553704951825850/runs/b176cdfb52834d9ba1f2e3bbc1933b86\n",
      "🧪 View experiment at: http://localhost:8080/#/experiments/718553704951825850\n"
     ]
    },
    {
     "name": "stderr",
     "output_type": "stream",
     "text": [
      "\u001b[31m2025/02/27 14:20:41 WARNING mlflow.models.model: Model logged without a signature and input example. Please set `input_example` parameter when logging the model to auto infer the model signature.\u001b[0m\n",
      "/opt/anaconda3/lib/python3.12/site-packages/mlflow/types/utils.py:452: UserWarning: Hint: Inferred schema contains integer column(s). Integer columns in Python cannot represent missing values. If your input data contains missing values at inference time, it will be encoded as floats and will cause a schema enforcement error. The best way to avoid this problem is to infer the model schema based on a realistic data sample (training dataset) that includes missing values. Alternatively, you can declare integer columns as doubles (float64) whenever these columns may have missing values. See `Handling Integers With Missing Values <https://www.mlflow.org/docs/latest/models.html#handling-integers-with-missing-values>`_ for more details.\n",
      "  warnings.warn(\n"
     ]
    },
    {
     "name": "stdout",
     "output_type": "stream",
     "text": [
      "🏃 View run Modelo CatBoost - {'iterations': 200, 'learning_rate': 0.01, 'depth': 5} at: http://localhost:8080/#/experiments/718553704951825850/runs/862657ff0d5340fbb8118686172f076e\n",
      "🧪 View experiment at: http://localhost:8080/#/experiments/718553704951825850\n"
     ]
    },
    {
     "name": "stderr",
     "output_type": "stream",
     "text": [
      "\u001b[31m2025/02/27 14:20:45 WARNING mlflow.models.model: Model logged without a signature and input example. Please set `input_example` parameter when logging the model to auto infer the model signature.\u001b[0m\n"
     ]
    },
    {
     "name": "stdout",
     "output_type": "stream",
     "text": [
      "🏃 View run Modelo CatBoost - {'iterations': 200, 'learning_rate': 0.01, 'depth': 6} at: http://localhost:8080/#/experiments/718553704951825850/runs/5b7e6d5566064c82aa8aa4f69a919ff1\n",
      "🧪 View experiment at: http://localhost:8080/#/experiments/718553704951825850\n"
     ]
    },
    {
     "name": "stderr",
     "output_type": "stream",
     "text": [
      "/opt/anaconda3/lib/python3.12/site-packages/mlflow/types/utils.py:452: UserWarning: Hint: Inferred schema contains integer column(s). Integer columns in Python cannot represent missing values. If your input data contains missing values at inference time, it will be encoded as floats and will cause a schema enforcement error. The best way to avoid this problem is to infer the model schema based on a realistic data sample (training dataset) that includes missing values. Alternatively, you can declare integer columns as doubles (float64) whenever these columns may have missing values. See `Handling Integers With Missing Values <https://www.mlflow.org/docs/latest/models.html#handling-integers-with-missing-values>`_ for more details.\n",
      "  warnings.warn(\n",
      "\u001b[31m2025/02/27 14:20:49 WARNING mlflow.models.model: Model logged without a signature and input example. Please set `input_example` parameter when logging the model to auto infer the model signature.\u001b[0m\n",
      "/opt/anaconda3/lib/python3.12/site-packages/mlflow/types/utils.py:452: UserWarning: Hint: Inferred schema contains integer column(s). Integer columns in Python cannot represent missing values. If your input data contains missing values at inference time, it will be encoded as floats and will cause a schema enforcement error. The best way to avoid this problem is to infer the model schema based on a realistic data sample (training dataset) that includes missing values. Alternatively, you can declare integer columns as doubles (float64) whenever these columns may have missing values. See `Handling Integers With Missing Values <https://www.mlflow.org/docs/latest/models.html#handling-integers-with-missing-values>`_ for more details.\n",
      "  warnings.warn(\n"
     ]
    },
    {
     "name": "stdout",
     "output_type": "stream",
     "text": [
      "🏃 View run Modelo CatBoost - {'iterations': 200, 'learning_rate': 0.01, 'depth': 10} at: http://localhost:8080/#/experiments/718553704951825850/runs/1e85e0715104411b8950f3168aafe092\n",
      "🧪 View experiment at: http://localhost:8080/#/experiments/718553704951825850\n"
     ]
    },
    {
     "name": "stderr",
     "output_type": "stream",
     "text": [
      "\u001b[31m2025/02/27 14:20:53 WARNING mlflow.models.model: Model logged without a signature and input example. Please set `input_example` parameter when logging the model to auto infer the model signature.\u001b[0m\n",
      "/opt/anaconda3/lib/python3.12/site-packages/mlflow/types/utils.py:452: UserWarning: Hint: Inferred schema contains integer column(s). Integer columns in Python cannot represent missing values. If your input data contains missing values at inference time, it will be encoded as floats and will cause a schema enforcement error. The best way to avoid this problem is to infer the model schema based on a realistic data sample (training dataset) that includes missing values. Alternatively, you can declare integer columns as doubles (float64) whenever these columns may have missing values. See `Handling Integers With Missing Values <https://www.mlflow.org/docs/latest/models.html#handling-integers-with-missing-values>`_ for more details.\n",
      "  warnings.warn(\n"
     ]
    },
    {
     "name": "stdout",
     "output_type": "stream",
     "text": [
      "🏃 View run Modelo CatBoost - {'iterations': 200, 'learning_rate': 0.05, 'depth': 5} at: http://localhost:8080/#/experiments/718553704951825850/runs/9e5360e02a5849499989a0d8a0f07ca1\n",
      "🧪 View experiment at: http://localhost:8080/#/experiments/718553704951825850\n"
     ]
    },
    {
     "name": "stderr",
     "output_type": "stream",
     "text": [
      "\u001b[31m2025/02/27 14:20:57 WARNING mlflow.models.model: Model logged without a signature and input example. Please set `input_example` parameter when logging the model to auto infer the model signature.\u001b[0m\n"
     ]
    },
    {
     "name": "stdout",
     "output_type": "stream",
     "text": [
      "🏃 View run Modelo CatBoost - {'iterations': 200, 'learning_rate': 0.05, 'depth': 6} at: http://localhost:8080/#/experiments/718553704951825850/runs/073deb8119c545458aaa7da147b46235\n",
      "🧪 View experiment at: http://localhost:8080/#/experiments/718553704951825850\n"
     ]
    },
    {
     "name": "stderr",
     "output_type": "stream",
     "text": [
      "/opt/anaconda3/lib/python3.12/site-packages/mlflow/types/utils.py:452: UserWarning: Hint: Inferred schema contains integer column(s). Integer columns in Python cannot represent missing values. If your input data contains missing values at inference time, it will be encoded as floats and will cause a schema enforcement error. The best way to avoid this problem is to infer the model schema based on a realistic data sample (training dataset) that includes missing values. Alternatively, you can declare integer columns as doubles (float64) whenever these columns may have missing values. See `Handling Integers With Missing Values <https://www.mlflow.org/docs/latest/models.html#handling-integers-with-missing-values>`_ for more details.\n",
      "  warnings.warn(\n",
      "\u001b[31m2025/02/27 14:21:01 WARNING mlflow.models.model: Model logged without a signature and input example. Please set `input_example` parameter when logging the model to auto infer the model signature.\u001b[0m\n",
      "/opt/anaconda3/lib/python3.12/site-packages/mlflow/types/utils.py:452: UserWarning: Hint: Inferred schema contains integer column(s). Integer columns in Python cannot represent missing values. If your input data contains missing values at inference time, it will be encoded as floats and will cause a schema enforcement error. The best way to avoid this problem is to infer the model schema based on a realistic data sample (training dataset) that includes missing values. Alternatively, you can declare integer columns as doubles (float64) whenever these columns may have missing values. See `Handling Integers With Missing Values <https://www.mlflow.org/docs/latest/models.html#handling-integers-with-missing-values>`_ for more details.\n",
      "  warnings.warn(\n"
     ]
    },
    {
     "name": "stdout",
     "output_type": "stream",
     "text": [
      "🏃 View run Modelo CatBoost - {'iterations': 200, 'learning_rate': 0.05, 'depth': 10} at: http://localhost:8080/#/experiments/718553704951825850/runs/de87eda4fdf443698ef1c242c1d45ef7\n",
      "🧪 View experiment at: http://localhost:8080/#/experiments/718553704951825850\n"
     ]
    },
    {
     "name": "stderr",
     "output_type": "stream",
     "text": [
      "\u001b[31m2025/02/27 14:21:05 WARNING mlflow.models.model: Model logged without a signature and input example. Please set `input_example` parameter when logging the model to auto infer the model signature.\u001b[0m\n"
     ]
    },
    {
     "name": "stdout",
     "output_type": "stream",
     "text": [
      "🏃 View run Modelo CatBoost - {'iterations': 200, 'learning_rate': 0.1, 'depth': 5} at: http://localhost:8080/#/experiments/718553704951825850/runs/80b8d8e8f607400eae39de86b5e043f8\n",
      "🧪 View experiment at: http://localhost:8080/#/experiments/718553704951825850\n"
     ]
    },
    {
     "name": "stderr",
     "output_type": "stream",
     "text": [
      "/opt/anaconda3/lib/python3.12/site-packages/mlflow/types/utils.py:452: UserWarning: Hint: Inferred schema contains integer column(s). Integer columns in Python cannot represent missing values. If your input data contains missing values at inference time, it will be encoded as floats and will cause a schema enforcement error. The best way to avoid this problem is to infer the model schema based on a realistic data sample (training dataset) that includes missing values. Alternatively, you can declare integer columns as doubles (float64) whenever these columns may have missing values. See `Handling Integers With Missing Values <https://www.mlflow.org/docs/latest/models.html#handling-integers-with-missing-values>`_ for more details.\n",
      "  warnings.warn(\n",
      "\u001b[31m2025/02/27 14:21:08 WARNING mlflow.models.model: Model logged without a signature and input example. Please set `input_example` parameter when logging the model to auto infer the model signature.\u001b[0m\n"
     ]
    },
    {
     "name": "stdout",
     "output_type": "stream",
     "text": [
      "🏃 View run Modelo CatBoost - {'iterations': 200, 'learning_rate': 0.1, 'depth': 6} at: http://localhost:8080/#/experiments/718553704951825850/runs/80269c3aa9544a08af50e0c182e5f4d7\n",
      "🧪 View experiment at: http://localhost:8080/#/experiments/718553704951825850\n"
     ]
    },
    {
     "name": "stderr",
     "output_type": "stream",
     "text": [
      "/opt/anaconda3/lib/python3.12/site-packages/mlflow/types/utils.py:452: UserWarning: Hint: Inferred schema contains integer column(s). Integer columns in Python cannot represent missing values. If your input data contains missing values at inference time, it will be encoded as floats and will cause a schema enforcement error. The best way to avoid this problem is to infer the model schema based on a realistic data sample (training dataset) that includes missing values. Alternatively, you can declare integer columns as doubles (float64) whenever these columns may have missing values. See `Handling Integers With Missing Values <https://www.mlflow.org/docs/latest/models.html#handling-integers-with-missing-values>`_ for more details.\n",
      "  warnings.warn(\n",
      "\u001b[31m2025/02/27 14:21:13 WARNING mlflow.models.model: Model logged without a signature and input example. Please set `input_example` parameter when logging the model to auto infer the model signature.\u001b[0m\n"
     ]
    },
    {
     "name": "stdout",
     "output_type": "stream",
     "text": [
      "🏃 View run Modelo CatBoost - {'iterations': 200, 'learning_rate': 0.1, 'depth': 10} at: http://localhost:8080/#/experiments/718553704951825850/runs/1d790a5db1d044ddadba875574c092c8\n",
      "🧪 View experiment at: http://localhost:8080/#/experiments/718553704951825850\n"
     ]
    },
    {
     "name": "stderr",
     "output_type": "stream",
     "text": [
      "/opt/anaconda3/lib/python3.12/site-packages/mlflow/types/utils.py:452: UserWarning: Hint: Inferred schema contains integer column(s). Integer columns in Python cannot represent missing values. If your input data contains missing values at inference time, it will be encoded as floats and will cause a schema enforcement error. The best way to avoid this problem is to infer the model schema based on a realistic data sample (training dataset) that includes missing values. Alternatively, you can declare integer columns as doubles (float64) whenever these columns may have missing values. See `Handling Integers With Missing Values <https://www.mlflow.org/docs/latest/models.html#handling-integers-with-missing-values>`_ for more details.\n",
      "  warnings.warn(\n",
      "\u001b[31m2025/02/27 14:21:16 WARNING mlflow.models.model: Model logged without a signature and input example. Please set `input_example` parameter when logging the model to auto infer the model signature.\u001b[0m\n"
     ]
    },
    {
     "name": "stdout",
     "output_type": "stream",
     "text": [
      "🏃 View run Modelo CatBoost - {'iterations': 500, 'learning_rate': 0.01, 'depth': 5} at: http://localhost:8080/#/experiments/718553704951825850/runs/94041a3189034b46ae9b1ef66f51b481\n",
      "🧪 View experiment at: http://localhost:8080/#/experiments/718553704951825850\n"
     ]
    },
    {
     "name": "stderr",
     "output_type": "stream",
     "text": [
      "/opt/anaconda3/lib/python3.12/site-packages/mlflow/types/utils.py:452: UserWarning: Hint: Inferred schema contains integer column(s). Integer columns in Python cannot represent missing values. If your input data contains missing values at inference time, it will be encoded as floats and will cause a schema enforcement error. The best way to avoid this problem is to infer the model schema based on a realistic data sample (training dataset) that includes missing values. Alternatively, you can declare integer columns as doubles (float64) whenever these columns may have missing values. See `Handling Integers With Missing Values <https://www.mlflow.org/docs/latest/models.html#handling-integers-with-missing-values>`_ for more details.\n",
      "  warnings.warn(\n",
      "\u001b[31m2025/02/27 14:21:20 WARNING mlflow.models.model: Model logged without a signature and input example. Please set `input_example` parameter when logging the model to auto infer the model signature.\u001b[0m\n"
     ]
    },
    {
     "name": "stdout",
     "output_type": "stream",
     "text": [
      "🏃 View run Modelo CatBoost - {'iterations': 500, 'learning_rate': 0.01, 'depth': 6} at: http://localhost:8080/#/experiments/718553704951825850/runs/9b3c8577c96c48f9ae668a8202f7677e\n",
      "🧪 View experiment at: http://localhost:8080/#/experiments/718553704951825850\n"
     ]
    },
    {
     "name": "stderr",
     "output_type": "stream",
     "text": [
      "/opt/anaconda3/lib/python3.12/site-packages/mlflow/types/utils.py:452: UserWarning: Hint: Inferred schema contains integer column(s). Integer columns in Python cannot represent missing values. If your input data contains missing values at inference time, it will be encoded as floats and will cause a schema enforcement error. The best way to avoid this problem is to infer the model schema based on a realistic data sample (training dataset) that includes missing values. Alternatively, you can declare integer columns as doubles (float64) whenever these columns may have missing values. See `Handling Integers With Missing Values <https://www.mlflow.org/docs/latest/models.html#handling-integers-with-missing-values>`_ for more details.\n",
      "  warnings.warn(\n",
      "\u001b[31m2025/02/27 14:21:25 WARNING mlflow.models.model: Model logged without a signature and input example. Please set `input_example` parameter when logging the model to auto infer the model signature.\u001b[0m\n"
     ]
    },
    {
     "name": "stdout",
     "output_type": "stream",
     "text": [
      "🏃 View run Modelo CatBoost - {'iterations': 500, 'learning_rate': 0.01, 'depth': 10} at: http://localhost:8080/#/experiments/718553704951825850/runs/4fcce67095174eac9c7882af3378027a\n",
      "🧪 View experiment at: http://localhost:8080/#/experiments/718553704951825850\n"
     ]
    },
    {
     "name": "stderr",
     "output_type": "stream",
     "text": [
      "/opt/anaconda3/lib/python3.12/site-packages/mlflow/types/utils.py:452: UserWarning: Hint: Inferred schema contains integer column(s). Integer columns in Python cannot represent missing values. If your input data contains missing values at inference time, it will be encoded as floats and will cause a schema enforcement error. The best way to avoid this problem is to infer the model schema based on a realistic data sample (training dataset) that includes missing values. Alternatively, you can declare integer columns as doubles (float64) whenever these columns may have missing values. See `Handling Integers With Missing Values <https://www.mlflow.org/docs/latest/models.html#handling-integers-with-missing-values>`_ for more details.\n",
      "  warnings.warn(\n",
      "\u001b[31m2025/02/27 14:21:29 WARNING mlflow.models.model: Model logged without a signature and input example. Please set `input_example` parameter when logging the model to auto infer the model signature.\u001b[0m\n"
     ]
    },
    {
     "name": "stdout",
     "output_type": "stream",
     "text": [
      "🏃 View run Modelo CatBoost - {'iterations': 500, 'learning_rate': 0.05, 'depth': 5} at: http://localhost:8080/#/experiments/718553704951825850/runs/d742d63bf6ea433a96d77e1e206becdf\n",
      "🧪 View experiment at: http://localhost:8080/#/experiments/718553704951825850\n"
     ]
    },
    {
     "name": "stderr",
     "output_type": "stream",
     "text": [
      "/opt/anaconda3/lib/python3.12/site-packages/mlflow/types/utils.py:452: UserWarning: Hint: Inferred schema contains integer column(s). Integer columns in Python cannot represent missing values. If your input data contains missing values at inference time, it will be encoded as floats and will cause a schema enforcement error. The best way to avoid this problem is to infer the model schema based on a realistic data sample (training dataset) that includes missing values. Alternatively, you can declare integer columns as doubles (float64) whenever these columns may have missing values. See `Handling Integers With Missing Values <https://www.mlflow.org/docs/latest/models.html#handling-integers-with-missing-values>`_ for more details.\n",
      "  warnings.warn(\n",
      "\u001b[31m2025/02/27 14:21:33 WARNING mlflow.models.model: Model logged without a signature and input example. Please set `input_example` parameter when logging the model to auto infer the model signature.\u001b[0m\n"
     ]
    },
    {
     "name": "stdout",
     "output_type": "stream",
     "text": [
      "🏃 View run Modelo CatBoost - {'iterations': 500, 'learning_rate': 0.05, 'depth': 6} at: http://localhost:8080/#/experiments/718553704951825850/runs/1669f0665e344f58ad8d8adf1d36c4a3\n",
      "🧪 View experiment at: http://localhost:8080/#/experiments/718553704951825850\n"
     ]
    },
    {
     "name": "stderr",
     "output_type": "stream",
     "text": [
      "/opt/anaconda3/lib/python3.12/site-packages/mlflow/types/utils.py:452: UserWarning: Hint: Inferred schema contains integer column(s). Integer columns in Python cannot represent missing values. If your input data contains missing values at inference time, it will be encoded as floats and will cause a schema enforcement error. The best way to avoid this problem is to infer the model schema based on a realistic data sample (training dataset) that includes missing values. Alternatively, you can declare integer columns as doubles (float64) whenever these columns may have missing values. See `Handling Integers With Missing Values <https://www.mlflow.org/docs/latest/models.html#handling-integers-with-missing-values>`_ for more details.\n",
      "  warnings.warn(\n",
      "\u001b[31m2025/02/27 14:21:38 WARNING mlflow.models.model: Model logged without a signature and input example. Please set `input_example` parameter when logging the model to auto infer the model signature.\u001b[0m\n"
     ]
    },
    {
     "name": "stdout",
     "output_type": "stream",
     "text": [
      "🏃 View run Modelo CatBoost - {'iterations': 500, 'learning_rate': 0.05, 'depth': 10} at: http://localhost:8080/#/experiments/718553704951825850/runs/b17f2fae8cac4f21bd14535b95d76df9\n",
      "🧪 View experiment at: http://localhost:8080/#/experiments/718553704951825850\n"
     ]
    },
    {
     "name": "stderr",
     "output_type": "stream",
     "text": [
      "/opt/anaconda3/lib/python3.12/site-packages/mlflow/types/utils.py:452: UserWarning: Hint: Inferred schema contains integer column(s). Integer columns in Python cannot represent missing values. If your input data contains missing values at inference time, it will be encoded as floats and will cause a schema enforcement error. The best way to avoid this problem is to infer the model schema based on a realistic data sample (training dataset) that includes missing values. Alternatively, you can declare integer columns as doubles (float64) whenever these columns may have missing values. See `Handling Integers With Missing Values <https://www.mlflow.org/docs/latest/models.html#handling-integers-with-missing-values>`_ for more details.\n",
      "  warnings.warn(\n",
      "\u001b[31m2025/02/27 14:21:42 WARNING mlflow.models.model: Model logged without a signature and input example. Please set `input_example` parameter when logging the model to auto infer the model signature.\u001b[0m\n"
     ]
    },
    {
     "name": "stdout",
     "output_type": "stream",
     "text": [
      "🏃 View run Modelo CatBoost - {'iterations': 500, 'learning_rate': 0.1, 'depth': 5} at: http://localhost:8080/#/experiments/718553704951825850/runs/15b61e0f3f684b68997cee1b44343349\n",
      "🧪 View experiment at: http://localhost:8080/#/experiments/718553704951825850\n"
     ]
    },
    {
     "name": "stderr",
     "output_type": "stream",
     "text": [
      "/opt/anaconda3/lib/python3.12/site-packages/mlflow/types/utils.py:452: UserWarning: Hint: Inferred schema contains integer column(s). Integer columns in Python cannot represent missing values. If your input data contains missing values at inference time, it will be encoded as floats and will cause a schema enforcement error. The best way to avoid this problem is to infer the model schema based on a realistic data sample (training dataset) that includes missing values. Alternatively, you can declare integer columns as doubles (float64) whenever these columns may have missing values. See `Handling Integers With Missing Values <https://www.mlflow.org/docs/latest/models.html#handling-integers-with-missing-values>`_ for more details.\n",
      "  warnings.warn(\n",
      "\u001b[31m2025/02/27 14:21:46 WARNING mlflow.models.model: Model logged without a signature and input example. Please set `input_example` parameter when logging the model to auto infer the model signature.\u001b[0m\n"
     ]
    },
    {
     "name": "stdout",
     "output_type": "stream",
     "text": [
      "🏃 View run Modelo CatBoost - {'iterations': 500, 'learning_rate': 0.1, 'depth': 6} at: http://localhost:8080/#/experiments/718553704951825850/runs/99f370b82b1d4c7b804f4d4d71a2e2c5\n",
      "🧪 View experiment at: http://localhost:8080/#/experiments/718553704951825850\n"
     ]
    },
    {
     "name": "stderr",
     "output_type": "stream",
     "text": [
      "/opt/anaconda3/lib/python3.12/site-packages/mlflow/types/utils.py:452: UserWarning: Hint: Inferred schema contains integer column(s). Integer columns in Python cannot represent missing values. If your input data contains missing values at inference time, it will be encoded as floats and will cause a schema enforcement error. The best way to avoid this problem is to infer the model schema based on a realistic data sample (training dataset) that includes missing values. Alternatively, you can declare integer columns as doubles (float64) whenever these columns may have missing values. See `Handling Integers With Missing Values <https://www.mlflow.org/docs/latest/models.html#handling-integers-with-missing-values>`_ for more details.\n",
      "  warnings.warn(\n",
      "\u001b[31m2025/02/27 14:21:51 WARNING mlflow.models.model: Model logged without a signature and input example. Please set `input_example` parameter when logging the model to auto infer the model signature.\u001b[0m\n"
     ]
    },
    {
     "name": "stdout",
     "output_type": "stream",
     "text": [
      "🏃 View run Modelo CatBoost - {'iterations': 500, 'learning_rate': 0.1, 'depth': 10} at: http://localhost:8080/#/experiments/718553704951825850/runs/0ede803b36d64f2199d044e09005085a\n",
      "🧪 View experiment at: http://localhost:8080/#/experiments/718553704951825850\n"
     ]
    },
    {
     "name": "stderr",
     "output_type": "stream",
     "text": [
      "/opt/anaconda3/lib/python3.12/site-packages/mlflow/types/utils.py:452: UserWarning: Hint: Inferred schema contains integer column(s). Integer columns in Python cannot represent missing values. If your input data contains missing values at inference time, it will be encoded as floats and will cause a schema enforcement error. The best way to avoid this problem is to infer the model schema based on a realistic data sample (training dataset) that includes missing values. Alternatively, you can declare integer columns as doubles (float64) whenever these columns may have missing values. See `Handling Integers With Missing Values <https://www.mlflow.org/docs/latest/models.html#handling-integers-with-missing-values>`_ for more details.\n",
      "  warnings.warn(\n",
      "\u001b[31m2025/02/27 14:21:55 WARNING mlflow.models.model: Model logged without a signature and input example. Please set `input_example` parameter when logging the model to auto infer the model signature.\u001b[0m\n"
     ]
    },
    {
     "name": "stdout",
     "output_type": "stream",
     "text": [
      "🏃 View run Modelo CatBoost - {'iterations': 1000, 'learning_rate': 0.01, 'depth': 5} at: http://localhost:8080/#/experiments/718553704951825850/runs/7641357152db46508c8c7f678d338e85\n",
      "🧪 View experiment at: http://localhost:8080/#/experiments/718553704951825850\n"
     ]
    },
    {
     "name": "stderr",
     "output_type": "stream",
     "text": [
      "/opt/anaconda3/lib/python3.12/site-packages/mlflow/types/utils.py:452: UserWarning: Hint: Inferred schema contains integer column(s). Integer columns in Python cannot represent missing values. If your input data contains missing values at inference time, it will be encoded as floats and will cause a schema enforcement error. The best way to avoid this problem is to infer the model schema based on a realistic data sample (training dataset) that includes missing values. Alternatively, you can declare integer columns as doubles (float64) whenever these columns may have missing values. See `Handling Integers With Missing Values <https://www.mlflow.org/docs/latest/models.html#handling-integers-with-missing-values>`_ for more details.\n",
      "  warnings.warn(\n",
      "\u001b[31m2025/02/27 14:21:59 WARNING mlflow.models.model: Model logged without a signature and input example. Please set `input_example` parameter when logging the model to auto infer the model signature.\u001b[0m\n"
     ]
    },
    {
     "name": "stdout",
     "output_type": "stream",
     "text": [
      "🏃 View run Modelo CatBoost - {'iterations': 1000, 'learning_rate': 0.01, 'depth': 6} at: http://localhost:8080/#/experiments/718553704951825850/runs/db7ced2cb32340cd80367c9f1fb208da\n",
      "🧪 View experiment at: http://localhost:8080/#/experiments/718553704951825850\n"
     ]
    },
    {
     "name": "stderr",
     "output_type": "stream",
     "text": [
      "/opt/anaconda3/lib/python3.12/site-packages/mlflow/types/utils.py:452: UserWarning: Hint: Inferred schema contains integer column(s). Integer columns in Python cannot represent missing values. If your input data contains missing values at inference time, it will be encoded as floats and will cause a schema enforcement error. The best way to avoid this problem is to infer the model schema based on a realistic data sample (training dataset) that includes missing values. Alternatively, you can declare integer columns as doubles (float64) whenever these columns may have missing values. See `Handling Integers With Missing Values <https://www.mlflow.org/docs/latest/models.html#handling-integers-with-missing-values>`_ for more details.\n",
      "  warnings.warn(\n",
      "\u001b[31m2025/02/27 14:22:06 WARNING mlflow.models.model: Model logged without a signature and input example. Please set `input_example` parameter when logging the model to auto infer the model signature.\u001b[0m\n"
     ]
    },
    {
     "name": "stdout",
     "output_type": "stream",
     "text": [
      "🏃 View run Modelo CatBoost - {'iterations': 1000, 'learning_rate': 0.01, 'depth': 10} at: http://localhost:8080/#/experiments/718553704951825850/runs/f80b0c4aab404e909ff27eb38afb5370\n",
      "🧪 View experiment at: http://localhost:8080/#/experiments/718553704951825850\n"
     ]
    },
    {
     "name": "stderr",
     "output_type": "stream",
     "text": [
      "/opt/anaconda3/lib/python3.12/site-packages/mlflow/types/utils.py:452: UserWarning: Hint: Inferred schema contains integer column(s). Integer columns in Python cannot represent missing values. If your input data contains missing values at inference time, it will be encoded as floats and will cause a schema enforcement error. The best way to avoid this problem is to infer the model schema based on a realistic data sample (training dataset) that includes missing values. Alternatively, you can declare integer columns as doubles (float64) whenever these columns may have missing values. See `Handling Integers With Missing Values <https://www.mlflow.org/docs/latest/models.html#handling-integers-with-missing-values>`_ for more details.\n",
      "  warnings.warn(\n",
      "\u001b[31m2025/02/27 14:22:10 WARNING mlflow.models.model: Model logged without a signature and input example. Please set `input_example` parameter when logging the model to auto infer the model signature.\u001b[0m\n"
     ]
    },
    {
     "name": "stdout",
     "output_type": "stream",
     "text": [
      "🏃 View run Modelo CatBoost - {'iterations': 1000, 'learning_rate': 0.05, 'depth': 5} at: http://localhost:8080/#/experiments/718553704951825850/runs/818af418585c4d5e9d70216d692aa337\n",
      "🧪 View experiment at: http://localhost:8080/#/experiments/718553704951825850\n"
     ]
    },
    {
     "name": "stderr",
     "output_type": "stream",
     "text": [
      "/opt/anaconda3/lib/python3.12/site-packages/mlflow/types/utils.py:452: UserWarning: Hint: Inferred schema contains integer column(s). Integer columns in Python cannot represent missing values. If your input data contains missing values at inference time, it will be encoded as floats and will cause a schema enforcement error. The best way to avoid this problem is to infer the model schema based on a realistic data sample (training dataset) that includes missing values. Alternatively, you can declare integer columns as doubles (float64) whenever these columns may have missing values. See `Handling Integers With Missing Values <https://www.mlflow.org/docs/latest/models.html#handling-integers-with-missing-values>`_ for more details.\n",
      "  warnings.warn(\n",
      "\u001b[31m2025/02/27 14:22:14 WARNING mlflow.models.model: Model logged without a signature and input example. Please set `input_example` parameter when logging the model to auto infer the model signature.\u001b[0m\n"
     ]
    },
    {
     "name": "stdout",
     "output_type": "stream",
     "text": [
      "🏃 View run Modelo CatBoost - {'iterations': 1000, 'learning_rate': 0.05, 'depth': 6} at: http://localhost:8080/#/experiments/718553704951825850/runs/eaf0dcc68a774bf2931e5d2be3464607\n",
      "🧪 View experiment at: http://localhost:8080/#/experiments/718553704951825850\n"
     ]
    },
    {
     "name": "stderr",
     "output_type": "stream",
     "text": [
      "/opt/anaconda3/lib/python3.12/site-packages/mlflow/types/utils.py:452: UserWarning: Hint: Inferred schema contains integer column(s). Integer columns in Python cannot represent missing values. If your input data contains missing values at inference time, it will be encoded as floats and will cause a schema enforcement error. The best way to avoid this problem is to infer the model schema based on a realistic data sample (training dataset) that includes missing values. Alternatively, you can declare integer columns as doubles (float64) whenever these columns may have missing values. See `Handling Integers With Missing Values <https://www.mlflow.org/docs/latest/models.html#handling-integers-with-missing-values>`_ for more details.\n",
      "  warnings.warn(\n",
      "\u001b[31m2025/02/27 14:22:20 WARNING mlflow.models.model: Model logged without a signature and input example. Please set `input_example` parameter when logging the model to auto infer the model signature.\u001b[0m\n"
     ]
    },
    {
     "name": "stdout",
     "output_type": "stream",
     "text": [
      "🏃 View run Modelo CatBoost - {'iterations': 1000, 'learning_rate': 0.05, 'depth': 10} at: http://localhost:8080/#/experiments/718553704951825850/runs/dad61d427a2642409f0e86a39a822585\n",
      "🧪 View experiment at: http://localhost:8080/#/experiments/718553704951825850\n"
     ]
    },
    {
     "name": "stderr",
     "output_type": "stream",
     "text": [
      "/opt/anaconda3/lib/python3.12/site-packages/mlflow/types/utils.py:452: UserWarning: Hint: Inferred schema contains integer column(s). Integer columns in Python cannot represent missing values. If your input data contains missing values at inference time, it will be encoded as floats and will cause a schema enforcement error. The best way to avoid this problem is to infer the model schema based on a realistic data sample (training dataset) that includes missing values. Alternatively, you can declare integer columns as doubles (float64) whenever these columns may have missing values. See `Handling Integers With Missing Values <https://www.mlflow.org/docs/latest/models.html#handling-integers-with-missing-values>`_ for more details.\n",
      "  warnings.warn(\n",
      "\u001b[31m2025/02/27 14:22:24 WARNING mlflow.models.model: Model logged without a signature and input example. Please set `input_example` parameter when logging the model to auto infer the model signature.\u001b[0m\n"
     ]
    },
    {
     "name": "stdout",
     "output_type": "stream",
     "text": [
      "🏃 View run Modelo CatBoost - {'iterations': 1000, 'learning_rate': 0.1, 'depth': 5} at: http://localhost:8080/#/experiments/718553704951825850/runs/6ee2a9407f164bc1a560b9d18861ec4e\n",
      "🧪 View experiment at: http://localhost:8080/#/experiments/718553704951825850\n"
     ]
    },
    {
     "name": "stderr",
     "output_type": "stream",
     "text": [
      "/opt/anaconda3/lib/python3.12/site-packages/mlflow/types/utils.py:452: UserWarning: Hint: Inferred schema contains integer column(s). Integer columns in Python cannot represent missing values. If your input data contains missing values at inference time, it will be encoded as floats and will cause a schema enforcement error. The best way to avoid this problem is to infer the model schema based on a realistic data sample (training dataset) that includes missing values. Alternatively, you can declare integer columns as doubles (float64) whenever these columns may have missing values. See `Handling Integers With Missing Values <https://www.mlflow.org/docs/latest/models.html#handling-integers-with-missing-values>`_ for more details.\n",
      "  warnings.warn(\n",
      "\u001b[31m2025/02/27 14:22:28 WARNING mlflow.models.model: Model logged without a signature and input example. Please set `input_example` parameter when logging the model to auto infer the model signature.\u001b[0m\n"
     ]
    },
    {
     "name": "stdout",
     "output_type": "stream",
     "text": [
      "🏃 View run Modelo CatBoost - {'iterations': 1000, 'learning_rate': 0.1, 'depth': 6} at: http://localhost:8080/#/experiments/718553704951825850/runs/c7461adbf4584023837d88a8e1fc1350\n",
      "🧪 View experiment at: http://localhost:8080/#/experiments/718553704951825850\n"
     ]
    },
    {
     "name": "stderr",
     "output_type": "stream",
     "text": [
      "/opt/anaconda3/lib/python3.12/site-packages/mlflow/types/utils.py:452: UserWarning: Hint: Inferred schema contains integer column(s). Integer columns in Python cannot represent missing values. If your input data contains missing values at inference time, it will be encoded as floats and will cause a schema enforcement error. The best way to avoid this problem is to infer the model schema based on a realistic data sample (training dataset) that includes missing values. Alternatively, you can declare integer columns as doubles (float64) whenever these columns may have missing values. See `Handling Integers With Missing Values <https://www.mlflow.org/docs/latest/models.html#handling-integers-with-missing-values>`_ for more details.\n",
      "  warnings.warn(\n",
      "\u001b[31m2025/02/27 14:22:34 WARNING mlflow.models.model: Model logged without a signature and input example. Please set `input_example` parameter when logging the model to auto infer the model signature.\u001b[0m\n"
     ]
    },
    {
     "name": "stdout",
     "output_type": "stream",
     "text": [
      "🏃 View run Modelo CatBoost - {'iterations': 1000, 'learning_rate': 0.1, 'depth': 10} at: http://localhost:8080/#/experiments/718553704951825850/runs/f63a6e0a9e0346788b5dc13ac323125d\n",
      "🧪 View experiment at: http://localhost:8080/#/experiments/718553704951825850\n",
      "¡Entrenamiento y registro completado!\n"
     ]
    }
   ],
   "source": [
    "# 3️⃣ Definir la cuadrícula de hiperparámetros para la búsqueda\n",
    "param_grid = {\n",
    "    \"iterations\": [50, 100, 200, 500, 1000],\n",
    "    \"learning_rate\": [0.01, 0.05, 0.1],\n",
    "    \"depth\": [5, 6, 10],\n",
    "}\n",
    "\n",
    "\n",
    "# 4️⃣ Configurar MLflow\n",
    "mlflow.set_experiment(\"Optimización_CatBoost\")\n",
    "\n",
    "# 5️⃣ Ejecutar el entrenamiento para cada combinación de parámetros\n",
    "print(\"Entrenando con diferentes combinaciones de parámetros y registrando en MLflow...\")\n",
    "\n",
    "# Iterar sobre todas las combinaciones de parámetros\n",
    "for params in [dict(zip(param_grid, x)) for x in itertools.product(*param_grid.values())]:\n",
    "\n",
    "    # Crear el modelo con los parámetros actuales\n",
    "    modelo = CatBoostRegressor(random_state=42, verbose=0, **params)\n",
    "\n",
    "    # Entrenar el modelo\n",
    "    modelo.fit(X_train, y_train)\n",
    "\n",
    "    # 6️⃣ Evaluar el modelo en el conjunto de prueba\n",
    "    y_pred = modelo.predict(X_test)\n",
    "\n",
    "    # 7️⃣ Calcular métricas\n",
    "    mae = mean_absolute_error(y_test, y_pred)\n",
    "    rmse = np.sqrt(mean_squared_error(y_test, y_pred))\n",
    "    r2 = r2_score(y_test, y_pred)\n",
    "\n",
    "    # 8️⃣ Registrar parámetros y métricas en MLflow\n",
    "    mlflow.end_run()  # End any active run before starting a new one\n",
    "    with mlflow.start_run(run_name=f\"Modelo CatBoost - {params}\"):\n",
    "        # Registrar los hiperparámetros\n",
    "        mlflow.log_params(params)\n",
    "        \n",
    "\n",
    "        # Registrar el modelo entrenado\n",
    "        input_example = X_train[:5]  # Provide an input example\n",
    "        mlflow.catboost.log_model(modelo, f\"modelo_catboost_{params}\", input_example=input_example)\n",
    "\n",
    " \n",
    "        # Registrar las métricas\n",
    "        mlflow.log_metric(\"MAE\", mae)\n",
    "        mlflow.log_metric(\"RMSE\", rmse)\n",
    "        mlflow.log_metric(\"R2\", r2)\n",
    "\n",
    "        # Registrar el modelo entrenado\n",
    "        mlflow.catboost.log_model(modelo, f\"modelo_catboost_{params}\")\n",
    "\n",
    "print(\"¡Entrenamiento y registro completado!\")"
   ]
  },
  {
   "cell_type": "code",
   "execution_count": 38,
   "metadata": {},
   "outputs": [
    {
     "data": {
      "text/html": [
       "<div>\n",
       "<style scoped>\n",
       "    .dataframe tbody tr th:only-of-type {\n",
       "        vertical-align: middle;\n",
       "    }\n",
       "\n",
       "    .dataframe tbody tr th {\n",
       "        vertical-align: top;\n",
       "    }\n",
       "\n",
       "    .dataframe thead th {\n",
       "        text-align: right;\n",
       "    }\n",
       "</style>\n",
       "<table border=\"1\" class=\"dataframe\">\n",
       "  <thead>\n",
       "    <tr style=\"text-align: right;\">\n",
       "      <th></th>\n",
       "      <th>offset days</th>\n",
       "      <th>valor_previo</th>\n",
       "      <th>Lunes</th>\n",
       "      <th>Martes</th>\n",
       "      <th>Miércoles</th>\n",
       "      <th>Jueves</th>\n",
       "      <th>Viernes</th>\n",
       "      <th>Sábado</th>\n",
       "      <th>Enero</th>\n",
       "      <th>Febrero</th>\n",
       "      <th>Marzo</th>\n",
       "      <th>Abril</th>\n",
       "      <th>Mayo</th>\n",
       "      <th>Junio</th>\n",
       "      <th>Julio</th>\n",
       "      <th>Agosto</th>\n",
       "      <th>Septiembre</th>\n",
       "      <th>Octubre</th>\n",
       "      <th>Noviembre</th>\n",
       "      <th>media_7_dias</th>\n",
       "      <th>media_30_dias</th>\n",
       "    </tr>\n",
       "  </thead>\n",
       "  <tbody>\n",
       "    <tr>\n",
       "      <th>3475</th>\n",
       "      <td>3565</td>\n",
       "      <td>24.627100</td>\n",
       "      <td>0</td>\n",
       "      <td>0</td>\n",
       "      <td>0</td>\n",
       "      <td>1</td>\n",
       "      <td>0</td>\n",
       "      <td>0</td>\n",
       "      <td>0</td>\n",
       "      <td>0</td>\n",
       "      <td>0</td>\n",
       "      <td>0</td>\n",
       "      <td>0</td>\n",
       "      <td>0</td>\n",
       "      <td>0</td>\n",
       "      <td>0</td>\n",
       "      <td>0</td>\n",
       "      <td>1</td>\n",
       "      <td>0</td>\n",
       "      <td>22.087914</td>\n",
       "      <td>21.483730</td>\n",
       "    </tr>\n",
       "    <tr>\n",
       "      <th>3476</th>\n",
       "      <td>3566</td>\n",
       "      <td>20.573600</td>\n",
       "      <td>0</td>\n",
       "      <td>0</td>\n",
       "      <td>0</td>\n",
       "      <td>0</td>\n",
       "      <td>1</td>\n",
       "      <td>0</td>\n",
       "      <td>0</td>\n",
       "      <td>0</td>\n",
       "      <td>0</td>\n",
       "      <td>0</td>\n",
       "      <td>0</td>\n",
       "      <td>0</td>\n",
       "      <td>0</td>\n",
       "      <td>0</td>\n",
       "      <td>0</td>\n",
       "      <td>1</td>\n",
       "      <td>0</td>\n",
       "      <td>22.193471</td>\n",
       "      <td>21.476253</td>\n",
       "    </tr>\n",
       "    <tr>\n",
       "      <th>3477</th>\n",
       "      <td>3567</td>\n",
       "      <td>20.865300</td>\n",
       "      <td>0</td>\n",
       "      <td>0</td>\n",
       "      <td>0</td>\n",
       "      <td>0</td>\n",
       "      <td>0</td>\n",
       "      <td>1</td>\n",
       "      <td>0</td>\n",
       "      <td>0</td>\n",
       "      <td>0</td>\n",
       "      <td>0</td>\n",
       "      <td>0</td>\n",
       "      <td>0</td>\n",
       "      <td>0</td>\n",
       "      <td>0</td>\n",
       "      <td>0</td>\n",
       "      <td>1</td>\n",
       "      <td>0</td>\n",
       "      <td>22.272943</td>\n",
       "      <td>21.456253</td>\n",
       "    </tr>\n",
       "    <tr>\n",
       "      <th>3478</th>\n",
       "      <td>3568</td>\n",
       "      <td>20.791700</td>\n",
       "      <td>0</td>\n",
       "      <td>0</td>\n",
       "      <td>0</td>\n",
       "      <td>0</td>\n",
       "      <td>0</td>\n",
       "      <td>0</td>\n",
       "      <td>0</td>\n",
       "      <td>0</td>\n",
       "      <td>0</td>\n",
       "      <td>0</td>\n",
       "      <td>0</td>\n",
       "      <td>0</td>\n",
       "      <td>0</td>\n",
       "      <td>0</td>\n",
       "      <td>0</td>\n",
       "      <td>1</td>\n",
       "      <td>0</td>\n",
       "      <td>22.272443</td>\n",
       "      <td>21.417063</td>\n",
       "    </tr>\n",
       "    <tr>\n",
       "      <th>3479</th>\n",
       "      <td>3569</td>\n",
       "      <td>20.600700</td>\n",
       "      <td>1</td>\n",
       "      <td>0</td>\n",
       "      <td>0</td>\n",
       "      <td>0</td>\n",
       "      <td>0</td>\n",
       "      <td>0</td>\n",
       "      <td>0</td>\n",
       "      <td>0</td>\n",
       "      <td>0</td>\n",
       "      <td>0</td>\n",
       "      <td>0</td>\n",
       "      <td>0</td>\n",
       "      <td>0</td>\n",
       "      <td>0</td>\n",
       "      <td>0</td>\n",
       "      <td>1</td>\n",
       "      <td>0</td>\n",
       "      <td>21.844157</td>\n",
       "      <td>21.372640</td>\n",
       "    </tr>\n",
       "    <tr>\n",
       "      <th>...</th>\n",
       "      <td>...</td>\n",
       "      <td>...</td>\n",
       "      <td>...</td>\n",
       "      <td>...</td>\n",
       "      <td>...</td>\n",
       "      <td>...</td>\n",
       "      <td>...</td>\n",
       "      <td>...</td>\n",
       "      <td>...</td>\n",
       "      <td>...</td>\n",
       "      <td>...</td>\n",
       "      <td>...</td>\n",
       "      <td>...</td>\n",
       "      <td>...</td>\n",
       "      <td>...</td>\n",
       "      <td>...</td>\n",
       "      <td>...</td>\n",
       "      <td>...</td>\n",
       "      <td>...</td>\n",
       "      <td>...</td>\n",
       "      <td>...</td>\n",
       "    </tr>\n",
       "    <tr>\n",
       "      <th>4339</th>\n",
       "      <td>4429</td>\n",
       "      <td>16.391666</td>\n",
       "      <td>0</td>\n",
       "      <td>0</td>\n",
       "      <td>0</td>\n",
       "      <td>0</td>\n",
       "      <td>0</td>\n",
       "      <td>0</td>\n",
       "      <td>0</td>\n",
       "      <td>1</td>\n",
       "      <td>0</td>\n",
       "      <td>0</td>\n",
       "      <td>0</td>\n",
       "      <td>0</td>\n",
       "      <td>0</td>\n",
       "      <td>0</td>\n",
       "      <td>0</td>\n",
       "      <td>0</td>\n",
       "      <td>0</td>\n",
       "      <td>15.960317</td>\n",
       "      <td>15.991509</td>\n",
       "    </tr>\n",
       "    <tr>\n",
       "      <th>4340</th>\n",
       "      <td>4430</td>\n",
       "      <td>15.550694</td>\n",
       "      <td>1</td>\n",
       "      <td>0</td>\n",
       "      <td>0</td>\n",
       "      <td>0</td>\n",
       "      <td>0</td>\n",
       "      <td>0</td>\n",
       "      <td>0</td>\n",
       "      <td>1</td>\n",
       "      <td>0</td>\n",
       "      <td>0</td>\n",
       "      <td>0</td>\n",
       "      <td>0</td>\n",
       "      <td>0</td>\n",
       "      <td>0</td>\n",
       "      <td>0</td>\n",
       "      <td>0</td>\n",
       "      <td>0</td>\n",
       "      <td>15.996230</td>\n",
       "      <td>15.985444</td>\n",
       "    </tr>\n",
       "    <tr>\n",
       "      <th>4341</th>\n",
       "      <td>4431</td>\n",
       "      <td>15.544444</td>\n",
       "      <td>0</td>\n",
       "      <td>1</td>\n",
       "      <td>0</td>\n",
       "      <td>0</td>\n",
       "      <td>0</td>\n",
       "      <td>0</td>\n",
       "      <td>0</td>\n",
       "      <td>1</td>\n",
       "      <td>0</td>\n",
       "      <td>0</td>\n",
       "      <td>0</td>\n",
       "      <td>0</td>\n",
       "      <td>0</td>\n",
       "      <td>0</td>\n",
       "      <td>0</td>\n",
       "      <td>0</td>\n",
       "      <td>0</td>\n",
       "      <td>16.230357</td>\n",
       "      <td>16.055143</td>\n",
       "    </tr>\n",
       "    <tr>\n",
       "      <th>4342</th>\n",
       "      <td>4432</td>\n",
       "      <td>17.752777</td>\n",
       "      <td>0</td>\n",
       "      <td>0</td>\n",
       "      <td>1</td>\n",
       "      <td>0</td>\n",
       "      <td>0</td>\n",
       "      <td>0</td>\n",
       "      <td>0</td>\n",
       "      <td>1</td>\n",
       "      <td>0</td>\n",
       "      <td>0</td>\n",
       "      <td>0</td>\n",
       "      <td>0</td>\n",
       "      <td>0</td>\n",
       "      <td>0</td>\n",
       "      <td>0</td>\n",
       "      <td>0</td>\n",
       "      <td>0</td>\n",
       "      <td>16.197916</td>\n",
       "      <td>16.063893</td>\n",
       "    </tr>\n",
       "    <tr>\n",
       "      <th>4343</th>\n",
       "      <td>4433</td>\n",
       "      <td>16.234028</td>\n",
       "      <td>0</td>\n",
       "      <td>0</td>\n",
       "      <td>0</td>\n",
       "      <td>1</td>\n",
       "      <td>0</td>\n",
       "      <td>0</td>\n",
       "      <td>0</td>\n",
       "      <td>1</td>\n",
       "      <td>0</td>\n",
       "      <td>0</td>\n",
       "      <td>0</td>\n",
       "      <td>0</td>\n",
       "      <td>0</td>\n",
       "      <td>0</td>\n",
       "      <td>0</td>\n",
       "      <td>0</td>\n",
       "      <td>0</td>\n",
       "      <td>16.126488</td>\n",
       "      <td>16.048361</td>\n",
       "    </tr>\n",
       "  </tbody>\n",
       "</table>\n",
       "<p>869 rows × 21 columns</p>\n",
       "</div>"
      ],
      "text/plain": [
       "      offset days  valor_previo  Lunes  Martes  Miércoles  Jueves  Viernes  \\\n",
       "3475         3565     24.627100      0       0          0       1        0   \n",
       "3476         3566     20.573600      0       0          0       0        1   \n",
       "3477         3567     20.865300      0       0          0       0        0   \n",
       "3478         3568     20.791700      0       0          0       0        0   \n",
       "3479         3569     20.600700      1       0          0       0        0   \n",
       "...           ...           ...    ...     ...        ...     ...      ...   \n",
       "4339         4429     16.391666      0       0          0       0        0   \n",
       "4340         4430     15.550694      1       0          0       0        0   \n",
       "4341         4431     15.544444      0       1          0       0        0   \n",
       "4342         4432     17.752777      0       0          1       0        0   \n",
       "4343         4433     16.234028      0       0          0       1        0   \n",
       "\n",
       "      Sábado  Enero  Febrero  Marzo  Abril  Mayo  Junio  Julio  Agosto  \\\n",
       "3475       0      0        0      0      0     0      0      0       0   \n",
       "3476       0      0        0      0      0     0      0      0       0   \n",
       "3477       1      0        0      0      0     0      0      0       0   \n",
       "3478       0      0        0      0      0     0      0      0       0   \n",
       "3479       0      0        0      0      0     0      0      0       0   \n",
       "...      ...    ...      ...    ...    ...   ...    ...    ...     ...   \n",
       "4339       0      0        1      0      0     0      0      0       0   \n",
       "4340       0      0        1      0      0     0      0      0       0   \n",
       "4341       0      0        1      0      0     0      0      0       0   \n",
       "4342       0      0        1      0      0     0      0      0       0   \n",
       "4343       0      0        1      0      0     0      0      0       0   \n",
       "\n",
       "      Septiembre  Octubre  Noviembre  media_7_dias  media_30_dias  \n",
       "3475           0        1          0     22.087914      21.483730  \n",
       "3476           0        1          0     22.193471      21.476253  \n",
       "3477           0        1          0     22.272943      21.456253  \n",
       "3478           0        1          0     22.272443      21.417063  \n",
       "3479           0        1          0     21.844157      21.372640  \n",
       "...          ...      ...        ...           ...            ...  \n",
       "4339           0        0          0     15.960317      15.991509  \n",
       "4340           0        0          0     15.996230      15.985444  \n",
       "4341           0        0          0     16.230357      16.055143  \n",
       "4342           0        0          0     16.197916      16.063893  \n",
       "4343           0        0          0     16.126488      16.048361  \n",
       "\n",
       "[869 rows x 21 columns]"
      ]
     },
     "execution_count": 38,
     "metadata": {},
     "output_type": "execute_result"
    }
   ],
   "source": [
    "X_test"
   ]
  },
  {
   "cell_type": "code",
   "execution_count": 36,
   "metadata": {},
   "outputs": [],
   "source": [
    "# el modelo elegido fue el de CatBoost con los siguientes hiperparametros\n",
    "# Modelo CatBoost - {'iterations': 1000, 'learning_rate': 0.01, 'depth': 6}\n",
    "params = {'iterations': 1000, 'learning_rate': 0.01, 'depth': 6}\n",
    "\n",
    "# Crear un nuevo modelo con los hiperparámetros seleccionados\n",
    "modelo = CatBoostRegressor(random_state=42, verbose=0, **params)\n",
    "#guardo el modelo\n",
    "modelo.fit(X_train, y_train)\n",
    "modelo.save_model(\"modelo_catboost_temperatura\")"
   ]
  },
  {
   "cell_type": "code",
   "execution_count": 185,
   "metadata": {},
   "outputs": [],
   "source": [
    "df_lluvia = df[df['sensor_nombre'] == 'Precipitación']\n",
    "df_lluvia.reset_index(drop=True, inplace=True)\n",
    "df_lluvia = df_lluvia[df_lluvia['metrica'] == 'total']\n",
    "df_lluvia.reset_index(drop=True, inplace=True)"
   ]
  },
  {
   "cell_type": "code",
   "execution_count": 186,
   "metadata": {},
   "outputs": [
    {
     "data": {
      "text/html": [
       "<div>\n",
       "<style scoped>\n",
       "    .dataframe tbody tr th:only-of-type {\n",
       "        vertical-align: middle;\n",
       "    }\n",
       "\n",
       "    .dataframe tbody tr th {\n",
       "        vertical-align: top;\n",
       "    }\n",
       "\n",
       "    .dataframe thead th {\n",
       "        text-align: right;\n",
       "    }\n",
       "</style>\n",
       "<table border=\"1\" class=\"dataframe\">\n",
       "  <thead>\n",
       "    <tr style=\"text-align: right;\">\n",
       "      <th></th>\n",
       "      <th>estacion_id</th>\n",
       "      <th>estacion_nombre</th>\n",
       "      <th>sensor_id</th>\n",
       "      <th>sensor_alias</th>\n",
       "      <th>sensor_nombre</th>\n",
       "      <th>fecha_observacion</th>\n",
       "      <th>metrica</th>\n",
       "      <th>valor</th>\n",
       "    </tr>\n",
       "  </thead>\n",
       "  <tbody>\n",
       "    <tr>\n",
       "      <th>0</th>\n",
       "      <td>5</td>\n",
       "      <td>GUIAIS01</td>\n",
       "      <td>410</td>\n",
       "      <td>RAIN</td>\n",
       "      <td>Precipitación</td>\n",
       "      <td>2013-01-01</td>\n",
       "      <td>total</td>\n",
       "      <td>0.0</td>\n",
       "    </tr>\n",
       "    <tr>\n",
       "      <th>1</th>\n",
       "      <td>5</td>\n",
       "      <td>GUIAIS01</td>\n",
       "      <td>410</td>\n",
       "      <td>RAIN</td>\n",
       "      <td>Precipitación</td>\n",
       "      <td>2013-01-02</td>\n",
       "      <td>total</td>\n",
       "      <td>0.3</td>\n",
       "    </tr>\n",
       "    <tr>\n",
       "      <th>2</th>\n",
       "      <td>5</td>\n",
       "      <td>GUIAIS01</td>\n",
       "      <td>410</td>\n",
       "      <td>RAIN</td>\n",
       "      <td>Precipitación</td>\n",
       "      <td>2013-01-03</td>\n",
       "      <td>total</td>\n",
       "      <td>0.0</td>\n",
       "    </tr>\n",
       "    <tr>\n",
       "      <th>3</th>\n",
       "      <td>5</td>\n",
       "      <td>GUIAIS01</td>\n",
       "      <td>410</td>\n",
       "      <td>RAIN</td>\n",
       "      <td>Precipitación</td>\n",
       "      <td>2013-01-04</td>\n",
       "      <td>total</td>\n",
       "      <td>0.0</td>\n",
       "    </tr>\n",
       "    <tr>\n",
       "      <th>4</th>\n",
       "      <td>5</td>\n",
       "      <td>GUIAIS01</td>\n",
       "      <td>410</td>\n",
       "      <td>RAIN</td>\n",
       "      <td>Precipitación</td>\n",
       "      <td>2013-01-05</td>\n",
       "      <td>total</td>\n",
       "      <td>0.0</td>\n",
       "    </tr>\n",
       "    <tr>\n",
       "      <th>...</th>\n",
       "      <td>...</td>\n",
       "      <td>...</td>\n",
       "      <td>...</td>\n",
       "      <td>...</td>\n",
       "      <td>...</td>\n",
       "      <td>...</td>\n",
       "      <td>...</td>\n",
       "      <td>...</td>\n",
       "    </tr>\n",
       "    <tr>\n",
       "      <th>3705</th>\n",
       "      <td>5</td>\n",
       "      <td>GUIAIS01</td>\n",
       "      <td>410</td>\n",
       "      <td>RAIN</td>\n",
       "      <td>Precipitación</td>\n",
       "      <td>2024-12-22</td>\n",
       "      <td>total</td>\n",
       "      <td>3.2</td>\n",
       "    </tr>\n",
       "    <tr>\n",
       "      <th>3706</th>\n",
       "      <td>5</td>\n",
       "      <td>GUIAIS01</td>\n",
       "      <td>410</td>\n",
       "      <td>RAIN</td>\n",
       "      <td>Precipitación</td>\n",
       "      <td>2024-12-25</td>\n",
       "      <td>total</td>\n",
       "      <td>0.4</td>\n",
       "    </tr>\n",
       "    <tr>\n",
       "      <th>3707</th>\n",
       "      <td>5</td>\n",
       "      <td>GUIAIS01</td>\n",
       "      <td>410</td>\n",
       "      <td>RAIN</td>\n",
       "      <td>Precipitación</td>\n",
       "      <td>2025-01-06</td>\n",
       "      <td>total</td>\n",
       "      <td>0.2</td>\n",
       "    </tr>\n",
       "    <tr>\n",
       "      <th>3708</th>\n",
       "      <td>5</td>\n",
       "      <td>GUIAIS01</td>\n",
       "      <td>410</td>\n",
       "      <td>RAIN</td>\n",
       "      <td>Precipitación</td>\n",
       "      <td>2025-01-21</td>\n",
       "      <td>total</td>\n",
       "      <td>8.1</td>\n",
       "    </tr>\n",
       "    <tr>\n",
       "      <th>3709</th>\n",
       "      <td>5</td>\n",
       "      <td>GUIAIS01</td>\n",
       "      <td>410</td>\n",
       "      <td>RAIN</td>\n",
       "      <td>Precipitación</td>\n",
       "      <td>2025-02-18</td>\n",
       "      <td>total</td>\n",
       "      <td>3.2</td>\n",
       "    </tr>\n",
       "  </tbody>\n",
       "</table>\n",
       "<p>3710 rows × 8 columns</p>\n",
       "</div>"
      ],
      "text/plain": [
       "      estacion_id estacion_nombre  sensor_id sensor_alias  sensor_nombre  \\\n",
       "0               5        GUIAIS01        410         RAIN  Precipitación   \n",
       "1               5        GUIAIS01        410         RAIN  Precipitación   \n",
       "2               5        GUIAIS01        410         RAIN  Precipitación   \n",
       "3               5        GUIAIS01        410         RAIN  Precipitación   \n",
       "4               5        GUIAIS01        410         RAIN  Precipitación   \n",
       "...           ...             ...        ...          ...            ...   \n",
       "3705            5        GUIAIS01        410         RAIN  Precipitación   \n",
       "3706            5        GUIAIS01        410         RAIN  Precipitación   \n",
       "3707            5        GUIAIS01        410         RAIN  Precipitación   \n",
       "3708            5        GUIAIS01        410         RAIN  Precipitación   \n",
       "3709            5        GUIAIS01        410         RAIN  Precipitación   \n",
       "\n",
       "     fecha_observacion metrica  valor  \n",
       "0           2013-01-01   total    0.0  \n",
       "1           2013-01-02   total    0.3  \n",
       "2           2013-01-03   total    0.0  \n",
       "3           2013-01-04   total    0.0  \n",
       "4           2013-01-05   total    0.0  \n",
       "...                ...     ...    ...  \n",
       "3705        2024-12-22   total    3.2  \n",
       "3706        2024-12-25   total    0.4  \n",
       "3707        2025-01-06   total    0.2  \n",
       "3708        2025-01-21   total    8.1  \n",
       "3709        2025-02-18   total    3.2  \n",
       "\n",
       "[3710 rows x 8 columns]"
      ]
     },
     "execution_count": 186,
     "metadata": {},
     "output_type": "execute_result"
    }
   ],
   "source": [
    "df_lluvia"
   ]
  },
  {
   "cell_type": "code",
   "execution_count": 187,
   "metadata": {},
   "outputs": [],
   "source": [
    "df_lluvia['fecha_observacion'] = pd.to_datetime(df_lluvia['fecha_observacion'])"
   ]
  },
  {
   "cell_type": "code",
   "execution_count": 188,
   "metadata": {},
   "outputs": [],
   "source": [
    "df_lluvia['offset days']= df_lluvia.index\n",
    "df_lluvia['valor_previo'] = df_lluvia['valor'].shift(1).fillna(0)\n",
    "df_lluvia['dia_semana'] = df_lluvia['fecha_observacion'].dt.dayofweek\n",
    "df_lluvia['mes'] = df_lluvia['fecha_observacion'].dt.month\n"
   ]
  },
  {
   "cell_type": "code",
   "execution_count": 189,
   "metadata": {},
   "outputs": [],
   "source": [
    "for i, día in enumerate([\"Lunes\", \"Martes\", \"Miércoles\", \"Jueves\", \"Viernes\", \"Sábado\"]):\n",
    "    df_lluvia[día] = df_lluvia['dia_semana'].apply(lambda x: 1 if (x==i) else 0)"
   ]
  },
  {
   "cell_type": "code",
   "execution_count": 190,
   "metadata": {},
   "outputs": [],
   "source": [
    "# hago para el mes con el nombre como arriba\n",
    "for i, mes in enumerate([\"Enero\", \"Febrero\", \"Marzo\", \"Abril\", \"Mayo\", \"Junio\", \"Julio\", \"Agosto\", \"Septiembre\", \"Octubre\", \"Noviembre\"]):\n",
    "    df_lluvia[mes] = df_lluvia['mes'].apply(lambda x: 1 if (x==i+1) else 0)\n"
   ]
  },
  {
   "cell_type": "code",
   "execution_count": 191,
   "metadata": {},
   "outputs": [],
   "source": [
    "df_lluvia = df_lluvia.drop(columns=['dia_semana','mes'])"
   ]
  },
  {
   "cell_type": "code",
   "execution_count": 192,
   "metadata": {},
   "outputs": [],
   "source": [
    "# elimino colunas sensor_nombre, metrica, sensor_id , sensor_alias , estacion_nombre, estacion_id\n",
    "df_lluvia = df_lluvia.drop(columns=['sensor_nombre', 'metrica', 'sensor_id', 'sensor_alias', 'estacion_nombre', 'estacion_id'])"
   ]
  },
  {
   "cell_type": "code",
   "execution_count": 193,
   "metadata": {},
   "outputs": [],
   "source": [
    "# Crear las columnas de lluvia acumulada de la semana y del mes\n",
    "df_lluvia['lluvia_acumulada_semana'] = df_lluvia['valor'].rolling(window=7, min_periods=1).sum()\n",
    "df_lluvia['lluvia_acumulada_mes'] = df_lluvia['valor'].rolling(window=30, min_periods=1).sum()\n"
   ]
  },
  {
   "cell_type": "code",
   "execution_count": 194,
   "metadata": {},
   "outputs": [],
   "source": [
    "df_lluvia['lluvia_media_3d'] = df_lluvia['valor'].rolling(window=3, min_periods=1).mean()  # Promedio últimos 3 días\n",
    "df_lluvia['lluvia_media_7d'] = df_lluvia['valor'].rolling(window=7, min_periods=1).mean()  # Promedio última semana\n",
    "df_lluvia['lluvia_media_30d'] = df_lluvia['valor'].rolling(window=30, min_periods=1).mean()  # Promedio último mes"
   ]
  },
  {
   "cell_type": "code",
   "execution_count": 195,
   "metadata": {},
   "outputs": [],
   "source": [
    "df_lluvia['lluvia_std_7d'] = df_lluvia['valor'].rolling(window=7,min_periods=1).std().shift(1).fillna(0)\n",
    "df_lluvia['lluvia_std_30d'] = df_lluvia['valor'].rolling(window=30,min_periods=1).std().shift(1).fillna(0)"
   ]
  },
  {
   "cell_type": "code",
   "execution_count": 196,
   "metadata": {},
   "outputs": [
    {
     "data": {
      "text/plain": [
       "count    3710.000000\n",
       "mean        0.354636\n",
       "std         2.779834\n",
       "min         0.000000\n",
       "25%         0.000000\n",
       "50%         0.000000\n",
       "75%         0.000000\n",
       "max        85.400000\n",
       "Name: valor, dtype: float64"
      ]
     },
     "execution_count": 196,
     "metadata": {},
     "output_type": "execute_result"
    }
   ],
   "source": [
    "# quiero ver los maximos y minimos del valor\n",
    "df_lluvia['valor'].describe()"
   ]
  },
  {
   "cell_type": "code",
   "execution_count": 197,
   "metadata": {},
   "outputs": [],
   "source": [
    "# Redefinir la columna 'class_viento' según los nuevos rangos\n",
    "def clasificar_lluvia(valor):\n",
    "    if valor == 0:\n",
    "        return 0\n",
    "    else:\n",
    "        return 1\n",
    "# Aplicar la clasificación a la columna 'valor'\n",
    "df_lluvia['llueve'] = df_lluvia['valor'].apply(clasificar_lluvia)\n"
   ]
  },
  {
   "cell_type": "code",
   "execution_count": 198,
   "metadata": {},
   "outputs": [
    {
     "data": {
      "text/plain": [
       "llueve\n",
       "0    3379\n",
       "1     331\n",
       "Name: count, dtype: int64"
      ]
     },
     "execution_count": 198,
     "metadata": {},
     "output_type": "execute_result"
    }
   ],
   "source": [
    "#veo cuantos valores tengo de cada clase\n",
    "df_lluvia['llueve'].value_counts()"
   ]
  },
  {
   "cell_type": "code",
   "execution_count": 199,
   "metadata": {},
   "outputs": [
    {
     "data": {
      "text/plain": [
       "Index(['fecha_observacion', 'valor', 'offset days', 'valor_previo', 'Lunes',\n",
       "       'Martes', 'Miércoles', 'Jueves', 'Viernes', 'Sábado', 'Enero',\n",
       "       'Febrero', 'Marzo', 'Abril', 'Mayo', 'Junio', 'Julio', 'Agosto',\n",
       "       'Septiembre', 'Octubre', 'Noviembre', 'lluvia_acumulada_semana',\n",
       "       'lluvia_acumulada_mes', 'lluvia_media_3d', 'lluvia_media_7d',\n",
       "       'lluvia_media_30d', 'lluvia_std_7d', 'lluvia_std_30d', 'llueve'],\n",
       "      dtype='object')"
      ]
     },
     "execution_count": 199,
     "metadata": {},
     "output_type": "execute_result"
    }
   ],
   "source": [
    "df_lluvia.columns"
   ]
  },
  {
   "cell_type": "code",
   "execution_count": 200,
   "metadata": {},
   "outputs": [
    {
     "data": {
      "text/html": [
       "<div>\n",
       "<style scoped>\n",
       "    .dataframe tbody tr th:only-of-type {\n",
       "        vertical-align: middle;\n",
       "    }\n",
       "\n",
       "    .dataframe tbody tr th {\n",
       "        vertical-align: top;\n",
       "    }\n",
       "\n",
       "    .dataframe thead th {\n",
       "        text-align: right;\n",
       "    }\n",
       "</style>\n",
       "<table border=\"1\" class=\"dataframe\">\n",
       "  <thead>\n",
       "    <tr style=\"text-align: right;\">\n",
       "      <th></th>\n",
       "      <th>fecha_observacion</th>\n",
       "      <th>valor</th>\n",
       "      <th>offset days</th>\n",
       "      <th>valor_previo</th>\n",
       "      <th>Lunes</th>\n",
       "      <th>Martes</th>\n",
       "      <th>Miércoles</th>\n",
       "      <th>Jueves</th>\n",
       "      <th>Viernes</th>\n",
       "      <th>Sábado</th>\n",
       "      <th>...</th>\n",
       "      <th>Octubre</th>\n",
       "      <th>Noviembre</th>\n",
       "      <th>lluvia_acumulada_semana</th>\n",
       "      <th>lluvia_acumulada_mes</th>\n",
       "      <th>lluvia_media_3d</th>\n",
       "      <th>lluvia_media_7d</th>\n",
       "      <th>lluvia_media_30d</th>\n",
       "      <th>lluvia_std_7d</th>\n",
       "      <th>lluvia_std_30d</th>\n",
       "      <th>llueve</th>\n",
       "    </tr>\n",
       "  </thead>\n",
       "  <tbody>\n",
       "    <tr>\n",
       "      <th>0</th>\n",
       "      <td>2013-01-01</td>\n",
       "      <td>0.0</td>\n",
       "      <td>0</td>\n",
       "      <td>0.0</td>\n",
       "      <td>0</td>\n",
       "      <td>1</td>\n",
       "      <td>0</td>\n",
       "      <td>0</td>\n",
       "      <td>0</td>\n",
       "      <td>0</td>\n",
       "      <td>...</td>\n",
       "      <td>0</td>\n",
       "      <td>0</td>\n",
       "      <td>0.0</td>\n",
       "      <td>0.0</td>\n",
       "      <td>0.000000</td>\n",
       "      <td>0.000000</td>\n",
       "      <td>0.000000</td>\n",
       "      <td>0.000000</td>\n",
       "      <td>0.000000</td>\n",
       "      <td>0</td>\n",
       "    </tr>\n",
       "    <tr>\n",
       "      <th>1</th>\n",
       "      <td>2013-01-02</td>\n",
       "      <td>0.3</td>\n",
       "      <td>1</td>\n",
       "      <td>0.0</td>\n",
       "      <td>0</td>\n",
       "      <td>0</td>\n",
       "      <td>1</td>\n",
       "      <td>0</td>\n",
       "      <td>0</td>\n",
       "      <td>0</td>\n",
       "      <td>...</td>\n",
       "      <td>0</td>\n",
       "      <td>0</td>\n",
       "      <td>0.3</td>\n",
       "      <td>0.3</td>\n",
       "      <td>0.150000</td>\n",
       "      <td>0.150000</td>\n",
       "      <td>0.150000</td>\n",
       "      <td>0.000000</td>\n",
       "      <td>0.000000</td>\n",
       "      <td>1</td>\n",
       "    </tr>\n",
       "    <tr>\n",
       "      <th>2</th>\n",
       "      <td>2013-01-03</td>\n",
       "      <td>0.0</td>\n",
       "      <td>2</td>\n",
       "      <td>0.3</td>\n",
       "      <td>0</td>\n",
       "      <td>0</td>\n",
       "      <td>0</td>\n",
       "      <td>1</td>\n",
       "      <td>0</td>\n",
       "      <td>0</td>\n",
       "      <td>...</td>\n",
       "      <td>0</td>\n",
       "      <td>0</td>\n",
       "      <td>0.3</td>\n",
       "      <td>0.3</td>\n",
       "      <td>0.100000</td>\n",
       "      <td>0.100000</td>\n",
       "      <td>0.100000</td>\n",
       "      <td>0.212132</td>\n",
       "      <td>0.212132</td>\n",
       "      <td>0</td>\n",
       "    </tr>\n",
       "    <tr>\n",
       "      <th>3</th>\n",
       "      <td>2013-01-04</td>\n",
       "      <td>0.0</td>\n",
       "      <td>3</td>\n",
       "      <td>0.0</td>\n",
       "      <td>0</td>\n",
       "      <td>0</td>\n",
       "      <td>0</td>\n",
       "      <td>0</td>\n",
       "      <td>1</td>\n",
       "      <td>0</td>\n",
       "      <td>...</td>\n",
       "      <td>0</td>\n",
       "      <td>0</td>\n",
       "      <td>0.3</td>\n",
       "      <td>0.3</td>\n",
       "      <td>0.100000</td>\n",
       "      <td>0.075000</td>\n",
       "      <td>0.075000</td>\n",
       "      <td>0.173205</td>\n",
       "      <td>0.173205</td>\n",
       "      <td>0</td>\n",
       "    </tr>\n",
       "    <tr>\n",
       "      <th>4</th>\n",
       "      <td>2013-01-05</td>\n",
       "      <td>0.0</td>\n",
       "      <td>4</td>\n",
       "      <td>0.0</td>\n",
       "      <td>0</td>\n",
       "      <td>0</td>\n",
       "      <td>0</td>\n",
       "      <td>0</td>\n",
       "      <td>0</td>\n",
       "      <td>1</td>\n",
       "      <td>...</td>\n",
       "      <td>0</td>\n",
       "      <td>0</td>\n",
       "      <td>0.3</td>\n",
       "      <td>0.3</td>\n",
       "      <td>0.000000</td>\n",
       "      <td>0.060000</td>\n",
       "      <td>0.060000</td>\n",
       "      <td>0.150000</td>\n",
       "      <td>0.150000</td>\n",
       "      <td>0</td>\n",
       "    </tr>\n",
       "    <tr>\n",
       "      <th>...</th>\n",
       "      <td>...</td>\n",
       "      <td>...</td>\n",
       "      <td>...</td>\n",
       "      <td>...</td>\n",
       "      <td>...</td>\n",
       "      <td>...</td>\n",
       "      <td>...</td>\n",
       "      <td>...</td>\n",
       "      <td>...</td>\n",
       "      <td>...</td>\n",
       "      <td>...</td>\n",
       "      <td>...</td>\n",
       "      <td>...</td>\n",
       "      <td>...</td>\n",
       "      <td>...</td>\n",
       "      <td>...</td>\n",
       "      <td>...</td>\n",
       "      <td>...</td>\n",
       "      <td>...</td>\n",
       "      <td>...</td>\n",
       "      <td>...</td>\n",
       "    </tr>\n",
       "    <tr>\n",
       "      <th>3705</th>\n",
       "      <td>2024-12-22</td>\n",
       "      <td>3.2</td>\n",
       "      <td>3705</td>\n",
       "      <td>0.6</td>\n",
       "      <td>0</td>\n",
       "      <td>0</td>\n",
       "      <td>0</td>\n",
       "      <td>0</td>\n",
       "      <td>0</td>\n",
       "      <td>0</td>\n",
       "      <td>...</td>\n",
       "      <td>0</td>\n",
       "      <td>0</td>\n",
       "      <td>8.6</td>\n",
       "      <td>64.6</td>\n",
       "      <td>1.433333</td>\n",
       "      <td>1.228571</td>\n",
       "      <td>2.153333</td>\n",
       "      <td>0.677882</td>\n",
       "      <td>4.233176</td>\n",
       "      <td>1</td>\n",
       "    </tr>\n",
       "    <tr>\n",
       "      <th>3706</th>\n",
       "      <td>2024-12-25</td>\n",
       "      <td>0.4</td>\n",
       "      <td>3706</td>\n",
       "      <td>3.2</td>\n",
       "      <td>0</td>\n",
       "      <td>0</td>\n",
       "      <td>1</td>\n",
       "      <td>0</td>\n",
       "      <td>0</td>\n",
       "      <td>0</td>\n",
       "      <td>...</td>\n",
       "      <td>0</td>\n",
       "      <td>0</td>\n",
       "      <td>7.0</td>\n",
       "      <td>50.1</td>\n",
       "      <td>1.400000</td>\n",
       "      <td>1.000000</td>\n",
       "      <td>1.670000</td>\n",
       "      <td>1.096531</td>\n",
       "      <td>3.487983</td>\n",
       "      <td>1</td>\n",
       "    </tr>\n",
       "    <tr>\n",
       "      <th>3707</th>\n",
       "      <td>2025-01-06</td>\n",
       "      <td>0.2</td>\n",
       "      <td>3707</td>\n",
       "      <td>0.4</td>\n",
       "      <td>1</td>\n",
       "      <td>0</td>\n",
       "      <td>0</td>\n",
       "      <td>0</td>\n",
       "      <td>0</td>\n",
       "      <td>0</td>\n",
       "      <td>...</td>\n",
       "      <td>0</td>\n",
       "      <td>0</td>\n",
       "      <td>5.6</td>\n",
       "      <td>37.2</td>\n",
       "      <td>1.266667</td>\n",
       "      <td>0.800000</td>\n",
       "      <td>1.240000</td>\n",
       "      <td>1.075484</td>\n",
       "      <td>2.535289</td>\n",
       "      <td>1</td>\n",
       "    </tr>\n",
       "    <tr>\n",
       "      <th>3708</th>\n",
       "      <td>2025-01-21</td>\n",
       "      <td>8.1</td>\n",
       "      <td>3708</td>\n",
       "      <td>0.2</td>\n",
       "      <td>0</td>\n",
       "      <td>1</td>\n",
       "      <td>0</td>\n",
       "      <td>0</td>\n",
       "      <td>0</td>\n",
       "      <td>0</td>\n",
       "      <td>...</td>\n",
       "      <td>0</td>\n",
       "      <td>0</td>\n",
       "      <td>13.1</td>\n",
       "      <td>41.9</td>\n",
       "      <td>2.900000</td>\n",
       "      <td>1.871429</td>\n",
       "      <td>1.396667</td>\n",
       "      <td>1.075484</td>\n",
       "      <td>1.343849</td>\n",
       "      <td>1</td>\n",
       "    </tr>\n",
       "    <tr>\n",
       "      <th>3709</th>\n",
       "      <td>2025-02-18</td>\n",
       "      <td>3.2</td>\n",
       "      <td>3709</td>\n",
       "      <td>8.1</td>\n",
       "      <td>0</td>\n",
       "      <td>1</td>\n",
       "      <td>0</td>\n",
       "      <td>0</td>\n",
       "      <td>0</td>\n",
       "      <td>0</td>\n",
       "      <td>...</td>\n",
       "      <td>0</td>\n",
       "      <td>0</td>\n",
       "      <td>16.2</td>\n",
       "      <td>44.7</td>\n",
       "      <td>3.833333</td>\n",
       "      <td>2.314286</td>\n",
       "      <td>1.490000</td>\n",
       "      <td>2.948284</td>\n",
       "      <td>1.800667</td>\n",
       "      <td>1</td>\n",
       "    </tr>\n",
       "  </tbody>\n",
       "</table>\n",
       "<p>3710 rows × 29 columns</p>\n",
       "</div>"
      ],
      "text/plain": [
       "     fecha_observacion  valor  offset days  valor_previo  Lunes  Martes  \\\n",
       "0           2013-01-01    0.0            0           0.0      0       1   \n",
       "1           2013-01-02    0.3            1           0.0      0       0   \n",
       "2           2013-01-03    0.0            2           0.3      0       0   \n",
       "3           2013-01-04    0.0            3           0.0      0       0   \n",
       "4           2013-01-05    0.0            4           0.0      0       0   \n",
       "...                ...    ...          ...           ...    ...     ...   \n",
       "3705        2024-12-22    3.2         3705           0.6      0       0   \n",
       "3706        2024-12-25    0.4         3706           3.2      0       0   \n",
       "3707        2025-01-06    0.2         3707           0.4      1       0   \n",
       "3708        2025-01-21    8.1         3708           0.2      0       1   \n",
       "3709        2025-02-18    3.2         3709           8.1      0       1   \n",
       "\n",
       "      Miércoles  Jueves  Viernes  Sábado  ...  Octubre  Noviembre  \\\n",
       "0             0       0        0       0  ...        0          0   \n",
       "1             1       0        0       0  ...        0          0   \n",
       "2             0       1        0       0  ...        0          0   \n",
       "3             0       0        1       0  ...        0          0   \n",
       "4             0       0        0       1  ...        0          0   \n",
       "...         ...     ...      ...     ...  ...      ...        ...   \n",
       "3705          0       0        0       0  ...        0          0   \n",
       "3706          1       0        0       0  ...        0          0   \n",
       "3707          0       0        0       0  ...        0          0   \n",
       "3708          0       0        0       0  ...        0          0   \n",
       "3709          0       0        0       0  ...        0          0   \n",
       "\n",
       "      lluvia_acumulada_semana  lluvia_acumulada_mes  lluvia_media_3d  \\\n",
       "0                         0.0                   0.0         0.000000   \n",
       "1                         0.3                   0.3         0.150000   \n",
       "2                         0.3                   0.3         0.100000   \n",
       "3                         0.3                   0.3         0.100000   \n",
       "4                         0.3                   0.3         0.000000   \n",
       "...                       ...                   ...              ...   \n",
       "3705                      8.6                  64.6         1.433333   \n",
       "3706                      7.0                  50.1         1.400000   \n",
       "3707                      5.6                  37.2         1.266667   \n",
       "3708                     13.1                  41.9         2.900000   \n",
       "3709                     16.2                  44.7         3.833333   \n",
       "\n",
       "      lluvia_media_7d  lluvia_media_30d  lluvia_std_7d  lluvia_std_30d  llueve  \n",
       "0            0.000000          0.000000       0.000000        0.000000       0  \n",
       "1            0.150000          0.150000       0.000000        0.000000       1  \n",
       "2            0.100000          0.100000       0.212132        0.212132       0  \n",
       "3            0.075000          0.075000       0.173205        0.173205       0  \n",
       "4            0.060000          0.060000       0.150000        0.150000       0  \n",
       "...               ...               ...            ...             ...     ...  \n",
       "3705         1.228571          2.153333       0.677882        4.233176       1  \n",
       "3706         1.000000          1.670000       1.096531        3.487983       1  \n",
       "3707         0.800000          1.240000       1.075484        2.535289       1  \n",
       "3708         1.871429          1.396667       1.075484        1.343849       1  \n",
       "3709         2.314286          1.490000       2.948284        1.800667       1  \n",
       "\n",
       "[3710 rows x 29 columns]"
      ]
     },
     "execution_count": 200,
     "metadata": {},
     "output_type": "execute_result"
    }
   ],
   "source": [
    "df_lluvia"
   ]
  },
  {
   "cell_type": "code",
   "execution_count": 201,
   "metadata": {},
   "outputs": [
    {
     "data": {
      "text/plain": [
       "fecha_observacion          0\n",
       "valor                      0\n",
       "offset days                0\n",
       "valor_previo               0\n",
       "Lunes                      0\n",
       "Martes                     0\n",
       "Miércoles                  0\n",
       "Jueves                     0\n",
       "Viernes                    0\n",
       "Sábado                     0\n",
       "Enero                      0\n",
       "Febrero                    0\n",
       "Marzo                      0\n",
       "Abril                      0\n",
       "Mayo                       0\n",
       "Junio                      0\n",
       "Julio                      0\n",
       "Agosto                     0\n",
       "Septiembre                 0\n",
       "Octubre                    0\n",
       "Noviembre                  0\n",
       "lluvia_acumulada_semana    0\n",
       "lluvia_acumulada_mes       0\n",
       "lluvia_media_3d            0\n",
       "lluvia_media_7d            0\n",
       "lluvia_media_30d           0\n",
       "lluvia_std_7d              0\n",
       "lluvia_std_30d             0\n",
       "llueve                     0\n",
       "dtype: int64"
      ]
     },
     "execution_count": 201,
     "metadata": {},
     "output_type": "execute_result"
    }
   ],
   "source": [
    "#veo los valores nulos\n",
    "df_lluvia.isnull().sum()"
   ]
  },
  {
   "cell_type": "code",
   "execution_count": 202,
   "metadata": {},
   "outputs": [
    {
     "data": {
      "text/html": [
       "<div>\n",
       "<style scoped>\n",
       "    .dataframe tbody tr th:only-of-type {\n",
       "        vertical-align: middle;\n",
       "    }\n",
       "\n",
       "    .dataframe tbody tr th {\n",
       "        vertical-align: top;\n",
       "    }\n",
       "\n",
       "    .dataframe thead th {\n",
       "        text-align: right;\n",
       "    }\n",
       "</style>\n",
       "<table border=\"1\" class=\"dataframe\">\n",
       "  <thead>\n",
       "    <tr style=\"text-align: right;\">\n",
       "      <th></th>\n",
       "      <th>fecha_observacion</th>\n",
       "      <th>valor</th>\n",
       "      <th>offset days</th>\n",
       "      <th>valor_previo</th>\n",
       "      <th>Lunes</th>\n",
       "      <th>Martes</th>\n",
       "      <th>Miércoles</th>\n",
       "      <th>Jueves</th>\n",
       "      <th>Viernes</th>\n",
       "      <th>Sábado</th>\n",
       "      <th>...</th>\n",
       "      <th>Octubre</th>\n",
       "      <th>Noviembre</th>\n",
       "      <th>lluvia_acumulada_semana</th>\n",
       "      <th>lluvia_acumulada_mes</th>\n",
       "      <th>lluvia_media_3d</th>\n",
       "      <th>lluvia_media_7d</th>\n",
       "      <th>lluvia_media_30d</th>\n",
       "      <th>lluvia_std_7d</th>\n",
       "      <th>lluvia_std_30d</th>\n",
       "      <th>llueve</th>\n",
       "    </tr>\n",
       "  </thead>\n",
       "  <tbody>\n",
       "    <tr>\n",
       "      <th>0</th>\n",
       "      <td>2013-01-01</td>\n",
       "      <td>0.0</td>\n",
       "      <td>0</td>\n",
       "      <td>0.0</td>\n",
       "      <td>0</td>\n",
       "      <td>1</td>\n",
       "      <td>0</td>\n",
       "      <td>0</td>\n",
       "      <td>0</td>\n",
       "      <td>0</td>\n",
       "      <td>...</td>\n",
       "      <td>0</td>\n",
       "      <td>0</td>\n",
       "      <td>0.0</td>\n",
       "      <td>0.0</td>\n",
       "      <td>0.000000</td>\n",
       "      <td>0.000000</td>\n",
       "      <td>0.000000</td>\n",
       "      <td>0.000000</td>\n",
       "      <td>0.000000</td>\n",
       "      <td>0</td>\n",
       "    </tr>\n",
       "    <tr>\n",
       "      <th>1</th>\n",
       "      <td>2013-01-02</td>\n",
       "      <td>0.3</td>\n",
       "      <td>1</td>\n",
       "      <td>0.0</td>\n",
       "      <td>0</td>\n",
       "      <td>0</td>\n",
       "      <td>1</td>\n",
       "      <td>0</td>\n",
       "      <td>0</td>\n",
       "      <td>0</td>\n",
       "      <td>...</td>\n",
       "      <td>0</td>\n",
       "      <td>0</td>\n",
       "      <td>0.3</td>\n",
       "      <td>0.3</td>\n",
       "      <td>0.150000</td>\n",
       "      <td>0.150000</td>\n",
       "      <td>0.150000</td>\n",
       "      <td>0.000000</td>\n",
       "      <td>0.000000</td>\n",
       "      <td>1</td>\n",
       "    </tr>\n",
       "    <tr>\n",
       "      <th>2</th>\n",
       "      <td>2013-01-03</td>\n",
       "      <td>0.0</td>\n",
       "      <td>2</td>\n",
       "      <td>0.3</td>\n",
       "      <td>0</td>\n",
       "      <td>0</td>\n",
       "      <td>0</td>\n",
       "      <td>1</td>\n",
       "      <td>0</td>\n",
       "      <td>0</td>\n",
       "      <td>...</td>\n",
       "      <td>0</td>\n",
       "      <td>0</td>\n",
       "      <td>0.3</td>\n",
       "      <td>0.3</td>\n",
       "      <td>0.100000</td>\n",
       "      <td>0.100000</td>\n",
       "      <td>0.100000</td>\n",
       "      <td>0.212132</td>\n",
       "      <td>0.212132</td>\n",
       "      <td>0</td>\n",
       "    </tr>\n",
       "    <tr>\n",
       "      <th>3</th>\n",
       "      <td>2013-01-04</td>\n",
       "      <td>0.0</td>\n",
       "      <td>3</td>\n",
       "      <td>0.0</td>\n",
       "      <td>0</td>\n",
       "      <td>0</td>\n",
       "      <td>0</td>\n",
       "      <td>0</td>\n",
       "      <td>1</td>\n",
       "      <td>0</td>\n",
       "      <td>...</td>\n",
       "      <td>0</td>\n",
       "      <td>0</td>\n",
       "      <td>0.3</td>\n",
       "      <td>0.3</td>\n",
       "      <td>0.100000</td>\n",
       "      <td>0.075000</td>\n",
       "      <td>0.075000</td>\n",
       "      <td>0.173205</td>\n",
       "      <td>0.173205</td>\n",
       "      <td>0</td>\n",
       "    </tr>\n",
       "    <tr>\n",
       "      <th>4</th>\n",
       "      <td>2013-01-05</td>\n",
       "      <td>0.0</td>\n",
       "      <td>4</td>\n",
       "      <td>0.0</td>\n",
       "      <td>0</td>\n",
       "      <td>0</td>\n",
       "      <td>0</td>\n",
       "      <td>0</td>\n",
       "      <td>0</td>\n",
       "      <td>1</td>\n",
       "      <td>...</td>\n",
       "      <td>0</td>\n",
       "      <td>0</td>\n",
       "      <td>0.3</td>\n",
       "      <td>0.3</td>\n",
       "      <td>0.000000</td>\n",
       "      <td>0.060000</td>\n",
       "      <td>0.060000</td>\n",
       "      <td>0.150000</td>\n",
       "      <td>0.150000</td>\n",
       "      <td>0</td>\n",
       "    </tr>\n",
       "    <tr>\n",
       "      <th>...</th>\n",
       "      <td>...</td>\n",
       "      <td>...</td>\n",
       "      <td>...</td>\n",
       "      <td>...</td>\n",
       "      <td>...</td>\n",
       "      <td>...</td>\n",
       "      <td>...</td>\n",
       "      <td>...</td>\n",
       "      <td>...</td>\n",
       "      <td>...</td>\n",
       "      <td>...</td>\n",
       "      <td>...</td>\n",
       "      <td>...</td>\n",
       "      <td>...</td>\n",
       "      <td>...</td>\n",
       "      <td>...</td>\n",
       "      <td>...</td>\n",
       "      <td>...</td>\n",
       "      <td>...</td>\n",
       "      <td>...</td>\n",
       "      <td>...</td>\n",
       "    </tr>\n",
       "    <tr>\n",
       "      <th>3705</th>\n",
       "      <td>2024-12-22</td>\n",
       "      <td>3.2</td>\n",
       "      <td>3705</td>\n",
       "      <td>0.6</td>\n",
       "      <td>0</td>\n",
       "      <td>0</td>\n",
       "      <td>0</td>\n",
       "      <td>0</td>\n",
       "      <td>0</td>\n",
       "      <td>0</td>\n",
       "      <td>...</td>\n",
       "      <td>0</td>\n",
       "      <td>0</td>\n",
       "      <td>8.6</td>\n",
       "      <td>64.6</td>\n",
       "      <td>1.433333</td>\n",
       "      <td>1.228571</td>\n",
       "      <td>2.153333</td>\n",
       "      <td>0.677882</td>\n",
       "      <td>4.233176</td>\n",
       "      <td>1</td>\n",
       "    </tr>\n",
       "    <tr>\n",
       "      <th>3706</th>\n",
       "      <td>2024-12-25</td>\n",
       "      <td>0.4</td>\n",
       "      <td>3706</td>\n",
       "      <td>3.2</td>\n",
       "      <td>0</td>\n",
       "      <td>0</td>\n",
       "      <td>1</td>\n",
       "      <td>0</td>\n",
       "      <td>0</td>\n",
       "      <td>0</td>\n",
       "      <td>...</td>\n",
       "      <td>0</td>\n",
       "      <td>0</td>\n",
       "      <td>7.0</td>\n",
       "      <td>50.1</td>\n",
       "      <td>1.400000</td>\n",
       "      <td>1.000000</td>\n",
       "      <td>1.670000</td>\n",
       "      <td>1.096531</td>\n",
       "      <td>3.487983</td>\n",
       "      <td>1</td>\n",
       "    </tr>\n",
       "    <tr>\n",
       "      <th>3707</th>\n",
       "      <td>2025-01-06</td>\n",
       "      <td>0.2</td>\n",
       "      <td>3707</td>\n",
       "      <td>0.4</td>\n",
       "      <td>1</td>\n",
       "      <td>0</td>\n",
       "      <td>0</td>\n",
       "      <td>0</td>\n",
       "      <td>0</td>\n",
       "      <td>0</td>\n",
       "      <td>...</td>\n",
       "      <td>0</td>\n",
       "      <td>0</td>\n",
       "      <td>5.6</td>\n",
       "      <td>37.2</td>\n",
       "      <td>1.266667</td>\n",
       "      <td>0.800000</td>\n",
       "      <td>1.240000</td>\n",
       "      <td>1.075484</td>\n",
       "      <td>2.535289</td>\n",
       "      <td>1</td>\n",
       "    </tr>\n",
       "    <tr>\n",
       "      <th>3708</th>\n",
       "      <td>2025-01-21</td>\n",
       "      <td>8.1</td>\n",
       "      <td>3708</td>\n",
       "      <td>0.2</td>\n",
       "      <td>0</td>\n",
       "      <td>1</td>\n",
       "      <td>0</td>\n",
       "      <td>0</td>\n",
       "      <td>0</td>\n",
       "      <td>0</td>\n",
       "      <td>...</td>\n",
       "      <td>0</td>\n",
       "      <td>0</td>\n",
       "      <td>13.1</td>\n",
       "      <td>41.9</td>\n",
       "      <td>2.900000</td>\n",
       "      <td>1.871429</td>\n",
       "      <td>1.396667</td>\n",
       "      <td>1.075484</td>\n",
       "      <td>1.343849</td>\n",
       "      <td>1</td>\n",
       "    </tr>\n",
       "    <tr>\n",
       "      <th>3709</th>\n",
       "      <td>2025-02-18</td>\n",
       "      <td>3.2</td>\n",
       "      <td>3709</td>\n",
       "      <td>8.1</td>\n",
       "      <td>0</td>\n",
       "      <td>1</td>\n",
       "      <td>0</td>\n",
       "      <td>0</td>\n",
       "      <td>0</td>\n",
       "      <td>0</td>\n",
       "      <td>...</td>\n",
       "      <td>0</td>\n",
       "      <td>0</td>\n",
       "      <td>16.2</td>\n",
       "      <td>44.7</td>\n",
       "      <td>3.833333</td>\n",
       "      <td>2.314286</td>\n",
       "      <td>1.490000</td>\n",
       "      <td>2.948284</td>\n",
       "      <td>1.800667</td>\n",
       "      <td>1</td>\n",
       "    </tr>\n",
       "  </tbody>\n",
       "</table>\n",
       "<p>3710 rows × 29 columns</p>\n",
       "</div>"
      ],
      "text/plain": [
       "     fecha_observacion  valor  offset days  valor_previo  Lunes  Martes  \\\n",
       "0           2013-01-01    0.0            0           0.0      0       1   \n",
       "1           2013-01-02    0.3            1           0.0      0       0   \n",
       "2           2013-01-03    0.0            2           0.3      0       0   \n",
       "3           2013-01-04    0.0            3           0.0      0       0   \n",
       "4           2013-01-05    0.0            4           0.0      0       0   \n",
       "...                ...    ...          ...           ...    ...     ...   \n",
       "3705        2024-12-22    3.2         3705           0.6      0       0   \n",
       "3706        2024-12-25    0.4         3706           3.2      0       0   \n",
       "3707        2025-01-06    0.2         3707           0.4      1       0   \n",
       "3708        2025-01-21    8.1         3708           0.2      0       1   \n",
       "3709        2025-02-18    3.2         3709           8.1      0       1   \n",
       "\n",
       "      Miércoles  Jueves  Viernes  Sábado  ...  Octubre  Noviembre  \\\n",
       "0             0       0        0       0  ...        0          0   \n",
       "1             1       0        0       0  ...        0          0   \n",
       "2             0       1        0       0  ...        0          0   \n",
       "3             0       0        1       0  ...        0          0   \n",
       "4             0       0        0       1  ...        0          0   \n",
       "...         ...     ...      ...     ...  ...      ...        ...   \n",
       "3705          0       0        0       0  ...        0          0   \n",
       "3706          1       0        0       0  ...        0          0   \n",
       "3707          0       0        0       0  ...        0          0   \n",
       "3708          0       0        0       0  ...        0          0   \n",
       "3709          0       0        0       0  ...        0          0   \n",
       "\n",
       "      lluvia_acumulada_semana  lluvia_acumulada_mes  lluvia_media_3d  \\\n",
       "0                         0.0                   0.0         0.000000   \n",
       "1                         0.3                   0.3         0.150000   \n",
       "2                         0.3                   0.3         0.100000   \n",
       "3                         0.3                   0.3         0.100000   \n",
       "4                         0.3                   0.3         0.000000   \n",
       "...                       ...                   ...              ...   \n",
       "3705                      8.6                  64.6         1.433333   \n",
       "3706                      7.0                  50.1         1.400000   \n",
       "3707                      5.6                  37.2         1.266667   \n",
       "3708                     13.1                  41.9         2.900000   \n",
       "3709                     16.2                  44.7         3.833333   \n",
       "\n",
       "      lluvia_media_7d  lluvia_media_30d  lluvia_std_7d  lluvia_std_30d  llueve  \n",
       "0            0.000000          0.000000       0.000000        0.000000       0  \n",
       "1            0.150000          0.150000       0.000000        0.000000       1  \n",
       "2            0.100000          0.100000       0.212132        0.212132       0  \n",
       "3            0.075000          0.075000       0.173205        0.173205       0  \n",
       "4            0.060000          0.060000       0.150000        0.150000       0  \n",
       "...               ...               ...            ...             ...     ...  \n",
       "3705         1.228571          2.153333       0.677882        4.233176       1  \n",
       "3706         1.000000          1.670000       1.096531        3.487983       1  \n",
       "3707         0.800000          1.240000       1.075484        2.535289       1  \n",
       "3708         1.871429          1.396667       1.075484        1.343849       1  \n",
       "3709         2.314286          1.490000       2.948284        1.800667       1  \n",
       "\n",
       "[3710 rows x 29 columns]"
      ]
     },
     "execution_count": 202,
     "metadata": {},
     "output_type": "execute_result"
    }
   ],
   "source": [
    "df_lluvia.dropna()"
   ]
  },
  {
   "cell_type": "code",
   "execution_count": 203,
   "metadata": {},
   "outputs": [],
   "source": [
    "df_lluvia=df_lluvia.dropna()"
   ]
  },
  {
   "cell_type": "code",
   "execution_count": 204,
   "metadata": {},
   "outputs": [
    {
     "data": {
      "text/plain": [
       "Index(['fecha_observacion', 'valor', 'offset days', 'valor_previo', 'Lunes',\n",
       "       'Martes', 'Miércoles', 'Jueves', 'Viernes', 'Sábado', 'Enero',\n",
       "       'Febrero', 'Marzo', 'Abril', 'Mayo', 'Junio', 'Julio', 'Agosto',\n",
       "       'Septiembre', 'Octubre', 'Noviembre', 'lluvia_acumulada_semana',\n",
       "       'lluvia_acumulada_mes', 'lluvia_media_3d', 'lluvia_media_7d',\n",
       "       'lluvia_media_30d', 'lluvia_std_7d', 'lluvia_std_30d', 'llueve'],\n",
       "      dtype='object')"
      ]
     },
     "execution_count": 204,
     "metadata": {},
     "output_type": "execute_result"
    }
   ],
   "source": [
    "df_lluvia.columns"
   ]
  },
  {
   "cell_type": "code",
   "execution_count": 205,
   "metadata": {},
   "outputs": [],
   "source": [
    "# Dividir los datos en X (características) y y (etiqueta)\n",
    "X = df_lluvia.drop(columns=['valor', 'fecha_observacion', 'llueve'])\n",
    "y = df_lluvia['llueve']\n",
    "\n",
    "# Dividir los datos en entrenamiento y prueba\n",
    "X_train, X_test, y_train, y_test = train_test_split(X, y, test_size=0.2, random_state=42, shuffle=False)\n"
   ]
  },
  {
   "cell_type": "code",
   "execution_count": 206,
   "metadata": {},
   "outputs": [
    {
     "data": {
      "text/plain": [
       "[<matplotlib.lines.Line2D at 0x315b8a030>]"
      ]
     },
     "execution_count": 206,
     "metadata": {},
     "output_type": "execute_result"
    },
    {
     "data": {
      "image/png": "[encoded data removed]",
      "text/plain": [
       "<Figure size 640x480 with 1 Axes>"
      ]
     },
     "metadata": {},
     "output_type": "display_data"
    }
   ],
   "source": [
    "#hago un plot de x_train y x_test\n",
    "plt.plot(X_train['offset days'], y_train, color='blue', label='Train')\n",
    "plt.plot(X_test['offset days'], y_test, color='green', label='Test')"
   ]
  },
  {
   "cell_type": "code",
   "execution_count": 207,
   "metadata": {},
   "outputs": [
    {
     "data": {
      "text/html": [
       "<div>\n",
       "<style scoped>\n",
       "    .dataframe tbody tr th:only-of-type {\n",
       "        vertical-align: middle;\n",
       "    }\n",
       "\n",
       "    .dataframe tbody tr th {\n",
       "        vertical-align: top;\n",
       "    }\n",
       "\n",
       "    .dataframe thead th {\n",
       "        text-align: right;\n",
       "    }\n",
       "</style>\n",
       "<table border=\"1\" class=\"dataframe\">\n",
       "  <thead>\n",
       "    <tr style=\"text-align: right;\">\n",
       "      <th></th>\n",
       "      <th>offset days</th>\n",
       "      <th>valor_previo</th>\n",
       "      <th>Lunes</th>\n",
       "      <th>Martes</th>\n",
       "      <th>Miércoles</th>\n",
       "      <th>Jueves</th>\n",
       "      <th>Viernes</th>\n",
       "      <th>Sábado</th>\n",
       "      <th>Enero</th>\n",
       "      <th>Febrero</th>\n",
       "      <th>...</th>\n",
       "      <th>Septiembre</th>\n",
       "      <th>Octubre</th>\n",
       "      <th>Noviembre</th>\n",
       "      <th>lluvia_acumulada_semana</th>\n",
       "      <th>lluvia_acumulada_mes</th>\n",
       "      <th>lluvia_media_3d</th>\n",
       "      <th>lluvia_media_7d</th>\n",
       "      <th>lluvia_media_30d</th>\n",
       "      <th>lluvia_std_7d</th>\n",
       "      <th>lluvia_std_30d</th>\n",
       "    </tr>\n",
       "  </thead>\n",
       "  <tbody>\n",
       "    <tr>\n",
       "      <th>0</th>\n",
       "      <td>0</td>\n",
       "      <td>0.0</td>\n",
       "      <td>0</td>\n",
       "      <td>1</td>\n",
       "      <td>0</td>\n",
       "      <td>0</td>\n",
       "      <td>0</td>\n",
       "      <td>0</td>\n",
       "      <td>1</td>\n",
       "      <td>0</td>\n",
       "      <td>...</td>\n",
       "      <td>0</td>\n",
       "      <td>0</td>\n",
       "      <td>0</td>\n",
       "      <td>0.0</td>\n",
       "      <td>0.0</td>\n",
       "      <td>0.00</td>\n",
       "      <td>0.000000</td>\n",
       "      <td>0.000000</td>\n",
       "      <td>0.000000</td>\n",
       "      <td>0.000000</td>\n",
       "    </tr>\n",
       "    <tr>\n",
       "      <th>1</th>\n",
       "      <td>1</td>\n",
       "      <td>0.0</td>\n",
       "      <td>0</td>\n",
       "      <td>0</td>\n",
       "      <td>1</td>\n",
       "      <td>0</td>\n",
       "      <td>0</td>\n",
       "      <td>0</td>\n",
       "      <td>1</td>\n",
       "      <td>0</td>\n",
       "      <td>...</td>\n",
       "      <td>0</td>\n",
       "      <td>0</td>\n",
       "      <td>0</td>\n",
       "      <td>0.3</td>\n",
       "      <td>0.3</td>\n",
       "      <td>0.15</td>\n",
       "      <td>0.150000</td>\n",
       "      <td>0.150000</td>\n",
       "      <td>0.000000</td>\n",
       "      <td>0.000000</td>\n",
       "    </tr>\n",
       "    <tr>\n",
       "      <th>2</th>\n",
       "      <td>2</td>\n",
       "      <td>0.3</td>\n",
       "      <td>0</td>\n",
       "      <td>0</td>\n",
       "      <td>0</td>\n",
       "      <td>1</td>\n",
       "      <td>0</td>\n",
       "      <td>0</td>\n",
       "      <td>1</td>\n",
       "      <td>0</td>\n",
       "      <td>...</td>\n",
       "      <td>0</td>\n",
       "      <td>0</td>\n",
       "      <td>0</td>\n",
       "      <td>0.3</td>\n",
       "      <td>0.3</td>\n",
       "      <td>0.10</td>\n",
       "      <td>0.100000</td>\n",
       "      <td>0.100000</td>\n",
       "      <td>0.212132</td>\n",
       "      <td>0.212132</td>\n",
       "    </tr>\n",
       "    <tr>\n",
       "      <th>3</th>\n",
       "      <td>3</td>\n",
       "      <td>0.0</td>\n",
       "      <td>0</td>\n",
       "      <td>0</td>\n",
       "      <td>0</td>\n",
       "      <td>0</td>\n",
       "      <td>1</td>\n",
       "      <td>0</td>\n",
       "      <td>1</td>\n",
       "      <td>0</td>\n",
       "      <td>...</td>\n",
       "      <td>0</td>\n",
       "      <td>0</td>\n",
       "      <td>0</td>\n",
       "      <td>0.3</td>\n",
       "      <td>0.3</td>\n",
       "      <td>0.10</td>\n",
       "      <td>0.075000</td>\n",
       "      <td>0.075000</td>\n",
       "      <td>0.173205</td>\n",
       "      <td>0.173205</td>\n",
       "    </tr>\n",
       "    <tr>\n",
       "      <th>4</th>\n",
       "      <td>4</td>\n",
       "      <td>0.0</td>\n",
       "      <td>0</td>\n",
       "      <td>0</td>\n",
       "      <td>0</td>\n",
       "      <td>0</td>\n",
       "      <td>0</td>\n",
       "      <td>1</td>\n",
       "      <td>1</td>\n",
       "      <td>0</td>\n",
       "      <td>...</td>\n",
       "      <td>0</td>\n",
       "      <td>0</td>\n",
       "      <td>0</td>\n",
       "      <td>0.3</td>\n",
       "      <td>0.3</td>\n",
       "      <td>0.00</td>\n",
       "      <td>0.060000</td>\n",
       "      <td>0.060000</td>\n",
       "      <td>0.150000</td>\n",
       "      <td>0.150000</td>\n",
       "    </tr>\n",
       "    <tr>\n",
       "      <th>...</th>\n",
       "      <td>...</td>\n",
       "      <td>...</td>\n",
       "      <td>...</td>\n",
       "      <td>...</td>\n",
       "      <td>...</td>\n",
       "      <td>...</td>\n",
       "      <td>...</td>\n",
       "      <td>...</td>\n",
       "      <td>...</td>\n",
       "      <td>...</td>\n",
       "      <td>...</td>\n",
       "      <td>...</td>\n",
       "      <td>...</td>\n",
       "      <td>...</td>\n",
       "      <td>...</td>\n",
       "      <td>...</td>\n",
       "      <td>...</td>\n",
       "      <td>...</td>\n",
       "      <td>...</td>\n",
       "      <td>...</td>\n",
       "      <td>...</td>\n",
       "    </tr>\n",
       "    <tr>\n",
       "      <th>2963</th>\n",
       "      <td>2963</td>\n",
       "      <td>0.0</td>\n",
       "      <td>0</td>\n",
       "      <td>0</td>\n",
       "      <td>0</td>\n",
       "      <td>1</td>\n",
       "      <td>0</td>\n",
       "      <td>0</td>\n",
       "      <td>0</td>\n",
       "      <td>1</td>\n",
       "      <td>...</td>\n",
       "      <td>0</td>\n",
       "      <td>0</td>\n",
       "      <td>0</td>\n",
       "      <td>0.8</td>\n",
       "      <td>0.8</td>\n",
       "      <td>0.00</td>\n",
       "      <td>0.114286</td>\n",
       "      <td>0.026667</td>\n",
       "      <td>0.302372</td>\n",
       "      <td>0.146059</td>\n",
       "    </tr>\n",
       "    <tr>\n",
       "      <th>2964</th>\n",
       "      <td>2964</td>\n",
       "      <td>0.0</td>\n",
       "      <td>0</td>\n",
       "      <td>0</td>\n",
       "      <td>0</td>\n",
       "      <td>0</td>\n",
       "      <td>1</td>\n",
       "      <td>0</td>\n",
       "      <td>0</td>\n",
       "      <td>1</td>\n",
       "      <td>...</td>\n",
       "      <td>0</td>\n",
       "      <td>0</td>\n",
       "      <td>0</td>\n",
       "      <td>0.0</td>\n",
       "      <td>0.8</td>\n",
       "      <td>0.00</td>\n",
       "      <td>0.000000</td>\n",
       "      <td>0.026667</td>\n",
       "      <td>0.302372</td>\n",
       "      <td>0.146059</td>\n",
       "    </tr>\n",
       "    <tr>\n",
       "      <th>2965</th>\n",
       "      <td>2965</td>\n",
       "      <td>0.0</td>\n",
       "      <td>0</td>\n",
       "      <td>0</td>\n",
       "      <td>0</td>\n",
       "      <td>0</td>\n",
       "      <td>0</td>\n",
       "      <td>1</td>\n",
       "      <td>0</td>\n",
       "      <td>1</td>\n",
       "      <td>...</td>\n",
       "      <td>0</td>\n",
       "      <td>0</td>\n",
       "      <td>0</td>\n",
       "      <td>0.0</td>\n",
       "      <td>0.8</td>\n",
       "      <td>0.00</td>\n",
       "      <td>0.000000</td>\n",
       "      <td>0.026667</td>\n",
       "      <td>0.000000</td>\n",
       "      <td>0.146059</td>\n",
       "    </tr>\n",
       "    <tr>\n",
       "      <th>2966</th>\n",
       "      <td>2966</td>\n",
       "      <td>0.0</td>\n",
       "      <td>0</td>\n",
       "      <td>0</td>\n",
       "      <td>0</td>\n",
       "      <td>0</td>\n",
       "      <td>0</td>\n",
       "      <td>0</td>\n",
       "      <td>0</td>\n",
       "      <td>1</td>\n",
       "      <td>...</td>\n",
       "      <td>0</td>\n",
       "      <td>0</td>\n",
       "      <td>0</td>\n",
       "      <td>0.0</td>\n",
       "      <td>0.8</td>\n",
       "      <td>0.00</td>\n",
       "      <td>0.000000</td>\n",
       "      <td>0.026667</td>\n",
       "      <td>0.000000</td>\n",
       "      <td>0.146059</td>\n",
       "    </tr>\n",
       "    <tr>\n",
       "      <th>2967</th>\n",
       "      <td>2967</td>\n",
       "      <td>0.0</td>\n",
       "      <td>1</td>\n",
       "      <td>0</td>\n",
       "      <td>0</td>\n",
       "      <td>0</td>\n",
       "      <td>0</td>\n",
       "      <td>0</td>\n",
       "      <td>0</td>\n",
       "      <td>1</td>\n",
       "      <td>...</td>\n",
       "      <td>0</td>\n",
       "      <td>0</td>\n",
       "      <td>0</td>\n",
       "      <td>0.0</td>\n",
       "      <td>0.8</td>\n",
       "      <td>0.00</td>\n",
       "      <td>0.000000</td>\n",
       "      <td>0.026667</td>\n",
       "      <td>0.000000</td>\n",
       "      <td>0.146059</td>\n",
       "    </tr>\n",
       "  </tbody>\n",
       "</table>\n",
       "<p>2968 rows × 26 columns</p>\n",
       "</div>"
      ],
      "text/plain": [
       "      offset days  valor_previo  Lunes  Martes  Miércoles  Jueves  Viernes  \\\n",
       "0               0           0.0      0       1          0       0        0   \n",
       "1               1           0.0      0       0          1       0        0   \n",
       "2               2           0.3      0       0          0       1        0   \n",
       "3               3           0.0      0       0          0       0        1   \n",
       "4               4           0.0      0       0          0       0        0   \n",
       "...           ...           ...    ...     ...        ...     ...      ...   \n",
       "2963         2963           0.0      0       0          0       1        0   \n",
       "2964         2964           0.0      0       0          0       0        1   \n",
       "2965         2965           0.0      0       0          0       0        0   \n",
       "2966         2966           0.0      0       0          0       0        0   \n",
       "2967         2967           0.0      1       0          0       0        0   \n",
       "\n",
       "      Sábado  Enero  Febrero  ...  Septiembre  Octubre  Noviembre  \\\n",
       "0          0      1        0  ...           0        0          0   \n",
       "1          0      1        0  ...           0        0          0   \n",
       "2          0      1        0  ...           0        0          0   \n",
       "3          0      1        0  ...           0        0          0   \n",
       "4          1      1        0  ...           0        0          0   \n",
       "...      ...    ...      ...  ...         ...      ...        ...   \n",
       "2963       0      0        1  ...           0        0          0   \n",
       "2964       0      0        1  ...           0        0          0   \n",
       "2965       1      0        1  ...           0        0          0   \n",
       "2966       0      0        1  ...           0        0          0   \n",
       "2967       0      0        1  ...           0        0          0   \n",
       "\n",
       "      lluvia_acumulada_semana  lluvia_acumulada_mes  lluvia_media_3d  \\\n",
       "0                         0.0                   0.0             0.00   \n",
       "1                         0.3                   0.3             0.15   \n",
       "2                         0.3                   0.3             0.10   \n",
       "3                         0.3                   0.3             0.10   \n",
       "4                         0.3                   0.3             0.00   \n",
       "...                       ...                   ...              ...   \n",
       "2963                      0.8                   0.8             0.00   \n",
       "2964                      0.0                   0.8             0.00   \n",
       "2965                      0.0                   0.8             0.00   \n",
       "2966                      0.0                   0.8             0.00   \n",
       "2967                      0.0                   0.8             0.00   \n",
       "\n",
       "      lluvia_media_7d  lluvia_media_30d  lluvia_std_7d  lluvia_std_30d  \n",
       "0            0.000000          0.000000       0.000000        0.000000  \n",
       "1            0.150000          0.150000       0.000000        0.000000  \n",
       "2            0.100000          0.100000       0.212132        0.212132  \n",
       "3            0.075000          0.075000       0.173205        0.173205  \n",
       "4            0.060000          0.060000       0.150000        0.150000  \n",
       "...               ...               ...            ...             ...  \n",
       "2963         0.114286          0.026667       0.302372        0.146059  \n",
       "2964         0.000000          0.026667       0.302372        0.146059  \n",
       "2965         0.000000          0.026667       0.000000        0.146059  \n",
       "2966         0.000000          0.026667       0.000000        0.146059  \n",
       "2967         0.000000          0.026667       0.000000        0.146059  \n",
       "\n",
       "[2968 rows x 26 columns]"
      ]
     },
     "execution_count": 207,
     "metadata": {},
     "output_type": "execute_result"
    }
   ],
   "source": [
    "X_train"
   ]
  },
  {
   "cell_type": "code",
   "execution_count": 208,
   "metadata": {},
   "outputs": [
    {
     "data": {
      "text/plain": [
       "0       0\n",
       "1       1\n",
       "2       0\n",
       "3       0\n",
       "4       0\n",
       "       ..\n",
       "2963    0\n",
       "2964    0\n",
       "2965    0\n",
       "2966    0\n",
       "2967    0\n",
       "Name: llueve, Length: 2968, dtype: int64"
      ]
     },
     "execution_count": 208,
     "metadata": {},
     "output_type": "execute_result"
    }
   ],
   "source": [
    "y_train"
   ]
  },
  {
   "cell_type": "code",
   "execution_count": 209,
   "metadata": {},
   "outputs": [
    {
     "name": "stdout",
     "output_type": "stream",
     "text": [
      "Entrenando modelo: RandomForest\n",
      "RandomForest | Accuracy: 0.9084, Precision: 0.9086, Recall: 0.9084, F1 Score: 0.8947\n",
      "🏃 View run RandomForest at: http://localhost:8080/#/experiments/964539996084675361/runs/74f0afe8e57c42668b7aa607377e3d6e\n",
      "🧪 View experiment at: http://localhost:8080/#/experiments/964539996084675361\n",
      "Entrenando modelo: LogisticRegression\n"
     ]
    },
    {
     "name": "stderr",
     "output_type": "stream",
     "text": [
      "/opt/anaconda3/lib/python3.12/site-packages/sklearn/linear_model/_logistic.py:469: ConvergenceWarning: lbfgs failed to converge (status=1):\n",
      "STOP: TOTAL NO. of ITERATIONS REACHED LIMIT.\n",
      "\n",
      "Increase the number of iterations (max_iter) or scale the data as shown in:\n",
      "    https://scikit-learn.org/stable/modules/preprocessing.html\n",
      "Please also refer to the documentation for alternative solver options:\n",
      "    https://scikit-learn.org/stable/modules/linear_model.html#logistic-regression\n",
      "  n_iter_i = _check_optimize_result(\n"
     ]
    },
    {
     "name": "stdout",
     "output_type": "stream",
     "text": [
      "LogisticRegression | Accuracy: 0.8989, Precision: 0.9045, Recall: 0.8989, F1 Score: 0.8788\n",
      "🏃 View run LogisticRegression at: http://localhost:8080/#/experiments/964539996084675361/runs/40304111f66c4345973cfbe4e0de55cf\n",
      "🧪 View experiment at: http://localhost:8080/#/experiments/964539996084675361\n",
      "Entrenando modelo: XGBoost\n",
      "XGBoost | Accuracy: 0.9151, Precision: 0.9165, Recall: 0.9151, F1 Score: 0.9034\n",
      "🏃 View run XGBoost at: http://localhost:8080/#/experiments/964539996084675361/runs/fae6f008e1f94a7884727c019257e926\n",
      "🧪 View experiment at: http://localhost:8080/#/experiments/964539996084675361\n",
      "Entrenando modelo: CatBoost\n",
      "CatBoost | Accuracy: 0.9191, Precision: 0.9193, Recall: 0.9191, F1 Score: 0.9093\n",
      "🏃 View run CatBoost at: http://localhost:8080/#/experiments/964539996084675361/runs/5e29431a46a24774bbef135a711c2c9b\n",
      "🧪 View experiment at: http://localhost:8080/#/experiments/964539996084675361\n",
      "¡Entrenamiento y registro completado!\n"
     ]
    }
   ],
   "source": [
    "# Paso 3: Configurar el experimento en MLflow\n",
    "mlflow.set_experiment(\"Clasificacion_Lluvia\")\n",
    "\n",
    "# Paso 4: Entrenar múltiples modelos y registrarlos en MLflow\n",
    "models = {\n",
    "    \"RandomForest\": RandomForestClassifier(random_state=42),\n",
    "    \"LogisticRegression\": LogisticRegression(random_state=42),\n",
    "    \"XGBoost\": XGBClassifier(random_state=42),\n",
    "    \"CatBoost\": CatBoostClassifier(random_state=42, verbose=0)\n",
    "}\n",
    "\n",
    "# Paso 5: Iterar sobre los modelos y entrenarlos\n",
    "for model_name, model in models.items():\n",
    "    with mlflow.start_run(run_name=model_name):\n",
    "        print(f\"Entrenando modelo: {model_name}\")\n",
    "\n",
    "        # Entrenar el modelo\n",
    "        model.fit(X_train, y_train)\n",
    "\n",
    "        # Realizar predicciones\n",
    "        y_pred = model.predict(X_test)\n",
    "\n",
    "\n",
    "        # Calcular la matriz de confusión\n",
    "        cm = confusion_matrix(y_test, y_pred)\n",
    "\n",
    "        # Evaluar el modelo\n",
    "        accuracy = accuracy_score(y_test, y_pred)\n",
    "        precision = precision_score(y_test, y_pred, average='weighted')\n",
    "        recall = recall_score(y_test, y_pred, average='weighted')\n",
    "        f1 = f1_score(y_test, y_pred, average='weighted')\n",
    "\n",
    "        # Registrar el modelo y las métricas en MLflow\n",
    "        mlflow.log_param(\"Modelo\", model_name)\n",
    "        mlflow.log_metric(\"Accuracy\", accuracy)\n",
    "        mlflow.log_metric(\"Precision\", precision)\n",
    "        mlflow.log_metric(\"Recall\", recall)\n",
    "        mlflow.log_metric(\"F1 Score\", f1)\n",
    "\n",
    "        # Guardar la matriz de confusión como una imagen\n",
    "        plt.figure(figsize=(10, 7))\n",
    "        sns.heatmap(cm, annot=True, fmt='d', cmap='Blues', xticklabels=le.classes_, yticklabels=le.classes_)\n",
    "        plt.xlabel('Predicted')\n",
    "        plt.ylabel('True')\n",
    "        plt.title(f'Matriz de Confusión - {model_name}')\n",
    "        plt.savefig(f'confusion_matrix_{model_name}.png')\n",
    "        plt.close()\n",
    "\n",
    "        # Registrar la matriz de confusión como un artefacto en MLflow\n",
    "        mlflow.log_artifact(f'confusion_matrix_{model_name}.png')\n",
    "\n",
    "\n",
    "\n",
    "        print(f\"{model_name} | Accuracy: {accuracy:.4f}, Precision: {precision:.4f}, Recall: {recall:.4f}, F1 Score: {f1:.4f}\")\n",
    "\n",
    "print(\"¡Entrenamiento y registro completado!\")"
   ]
  },
  {
   "cell_type": "code",
   "execution_count": 211,
   "metadata": {},
   "outputs": [
    {
     "name": "stderr",
     "output_type": "stream",
     "text": [
      "\u001b[31m2025/02/27 14:54:49 WARNING mlflow.models.model: Model logged without a signature and input example. Please set `input_example` parameter when logging the model to auto infer the model signature.\u001b[0m\n"
     ]
    },
    {
     "name": "stdout",
     "output_type": "stream",
     "text": [
      "Combinación de parámetros {'iterations': 50, 'learning_rate': 0.01, 'depth': 5} | Accuracy: 0.8976, Precision: 0.8936, Recall: 0.8976, F1 Score: 0.8816\n",
      "🏃 View run CatBoost - {'iterations': 50, 'learning_rate': 0.01, 'depth': 5} at: http://localhost:8080/#/experiments/662932298426931957/runs/4d8e1b4d5ef745f09fa9c3a5976d9781\n",
      "🧪 View experiment at: http://localhost:8080/#/experiments/662932298426931957\n"
     ]
    },
    {
     "name": "stderr",
     "output_type": "stream",
     "text": [
      "\u001b[31m2025/02/27 14:54:51 WARNING mlflow.models.model: Model logged without a signature and input example. Please set `input_example` parameter when logging the model to auto infer the model signature.\u001b[0m\n"
     ]
    },
    {
     "name": "stdout",
     "output_type": "stream",
     "text": [
      "Combinación de parámetros {'iterations': 50, 'learning_rate': 0.01, 'depth': 6} | Accuracy: 0.9057, Precision: 0.9072, Recall: 0.9057, F1 Score: 0.8903\n",
      "🏃 View run CatBoost - {'iterations': 50, 'learning_rate': 0.01, 'depth': 6} at: http://localhost:8080/#/experiments/662932298426931957/runs/534e1477f73b46c3bc02a7b7a43f235f\n",
      "🧪 View experiment at: http://localhost:8080/#/experiments/662932298426931957\n"
     ]
    },
    {
     "name": "stderr",
     "output_type": "stream",
     "text": [
      "\u001b[31m2025/02/27 14:54:53 WARNING mlflow.models.model: Model logged without a signature and input example. Please set `input_example` parameter when logging the model to auto infer the model signature.\u001b[0m\n"
     ]
    },
    {
     "name": "stdout",
     "output_type": "stream",
     "text": [
      "Combinación de parámetros {'iterations': 50, 'learning_rate': 0.01, 'depth': 10} | Accuracy: 0.8976, Precision: 0.8926, Recall: 0.8976, F1 Score: 0.8824\n",
      "🏃 View run CatBoost - {'iterations': 50, 'learning_rate': 0.01, 'depth': 10} at: http://localhost:8080/#/experiments/662932298426931957/runs/5e614d39009247448f4c15d1a2c8ee4c\n",
      "🧪 View experiment at: http://localhost:8080/#/experiments/662932298426931957\n"
     ]
    },
    {
     "name": "stderr",
     "output_type": "stream",
     "text": [
      "\u001b[31m2025/02/27 14:54:55 WARNING mlflow.models.model: Model logged without a signature and input example. Please set `input_example` parameter when logging the model to auto infer the model signature.\u001b[0m\n"
     ]
    },
    {
     "name": "stdout",
     "output_type": "stream",
     "text": [
      "Combinación de parámetros {'iterations': 50, 'learning_rate': 0.05, 'depth': 5} | Accuracy: 0.9111, Precision: 0.9125, Recall: 0.9111, F1 Score: 0.8978\n",
      "🏃 View run CatBoost - {'iterations': 50, 'learning_rate': 0.05, 'depth': 5} at: http://localhost:8080/#/experiments/662932298426931957/runs/3063647defb242769dd35c3c0a009873\n",
      "🧪 View experiment at: http://localhost:8080/#/experiments/662932298426931957\n"
     ]
    },
    {
     "name": "stderr",
     "output_type": "stream",
     "text": [
      "\u001b[31m2025/02/27 14:54:57 WARNING mlflow.models.model: Model logged without a signature and input example. Please set `input_example` parameter when logging the model to auto infer the model signature.\u001b[0m\n"
     ]
    },
    {
     "name": "stdout",
     "output_type": "stream",
     "text": [
      "Combinación de parámetros {'iterations': 50, 'learning_rate': 0.05, 'depth': 6} | Accuracy: 0.9111, Precision: 0.9140, Recall: 0.9111, F1 Score: 0.8972\n",
      "🏃 View run CatBoost - {'iterations': 50, 'learning_rate': 0.05, 'depth': 6} at: http://localhost:8080/#/experiments/662932298426931957/runs/a8dcfb93f7444c318c7a36ae01548095\n",
      "🧪 View experiment at: http://localhost:8080/#/experiments/662932298426931957\n"
     ]
    },
    {
     "name": "stderr",
     "output_type": "stream",
     "text": [
      "\u001b[31m2025/02/27 14:55:00 WARNING mlflow.models.model: Model logged without a signature and input example. Please set `input_example` parameter when logging the model to auto infer the model signature.\u001b[0m\n"
     ]
    },
    {
     "name": "stdout",
     "output_type": "stream",
     "text": [
      "Combinación de parámetros {'iterations': 50, 'learning_rate': 0.05, 'depth': 10} | Accuracy: 0.9030, Precision: 0.8996, Recall: 0.9030, F1 Score: 0.8892\n",
      "🏃 View run CatBoost - {'iterations': 50, 'learning_rate': 0.05, 'depth': 10} at: http://localhost:8080/#/experiments/662932298426931957/runs/7a7e9eedec534055b47d1df14fdcbd74\n",
      "🧪 View experiment at: http://localhost:8080/#/experiments/662932298426931957\n"
     ]
    },
    {
     "name": "stderr",
     "output_type": "stream",
     "text": [
      "\u001b[31m2025/02/27 14:55:01 WARNING mlflow.models.model: Model logged without a signature and input example. Please set `input_example` parameter when logging the model to auto infer the model signature.\u001b[0m\n"
     ]
    },
    {
     "name": "stdout",
     "output_type": "stream",
     "text": [
      "Combinación de parámetros {'iterations': 50, 'learning_rate': 0.1, 'depth': 5} | Accuracy: 0.9151, Precision: 0.9178, Recall: 0.9151, F1 Score: 0.9028\n",
      "🏃 View run CatBoost - {'iterations': 50, 'learning_rate': 0.1, 'depth': 5} at: http://localhost:8080/#/experiments/662932298426931957/runs/bda874fa67ca43cd9635aac5b4195730\n",
      "🧪 View experiment at: http://localhost:8080/#/experiments/662932298426931957\n"
     ]
    },
    {
     "name": "stderr",
     "output_type": "stream",
     "text": [
      "\u001b[31m2025/02/27 14:55:03 WARNING mlflow.models.model: Model logged without a signature and input example. Please set `input_example` parameter when logging the model to auto infer the model signature.\u001b[0m\n"
     ]
    },
    {
     "name": "stdout",
     "output_type": "stream",
     "text": [
      "Combinación de parámetros {'iterations': 50, 'learning_rate': 0.1, 'depth': 6} | Accuracy: 0.9070, Precision: 0.9072, Recall: 0.9070, F1 Score: 0.8929\n",
      "🏃 View run CatBoost - {'iterations': 50, 'learning_rate': 0.1, 'depth': 6} at: http://localhost:8080/#/experiments/662932298426931957/runs/e8aa2ca771304661bb60e312fbd0a495\n",
      "🧪 View experiment at: http://localhost:8080/#/experiments/662932298426931957\n"
     ]
    },
    {
     "name": "stderr",
     "output_type": "stream",
     "text": [
      "\u001b[31m2025/02/27 14:55:05 WARNING mlflow.models.model: Model logged without a signature and input example. Please set `input_example` parameter when logging the model to auto infer the model signature.\u001b[0m\n"
     ]
    },
    {
     "name": "stdout",
     "output_type": "stream",
     "text": [
      "Combinación de parámetros {'iterations': 50, 'learning_rate': 0.1, 'depth': 10} | Accuracy: 0.9124, Precision: 0.9098, Recall: 0.9124, F1 Score: 0.9021\n",
      "🏃 View run CatBoost - {'iterations': 50, 'learning_rate': 0.1, 'depth': 10} at: http://localhost:8080/#/experiments/662932298426931957/runs/36948292e6704071be687c4e7eff6eb2\n",
      "🧪 View experiment at: http://localhost:8080/#/experiments/662932298426931957\n"
     ]
    },
    {
     "name": "stderr",
     "output_type": "stream",
     "text": [
      "\u001b[31m2025/02/27 14:55:07 WARNING mlflow.models.model: Model logged without a signature and input example. Please set `input_example` parameter when logging the model to auto infer the model signature.\u001b[0m\n"
     ]
    },
    {
     "name": "stdout",
     "output_type": "stream",
     "text": [
      "Combinación de parámetros {'iterations': 100, 'learning_rate': 0.01, 'depth': 5} | Accuracy: 0.8989, Precision: 0.8988, Recall: 0.8989, F1 Score: 0.8813\n",
      "🏃 View run CatBoost - {'iterations': 100, 'learning_rate': 0.01, 'depth': 5} at: http://localhost:8080/#/experiments/662932298426931957/runs/5856d1d7e74348998142b02ae1bd3102\n",
      "🧪 View experiment at: http://localhost:8080/#/experiments/662932298426931957\n"
     ]
    },
    {
     "name": "stderr",
     "output_type": "stream",
     "text": [
      "\u001b[31m2025/02/27 14:55:09 WARNING mlflow.models.model: Model logged without a signature and input example. Please set `input_example` parameter when logging the model to auto infer the model signature.\u001b[0m\n"
     ]
    },
    {
     "name": "stdout",
     "output_type": "stream",
     "text": [
      "Combinación de parámetros {'iterations': 100, 'learning_rate': 0.01, 'depth': 6} | Accuracy: 0.9151, Precision: 0.9178, Recall: 0.9151, F1 Score: 0.9028\n",
      "🏃 View run CatBoost - {'iterations': 100, 'learning_rate': 0.01, 'depth': 6} at: http://localhost:8080/#/experiments/662932298426931957/runs/94bed4be268c4177a2e9ea8d9a41d518\n",
      "🧪 View experiment at: http://localhost:8080/#/experiments/662932298426931957\n"
     ]
    },
    {
     "name": "stderr",
     "output_type": "stream",
     "text": [
      "\u001b[31m2025/02/27 14:55:12 WARNING mlflow.models.model: Model logged without a signature and input example. Please set `input_example` parameter when logging the model to auto infer the model signature.\u001b[0m\n"
     ]
    },
    {
     "name": "stdout",
     "output_type": "stream",
     "text": [
      "Combinación de parámetros {'iterations': 100, 'learning_rate': 0.01, 'depth': 10} | Accuracy: 0.8976, Precision: 0.8959, Recall: 0.8976, F1 Score: 0.8801\n",
      "🏃 View run CatBoost - {'iterations': 100, 'learning_rate': 0.01, 'depth': 10} at: http://localhost:8080/#/experiments/662932298426931957/runs/99d19ebe807e4042ae1cbcaa38df8bb1\n",
      "🧪 View experiment at: http://localhost:8080/#/experiments/662932298426931957\n"
     ]
    },
    {
     "name": "stderr",
     "output_type": "stream",
     "text": [
      "\u001b[31m2025/02/27 14:55:13 WARNING mlflow.models.model: Model logged without a signature and input example. Please set `input_example` parameter when logging the model to auto infer the model signature.\u001b[0m\n"
     ]
    },
    {
     "name": "stdout",
     "output_type": "stream",
     "text": [
      "Combinación de parámetros {'iterations': 100, 'learning_rate': 0.05, 'depth': 5} | Accuracy: 0.9137, Precision: 0.9165, Recall: 0.9137, F1 Score: 0.9009\n",
      "🏃 View run CatBoost - {'iterations': 100, 'learning_rate': 0.05, 'depth': 5} at: http://localhost:8080/#/experiments/662932298426931957/runs/acc2906afd83449b849ec21e808dfe15\n",
      "🧪 View experiment at: http://localhost:8080/#/experiments/662932298426931957\n"
     ]
    },
    {
     "name": "stderr",
     "output_type": "stream",
     "text": [
      "\u001b[31m2025/02/27 14:55:15 WARNING mlflow.models.model: Model logged without a signature and input example. Please set `input_example` parameter when logging the model to auto infer the model signature.\u001b[0m\n"
     ]
    },
    {
     "name": "stdout",
     "output_type": "stream",
     "text": [
      "Combinación de parámetros {'iterations': 100, 'learning_rate': 0.05, 'depth': 6} | Accuracy: 0.9137, Precision: 0.9152, Recall: 0.9137, F1 Score: 0.9015\n",
      "🏃 View run CatBoost - {'iterations': 100, 'learning_rate': 0.05, 'depth': 6} at: http://localhost:8080/#/experiments/662932298426931957/runs/4492e8671b7546f7b8eaf754cad81f2f\n",
      "🧪 View experiment at: http://localhost:8080/#/experiments/662932298426931957\n"
     ]
    },
    {
     "name": "stderr",
     "output_type": "stream",
     "text": [
      "\u001b[31m2025/02/27 14:55:18 WARNING mlflow.models.model: Model logged without a signature and input example. Please set `input_example` parameter when logging the model to auto infer the model signature.\u001b[0m\n"
     ]
    },
    {
     "name": "stdout",
     "output_type": "stream",
     "text": [
      "Combinación de parámetros {'iterations': 100, 'learning_rate': 0.05, 'depth': 10} | Accuracy: 0.9070, Precision: 0.9049, Recall: 0.9070, F1 Score: 0.8942\n",
      "🏃 View run CatBoost - {'iterations': 100, 'learning_rate': 0.05, 'depth': 10} at: http://localhost:8080/#/experiments/662932298426931957/runs/11866547cd774f7999c52a506a11ef69\n",
      "🧪 View experiment at: http://localhost:8080/#/experiments/662932298426931957\n"
     ]
    },
    {
     "name": "stderr",
     "output_type": "stream",
     "text": [
      "\u001b[31m2025/02/27 14:55:20 WARNING mlflow.models.model: Model logged without a signature and input example. Please set `input_example` parameter when logging the model to auto infer the model signature.\u001b[0m\n"
     ]
    },
    {
     "name": "stdout",
     "output_type": "stream",
     "text": [
      "Combinación de parámetros {'iterations': 100, 'learning_rate': 0.1, 'depth': 5} | Accuracy: 0.9205, Precision: 0.9228, Recall: 0.9205, F1 Score: 0.9101\n",
      "🏃 View run CatBoost - {'iterations': 100, 'learning_rate': 0.1, 'depth': 5} at: http://localhost:8080/#/experiments/662932298426931957/runs/7dca21a9b030448193e1376d16b44501\n",
      "🧪 View experiment at: http://localhost:8080/#/experiments/662932298426931957\n"
     ]
    },
    {
     "name": "stderr",
     "output_type": "stream",
     "text": [
      "\u001b[31m2025/02/27 14:55:22 WARNING mlflow.models.model: Model logged without a signature and input example. Please set `input_example` parameter when logging the model to auto infer the model signature.\u001b[0m\n"
     ]
    },
    {
     "name": "stdout",
     "output_type": "stream",
     "text": [
      "Combinación de parámetros {'iterations': 100, 'learning_rate': 0.1, 'depth': 6} | Accuracy: 0.9070, Precision: 0.9049, Recall: 0.9070, F1 Score: 0.8942\n",
      "🏃 View run CatBoost - {'iterations': 100, 'learning_rate': 0.1, 'depth': 6} at: http://localhost:8080/#/experiments/662932298426931957/runs/a0a1ed907c774067bc39690564bb6975\n",
      "🧪 View experiment at: http://localhost:8080/#/experiments/662932298426931957\n"
     ]
    },
    {
     "name": "stderr",
     "output_type": "stream",
     "text": [
      "\u001b[31m2025/02/27 14:55:24 WARNING mlflow.models.model: Model logged without a signature and input example. Please set `input_example` parameter when logging the model to auto infer the model signature.\u001b[0m\n"
     ]
    },
    {
     "name": "stdout",
     "output_type": "stream",
     "text": [
      "Combinación de parámetros {'iterations': 100, 'learning_rate': 0.1, 'depth': 10} | Accuracy: 0.9124, Precision: 0.9138, Recall: 0.9124, F1 Score: 0.8997\n",
      "🏃 View run CatBoost - {'iterations': 100, 'learning_rate': 0.1, 'depth': 10} at: http://localhost:8080/#/experiments/662932298426931957/runs/fa3b34ca8f5743c0a1ffd8c1da915e91\n",
      "🧪 View experiment at: http://localhost:8080/#/experiments/662932298426931957\n"
     ]
    },
    {
     "name": "stderr",
     "output_type": "stream",
     "text": [
      "\u001b[31m2025/02/27 14:55:26 WARNING mlflow.models.model: Model logged without a signature and input example. Please set `input_example` parameter when logging the model to auto infer the model signature.\u001b[0m\n"
     ]
    },
    {
     "name": "stdout",
     "output_type": "stream",
     "text": [
      "Combinación de parámetros {'iterations': 200, 'learning_rate': 0.01, 'depth': 5} | Accuracy: 0.9111, Precision: 0.9156, Recall: 0.9111, F1 Score: 0.8965\n",
      "🏃 View run CatBoost - {'iterations': 200, 'learning_rate': 0.01, 'depth': 5} at: http://localhost:8080/#/experiments/662932298426931957/runs/b469cc5fd73f448faa5d81df99d7b225\n",
      "🧪 View experiment at: http://localhost:8080/#/experiments/662932298426931957\n"
     ]
    },
    {
     "name": "stderr",
     "output_type": "stream",
     "text": [
      "\u001b[31m2025/02/27 14:55:28 WARNING mlflow.models.model: Model logged without a signature and input example. Please set `input_example` parameter when logging the model to auto infer the model signature.\u001b[0m\n"
     ]
    },
    {
     "name": "stdout",
     "output_type": "stream",
     "text": [
      "Combinación de parámetros {'iterations': 200, 'learning_rate': 0.01, 'depth': 6} | Accuracy: 0.9164, Precision: 0.9205, Recall: 0.9164, F1 Score: 0.9040\n",
      "🏃 View run CatBoost - {'iterations': 200, 'learning_rate': 0.01, 'depth': 6} at: http://localhost:8080/#/experiments/662932298426931957/runs/dc9255b0382e47859322139c30efeba1\n",
      "🧪 View experiment at: http://localhost:8080/#/experiments/662932298426931957\n"
     ]
    },
    {
     "name": "stderr",
     "output_type": "stream",
     "text": [
      "\u001b[31m2025/02/27 14:55:31 WARNING mlflow.models.model: Model logged without a signature and input example. Please set `input_example` parameter when logging the model to auto infer the model signature.\u001b[0m\n"
     ]
    },
    {
     "name": "stdout",
     "output_type": "stream",
     "text": [
      "Combinación de parámetros {'iterations': 200, 'learning_rate': 0.01, 'depth': 10} | Accuracy: 0.9016, Precision: 0.9016, Recall: 0.9016, F1 Score: 0.8852\n",
      "🏃 View run CatBoost - {'iterations': 200, 'learning_rate': 0.01, 'depth': 10} at: http://localhost:8080/#/experiments/662932298426931957/runs/6002b7ec10604c6baf4a7d393ead6390\n",
      "🧪 View experiment at: http://localhost:8080/#/experiments/662932298426931957\n"
     ]
    },
    {
     "name": "stderr",
     "output_type": "stream",
     "text": [
      "\u001b[31m2025/02/27 14:55:33 WARNING mlflow.models.model: Model logged without a signature and input example. Please set `input_example` parameter when logging the model to auto infer the model signature.\u001b[0m\n"
     ]
    },
    {
     "name": "stdout",
     "output_type": "stream",
     "text": [
      "Combinación de parámetros {'iterations': 200, 'learning_rate': 0.05, 'depth': 5} | Accuracy: 0.9178, Precision: 0.9180, Recall: 0.9178, F1 Score: 0.9075\n",
      "🏃 View run CatBoost - {'iterations': 200, 'learning_rate': 0.05, 'depth': 5} at: http://localhost:8080/#/experiments/662932298426931957/runs/2be5f7c1f02d4027823c656a0ff358a4\n",
      "🧪 View experiment at: http://localhost:8080/#/experiments/662932298426931957\n"
     ]
    },
    {
     "name": "stderr",
     "output_type": "stream",
     "text": [
      "\u001b[31m2025/02/27 14:55:35 WARNING mlflow.models.model: Model logged without a signature and input example. Please set `input_example` parameter when logging the model to auto infer the model signature.\u001b[0m\n"
     ]
    },
    {
     "name": "stdout",
     "output_type": "stream",
     "text": [
      "Combinación de parámetros {'iterations': 200, 'learning_rate': 0.05, 'depth': 6} | Accuracy: 0.9178, Precision: 0.9191, Recall: 0.9178, F1 Score: 0.9070\n",
      "🏃 View run CatBoost - {'iterations': 200, 'learning_rate': 0.05, 'depth': 6} at: http://localhost:8080/#/experiments/662932298426931957/runs/fed9ec7b50db45949ae91de96c925c39\n",
      "🧪 View experiment at: http://localhost:8080/#/experiments/662932298426931957\n"
     ]
    },
    {
     "name": "stderr",
     "output_type": "stream",
     "text": [
      "\u001b[31m2025/02/27 14:55:37 WARNING mlflow.models.model: Model logged without a signature and input example. Please set `input_example` parameter when logging the model to auto infer the model signature.\u001b[0m\n"
     ]
    },
    {
     "name": "stdout",
     "output_type": "stream",
     "text": [
      "Combinación de parámetros {'iterations': 200, 'learning_rate': 0.05, 'depth': 10} | Accuracy: 0.9097, Precision: 0.9069, Recall: 0.9097, F1 Score: 0.8985\n",
      "🏃 View run CatBoost - {'iterations': 200, 'learning_rate': 0.05, 'depth': 10} at: http://localhost:8080/#/experiments/662932298426931957/runs/25a7d49580bc42d89d59852d0cf2834e\n",
      "🧪 View experiment at: http://localhost:8080/#/experiments/662932298426931957\n"
     ]
    },
    {
     "name": "stderr",
     "output_type": "stream",
     "text": [
      "\u001b[31m2025/02/27 14:55:39 WARNING mlflow.models.model: Model logged without a signature and input example. Please set `input_example` parameter when logging the model to auto infer the model signature.\u001b[0m\n"
     ]
    },
    {
     "name": "stdout",
     "output_type": "stream",
     "text": [
      "Combinación de parámetros {'iterations': 200, 'learning_rate': 0.1, 'depth': 5} | Accuracy: 0.9164, Precision: 0.9157, Recall: 0.9164, F1 Score: 0.9063\n",
      "🏃 View run CatBoost - {'iterations': 200, 'learning_rate': 0.1, 'depth': 5} at: http://localhost:8080/#/experiments/662932298426931957/runs/1e1c1405678f4f31a6a6e1cb5362fa9a\n",
      "🧪 View experiment at: http://localhost:8080/#/experiments/662932298426931957\n"
     ]
    },
    {
     "name": "stderr",
     "output_type": "stream",
     "text": [
      "\u001b[31m2025/02/27 14:55:42 WARNING mlflow.models.model: Model logged without a signature and input example. Please set `input_example` parameter when logging the model to auto infer the model signature.\u001b[0m\n"
     ]
    },
    {
     "name": "stdout",
     "output_type": "stream",
     "text": [
      "Combinación de parámetros {'iterations': 200, 'learning_rate': 0.1, 'depth': 6} | Accuracy: 0.9084, Precision: 0.9047, Recall: 0.9084, F1 Score: 0.8972\n",
      "🏃 View run CatBoost - {'iterations': 200, 'learning_rate': 0.1, 'depth': 6} at: http://localhost:8080/#/experiments/662932298426931957/runs/a9dfb736cebc43adb480d30fa002d0aa\n",
      "🧪 View experiment at: http://localhost:8080/#/experiments/662932298426931957\n"
     ]
    },
    {
     "name": "stderr",
     "output_type": "stream",
     "text": [
      "\u001b[31m2025/02/27 14:55:44 WARNING mlflow.models.model: Model logged without a signature and input example. Please set `input_example` parameter when logging the model to auto infer the model signature.\u001b[0m\n"
     ]
    },
    {
     "name": "stdout",
     "output_type": "stream",
     "text": [
      "Combinación de parámetros {'iterations': 200, 'learning_rate': 0.1, 'depth': 10} | Accuracy: 0.9097, Precision: 0.9099, Recall: 0.9097, F1 Score: 0.8966\n",
      "🏃 View run CatBoost - {'iterations': 200, 'learning_rate': 0.1, 'depth': 10} at: http://localhost:8080/#/experiments/662932298426931957/runs/307e076679c54488894e6d3fa60e8803\n",
      "🧪 View experiment at: http://localhost:8080/#/experiments/662932298426931957\n"
     ]
    },
    {
     "name": "stderr",
     "output_type": "stream",
     "text": [
      "\u001b[31m2025/02/27 14:55:47 WARNING mlflow.models.model: Model logged without a signature and input example. Please set `input_example` parameter when logging the model to auto infer the model signature.\u001b[0m\n"
     ]
    },
    {
     "name": "stdout",
     "output_type": "stream",
     "text": [
      "Combinación de parámetros {'iterations': 500, 'learning_rate': 0.01, 'depth': 5} | Accuracy: 0.9151, Precision: 0.9178, Recall: 0.9151, F1 Score: 0.9028\n",
      "🏃 View run CatBoost - {'iterations': 500, 'learning_rate': 0.01, 'depth': 5} at: http://localhost:8080/#/experiments/662932298426931957/runs/bb2e26644a164c09a0314c93f700d988\n",
      "🧪 View experiment at: http://localhost:8080/#/experiments/662932298426931957\n"
     ]
    },
    {
     "name": "stderr",
     "output_type": "stream",
     "text": [
      "\u001b[31m2025/02/27 14:55:49 WARNING mlflow.models.model: Model logged without a signature and input example. Please set `input_example` parameter when logging the model to auto infer the model signature.\u001b[0m\n"
     ]
    },
    {
     "name": "stdout",
     "output_type": "stream",
     "text": [
      "Combinación de parámetros {'iterations': 500, 'learning_rate': 0.01, 'depth': 6} | Accuracy: 0.9191, Precision: 0.9204, Recall: 0.9191, F1 Score: 0.9088\n",
      "🏃 View run CatBoost - {'iterations': 500, 'learning_rate': 0.01, 'depth': 6} at: http://localhost:8080/#/experiments/662932298426931957/runs/ee483207354448b092569e533eec8e4a\n",
      "🧪 View experiment at: http://localhost:8080/#/experiments/662932298426931957\n"
     ]
    },
    {
     "name": "stderr",
     "output_type": "stream",
     "text": [
      "\u001b[31m2025/02/27 14:55:53 WARNING mlflow.models.model: Model logged without a signature and input example. Please set `input_example` parameter when logging the model to auto infer the model signature.\u001b[0m\n"
     ]
    },
    {
     "name": "stdout",
     "output_type": "stream",
     "text": [
      "Combinación de parámetros {'iterations': 500, 'learning_rate': 0.01, 'depth': 10} | Accuracy: 0.9097, Precision: 0.9088, Recall: 0.9097, F1 Score: 0.8972\n",
      "🏃 View run CatBoost - {'iterations': 500, 'learning_rate': 0.01, 'depth': 10} at: http://localhost:8080/#/experiments/662932298426931957/runs/dc1d548915f047948d01e1eb865969c3\n",
      "🧪 View experiment at: http://localhost:8080/#/experiments/662932298426931957\n"
     ]
    },
    {
     "name": "stderr",
     "output_type": "stream",
     "text": [
      "\u001b[31m2025/02/27 14:55:55 WARNING mlflow.models.model: Model logged without a signature and input example. Please set `input_example` parameter when logging the model to auto infer the model signature.\u001b[0m\n"
     ]
    },
    {
     "name": "stdout",
     "output_type": "stream",
     "text": [
      "Combinación de parámetros {'iterations': 500, 'learning_rate': 0.05, 'depth': 5} | Accuracy: 0.9205, Precision: 0.9207, Recall: 0.9205, F1 Score: 0.9111\n",
      "🏃 View run CatBoost - {'iterations': 500, 'learning_rate': 0.05, 'depth': 5} at: http://localhost:8080/#/experiments/662932298426931957/runs/c480cdc1fa754cfd9e865237a3b31277\n",
      "🧪 View experiment at: http://localhost:8080/#/experiments/662932298426931957\n"
     ]
    },
    {
     "name": "stderr",
     "output_type": "stream",
     "text": [
      "\u001b[31m2025/02/27 14:55:58 WARNING mlflow.models.model: Model logged without a signature and input example. Please set `input_example` parameter when logging the model to auto infer the model signature.\u001b[0m\n"
     ]
    },
    {
     "name": "stdout",
     "output_type": "stream",
     "text": [
      "Combinación de parámetros {'iterations': 500, 'learning_rate': 0.05, 'depth': 6} | Accuracy: 0.9137, Precision: 0.9140, Recall: 0.9137, F1 Score: 0.9021\n",
      "🏃 View run CatBoost - {'iterations': 500, 'learning_rate': 0.05, 'depth': 6} at: http://localhost:8080/#/experiments/662932298426931957/runs/938dabf36aaa46c3af2f157dac2a6662\n",
      "🧪 View experiment at: http://localhost:8080/#/experiments/662932298426931957\n"
     ]
    },
    {
     "name": "stderr",
     "output_type": "stream",
     "text": [
      "\u001b[31m2025/02/27 14:56:01 WARNING mlflow.models.model: Model logged without a signature and input example. Please set `input_example` parameter when logging the model to auto infer the model signature.\u001b[0m\n"
     ]
    },
    {
     "name": "stdout",
     "output_type": "stream",
     "text": [
      "Combinación de parámetros {'iterations': 500, 'learning_rate': 0.05, 'depth': 10} | Accuracy: 0.9151, Precision: 0.9121, Recall: 0.9151, F1 Score: 0.9061\n",
      "🏃 View run CatBoost - {'iterations': 500, 'learning_rate': 0.05, 'depth': 10} at: http://localhost:8080/#/experiments/662932298426931957/runs/2e0798134e334d8db1703dedcb9fb8ab\n",
      "🧪 View experiment at: http://localhost:8080/#/experiments/662932298426931957\n"
     ]
    },
    {
     "name": "stderr",
     "output_type": "stream",
     "text": [
      "\u001b[31m2025/02/27 14:56:03 WARNING mlflow.models.model: Model logged without a signature and input example. Please set `input_example` parameter when logging the model to auto infer the model signature.\u001b[0m\n"
     ]
    },
    {
     "name": "stdout",
     "output_type": "stream",
     "text": [
      "Combinación de parámetros {'iterations': 500, 'learning_rate': 0.1, 'depth': 5} | Accuracy: 0.9178, Precision: 0.9180, Recall: 0.9178, F1 Score: 0.9075\n",
      "🏃 View run CatBoost - {'iterations': 500, 'learning_rate': 0.1, 'depth': 5} at: http://localhost:8080/#/experiments/662932298426931957/runs/1ebb256e2a5d47e09c5279265296594e\n",
      "🧪 View experiment at: http://localhost:8080/#/experiments/662932298426931957\n"
     ]
    },
    {
     "name": "stderr",
     "output_type": "stream",
     "text": [
      "\u001b[31m2025/02/27 14:56:06 WARNING mlflow.models.model: Model logged without a signature and input example. Please set `input_example` parameter when logging the model to auto infer the model signature.\u001b[0m\n"
     ]
    },
    {
     "name": "stdout",
     "output_type": "stream",
     "text": [
      "Combinación de parámetros {'iterations': 500, 'learning_rate': 0.1, 'depth': 6} | Accuracy: 0.9124, Precision: 0.9106, Recall: 0.9124, F1 Score: 0.9015\n",
      "🏃 View run CatBoost - {'iterations': 500, 'learning_rate': 0.1, 'depth': 6} at: http://localhost:8080/#/experiments/662932298426931957/runs/b3a41653ba444b2fbe207f4ad97a38c9\n",
      "🧪 View experiment at: http://localhost:8080/#/experiments/662932298426931957\n"
     ]
    },
    {
     "name": "stderr",
     "output_type": "stream",
     "text": [
      "\u001b[31m2025/02/27 14:56:10 WARNING mlflow.models.model: Model logged without a signature and input example. Please set `input_example` parameter when logging the model to auto infer the model signature.\u001b[0m\n"
     ]
    },
    {
     "name": "stdout",
     "output_type": "stream",
     "text": [
      "Combinación de parámetros {'iterations': 500, 'learning_rate': 0.1, 'depth': 10} | Accuracy: 0.9124, Precision: 0.9116, Recall: 0.9124, F1 Score: 0.9009\n",
      "🏃 View run CatBoost - {'iterations': 500, 'learning_rate': 0.1, 'depth': 10} at: http://localhost:8080/#/experiments/662932298426931957/runs/535259d8794341a08832460f8ddf65c0\n",
      "🧪 View experiment at: http://localhost:8080/#/experiments/662932298426931957\n"
     ]
    },
    {
     "name": "stderr",
     "output_type": "stream",
     "text": [
      "\u001b[31m2025/02/27 14:56:13 WARNING mlflow.models.model: Model logged without a signature and input example. Please set `input_example` parameter when logging the model to auto infer the model signature.\u001b[0m\n"
     ]
    },
    {
     "name": "stdout",
     "output_type": "stream",
     "text": [
      "Combinación de parámetros {'iterations': 1000, 'learning_rate': 0.01, 'depth': 5} | Accuracy: 0.9191, Precision: 0.9216, Recall: 0.9191, F1 Score: 0.9083\n",
      "🏃 View run CatBoost - {'iterations': 1000, 'learning_rate': 0.01, 'depth': 5} at: http://localhost:8080/#/experiments/662932298426931957/runs/941d97e26fe047788960a379a699842b\n",
      "🧪 View experiment at: http://localhost:8080/#/experiments/662932298426931957\n"
     ]
    },
    {
     "name": "stderr",
     "output_type": "stream",
     "text": [
      "\u001b[31m2025/02/27 14:56:16 WARNING mlflow.models.model: Model logged without a signature and input example. Please set `input_example` parameter when logging the model to auto infer the model signature.\u001b[0m\n"
     ]
    },
    {
     "name": "stdout",
     "output_type": "stream",
     "text": [
      "Combinación de parámetros {'iterations': 1000, 'learning_rate': 0.01, 'depth': 6} | Accuracy: 0.9205, Precision: 0.9217, Recall: 0.9205, F1 Score: 0.9106\n",
      "🏃 View run CatBoost - {'iterations': 1000, 'learning_rate': 0.01, 'depth': 6} at: http://localhost:8080/#/experiments/662932298426931957/runs/21b2f73458844db694822a9c0d32034f\n",
      "🧪 View experiment at: http://localhost:8080/#/experiments/662932298426931957\n"
     ]
    },
    {
     "name": "stderr",
     "output_type": "stream",
     "text": [
      "\u001b[31m2025/02/27 14:56:22 WARNING mlflow.models.model: Model logged without a signature and input example. Please set `input_example` parameter when logging the model to auto infer the model signature.\u001b[0m\n"
     ]
    },
    {
     "name": "stdout",
     "output_type": "stream",
     "text": [
      "Combinación de parámetros {'iterations': 1000, 'learning_rate': 0.01, 'depth': 10} | Accuracy: 0.9097, Precision: 0.9069, Recall: 0.9097, F1 Score: 0.8985\n",
      "🏃 View run CatBoost - {'iterations': 1000, 'learning_rate': 0.01, 'depth': 10} at: http://localhost:8080/#/experiments/662932298426931957/runs/76aaaf0ce68645558ab92eaf7bef7557\n",
      "🧪 View experiment at: http://localhost:8080/#/experiments/662932298426931957\n"
     ]
    },
    {
     "name": "stderr",
     "output_type": "stream",
     "text": [
      "\u001b[31m2025/02/27 14:56:25 WARNING mlflow.models.model: Model logged without a signature and input example. Please set `input_example` parameter when logging the model to auto infer the model signature.\u001b[0m\n"
     ]
    },
    {
     "name": "stdout",
     "output_type": "stream",
     "text": [
      "Combinación de parámetros {'iterations': 1000, 'learning_rate': 0.05, 'depth': 5} | Accuracy: 0.9232, Precision: 0.9243, Recall: 0.9232, F1 Score: 0.9141\n",
      "🏃 View run CatBoost - {'iterations': 1000, 'learning_rate': 0.05, 'depth': 5} at: http://localhost:8080/#/experiments/662932298426931957/runs/b44512c1684644f19ae74518b4c50be3\n",
      "🧪 View experiment at: http://localhost:8080/#/experiments/662932298426931957\n"
     ]
    },
    {
     "name": "stderr",
     "output_type": "stream",
     "text": [
      "\u001b[31m2025/02/27 14:56:28 WARNING mlflow.models.model: Model logged without a signature and input example. Please set `input_example` parameter when logging the model to auto infer the model signature.\u001b[0m\n"
     ]
    },
    {
     "name": "stdout",
     "output_type": "stream",
     "text": [
      "Combinación de parámetros {'iterations': 1000, 'learning_rate': 0.05, 'depth': 6} | Accuracy: 0.9124, Precision: 0.9116, Recall: 0.9124, F1 Score: 0.9009\n",
      "🏃 View run CatBoost - {'iterations': 1000, 'learning_rate': 0.05, 'depth': 6} at: http://localhost:8080/#/experiments/662932298426931957/runs/5c81d24cac584c849a1716eca76cea25\n",
      "🧪 View experiment at: http://localhost:8080/#/experiments/662932298426931957\n"
     ]
    },
    {
     "name": "stderr",
     "output_type": "stream",
     "text": [
      "\u001b[31m2025/02/27 14:56:34 WARNING mlflow.models.model: Model logged without a signature and input example. Please set `input_example` parameter when logging the model to auto infer the model signature.\u001b[0m\n"
     ]
    },
    {
     "name": "stdout",
     "output_type": "stream",
     "text": [
      "Combinación de parámetros {'iterations': 1000, 'learning_rate': 0.05, 'depth': 10} | Accuracy: 0.9124, Precision: 0.9098, Recall: 0.9124, F1 Score: 0.9021\n",
      "🏃 View run CatBoost - {'iterations': 1000, 'learning_rate': 0.05, 'depth': 10} at: http://localhost:8080/#/experiments/662932298426931957/runs/5390c18d899446789f78847d4a344a99\n",
      "🧪 View experiment at: http://localhost:8080/#/experiments/662932298426931957\n"
     ]
    },
    {
     "name": "stderr",
     "output_type": "stream",
     "text": [
      "\u001b[31m2025/02/27 14:56:37 WARNING mlflow.models.model: Model logged without a signature and input example. Please set `input_example` parameter when logging the model to auto infer the model signature.\u001b[0m\n"
     ]
    },
    {
     "name": "stdout",
     "output_type": "stream",
     "text": [
      "Combinación de parámetros {'iterations': 1000, 'learning_rate': 0.1, 'depth': 5} | Accuracy: 0.9191, Precision: 0.9193, Recall: 0.9191, F1 Score: 0.9093\n",
      "🏃 View run CatBoost - {'iterations': 1000, 'learning_rate': 0.1, 'depth': 5} at: http://localhost:8080/#/experiments/662932298426931957/runs/cd3f3fc7b93c4287b0e305bb72ea58be\n",
      "🧪 View experiment at: http://localhost:8080/#/experiments/662932298426931957\n"
     ]
    },
    {
     "name": "stderr",
     "output_type": "stream",
     "text": [
      "\u001b[31m2025/02/27 14:56:40 WARNING mlflow.models.model: Model logged without a signature and input example. Please set `input_example` parameter when logging the model to auto infer the model signature.\u001b[0m\n"
     ]
    },
    {
     "name": "stdout",
     "output_type": "stream",
     "text": [
      "Combinación de parámetros {'iterations': 1000, 'learning_rate': 0.1, 'depth': 6} | Accuracy: 0.9111, Precision: 0.9084, Recall: 0.9111, F1 Score: 0.9003\n",
      "🏃 View run CatBoost - {'iterations': 1000, 'learning_rate': 0.1, 'depth': 6} at: http://localhost:8080/#/experiments/662932298426931957/runs/9453893201ac4936a7505d1bdfd300b7\n",
      "🧪 View experiment at: http://localhost:8080/#/experiments/662932298426931957\n"
     ]
    },
    {
     "name": "stderr",
     "output_type": "stream",
     "text": [
      "\u001b[31m2025/02/27 14:56:46 WARNING mlflow.models.model: Model logged without a signature and input example. Please set `input_example` parameter when logging the model to auto infer the model signature.\u001b[0m\n"
     ]
    },
    {
     "name": "stdout",
     "output_type": "stream",
     "text": [
      "Combinación de parámetros {'iterations': 1000, 'learning_rate': 0.1, 'depth': 10} | Accuracy: 0.9124, Precision: 0.9116, Recall: 0.9124, F1 Score: 0.9009\n",
      "🏃 View run CatBoost - {'iterations': 1000, 'learning_rate': 0.1, 'depth': 10} at: http://localhost:8080/#/experiments/662932298426931957/runs/908c2155d5a14661b2f7ab7c0b13c8d8\n",
      "🧪 View experiment at: http://localhost:8080/#/experiments/662932298426931957\n",
      "¡Entrenamiento y registro completado!\n"
     ]
    }
   ],
   "source": [
    "# Definir la cuadrícula de hiperparámetros para la búsqueda\n",
    "param_grid = {\n",
    "    \"iterations\": [50, 100, 200, 500, 1000],\n",
    "    \"learning_rate\": [0.01, 0.05, 0.1],\n",
    "    \"depth\": [5, 6, 10],\n",
    "}\n",
    "\n",
    "# Configurar MLflow\n",
    "mlflow.set_experiment(\"Optimización_CatBoost_Lluvia\")\n",
    "\n",
    "\n",
    "# Iterar sobre todas las combinaciones de parámetros\n",
    "for params in [dict(zip(param_grid, x)) for x in itertools.product(*param_grid.values())]:\n",
    "\n",
    "    # Crear un nuevo modelo con los parámetros actuales\n",
    "    modelo = CatBoostClassifier(random_state=42, verbose=0, **params)\n",
    "\n",
    "    # Entrenar el modelo\n",
    "    modelo.fit(X_train, y_train)\n",
    "\n",
    "    # Realizar predicciones\n",
    "    y_pred = modelo.predict(X_test)\n",
    "\n",
    "    # Calcular la matriz de confusión\n",
    "    cm = confusion_matrix(y_test, y_pred)\n",
    "\n",
    "    # Evaluar el modelo\n",
    "    accuracy = accuracy_score(y_test, y_pred)\n",
    "    precision = precision_score(y_test, y_pred, average='weighted')\n",
    "    recall = recall_score(y_test, y_pred, average='weighted')\n",
    "    f1 = f1_score(y_test, y_pred, average='weighted')\n",
    "\n",
    "    # Registrar el modelo y las métricas en MLflow\n",
    "    mlflow.end_run()  # End any active run before starting a new one\n",
    "    with mlflow.start_run(run_name=f\"CatBoost - {params}\"):\n",
    "        mlflow.log_params(params)\n",
    "        mlflow.log_metric(\"Accuracy\", accuracy)\n",
    "        mlflow.log_metric(\"Precision\", precision)\n",
    "        mlflow.log_metric(\"Recall\", recall)\n",
    "        mlflow.log_metric(\"F1 Score\", f1)\n",
    "\n",
    "        # Guardar la matriz de confusión como una imagen\n",
    "        plt.figure(figsize=(10, 7))\n",
    "        sns.heatmap(cm, annot=True, fmt='d', cmap='Blues', xticklabels=le.classes_, yticklabels=le.classes_)\n",
    "        plt.xlabel('Predicted')\n",
    "        plt.ylabel('True')\n",
    "        plt.title(f'Matriz de Confusión - {params}')\n",
    "        plt.savefig(f'confusion_matrix_{params}.png')\n",
    "        plt.close()\n",
    "\n",
    "        # Registrar la matriz de confusión como un artefacto en MLflow\n",
    "        mlflow.log_artifact(f'confusion_matrix_{params}.png')\n",
    "\n",
    "        # Registrar el modelo en MLflow\n",
    "        mlflow.catboost.log_model(modelo, f\"modelo_catboost_{params}\")\n",
    "\n",
    "        print(f\"Combinación de parámetros {params} | Accuracy: {accuracy:.4f}, Precision: {precision:.4f}, Recall: {recall:.4f}, F1 Score: {f1:.4f}\")\n",
    "\n",
    "print(\"¡Entrenamiento y registro completado!\")"
   ]
  },
  {
   "cell_type": "code",
   "execution_count": 265,
   "metadata": {},
   "outputs": [],
   "source": [
    "# Dividir los datos en X (características) y y (etiqueta)\n",
    "X = df_lluvia.drop(columns=['valor', 'fecha_observacion', 'llueve'])\n",
    "y = df_lluvia['llueve']\n",
    "\n",
    "# Dividir los datos en entrenamiento y prueba\n",
    "X_train, X_test, y_train, y_test = train_test_split(X, y, test_size=0.2, random_state=42, shuffle=False)"
   ]
  },
  {
   "cell_type": "code",
   "execution_count": 229,
   "metadata": {},
   "outputs": [],
   "source": [
    "# el modelo elegido fue el de CatBoost con los siguientes hiperparametros\n",
    "# Modelo CatBoost - {'iterations': 1000, 'learning_rate': 0.01, 'depth': 6}\n",
    "params = {'iterations': 1000, 'learning_rate': 0.05, 'depth': 5}\n",
    "\n",
    "# Crear un nuevo modelo con los hiperparámetros seleccionados\n",
    "modelo = CatBoostClassifier(random_state=42, verbose=0, **params)\n",
    "#guardo el modelo\n",
    "modelo.fit(X_train, y_train)\n",
    "y_pred = modelo.predict(X_test)\n",
    "modelo.save_model(\"modelo_catboost_lluvia\")"
   ]
  },
  {
   "cell_type": "code",
   "execution_count": 258,
   "metadata": {},
   "outputs": [],
   "source": [
    "#max columns al maximo\n",
    "pd.set_option('display.max_columns', None)"
   ]
  },
  {
   "cell_type": "code",
   "execution_count": 266,
   "metadata": {},
   "outputs": [
    {
     "data": {
      "text/html": [
       "<div>\n",
       "<style scoped>\n",
       "    .dataframe tbody tr th:only-of-type {\n",
       "        vertical-align: middle;\n",
       "    }\n",
       "\n",
       "    .dataframe tbody tr th {\n",
       "        vertical-align: top;\n",
       "    }\n",
       "\n",
       "    .dataframe thead th {\n",
       "        text-align: right;\n",
       "    }\n",
       "</style>\n",
       "<table border=\"1\" class=\"dataframe\">\n",
       "  <thead>\n",
       "    <tr style=\"text-align: right;\">\n",
       "      <th></th>\n",
       "      <th>offset days</th>\n",
       "      <th>valor_previo</th>\n",
       "      <th>Lunes</th>\n",
       "      <th>Martes</th>\n",
       "      <th>Miércoles</th>\n",
       "      <th>Jueves</th>\n",
       "      <th>Viernes</th>\n",
       "      <th>Sábado</th>\n",
       "      <th>Enero</th>\n",
       "      <th>Febrero</th>\n",
       "      <th>Marzo</th>\n",
       "      <th>Abril</th>\n",
       "      <th>Mayo</th>\n",
       "      <th>Junio</th>\n",
       "      <th>Julio</th>\n",
       "      <th>Agosto</th>\n",
       "      <th>Septiembre</th>\n",
       "      <th>Octubre</th>\n",
       "      <th>Noviembre</th>\n",
       "      <th>lluvia_acumulada_semana</th>\n",
       "      <th>lluvia_acumulada_mes</th>\n",
       "      <th>lluvia_media_3d</th>\n",
       "      <th>lluvia_media_7d</th>\n",
       "      <th>lluvia_media_30d</th>\n",
       "      <th>lluvia_std_7d</th>\n",
       "      <th>lluvia_std_30d</th>\n",
       "    </tr>\n",
       "  </thead>\n",
       "  <tbody>\n",
       "    <tr>\n",
       "      <th>2968</th>\n",
       "      <td>2968</td>\n",
       "      <td>0.0</td>\n",
       "      <td>0</td>\n",
       "      <td>1</td>\n",
       "      <td>0</td>\n",
       "      <td>0</td>\n",
       "      <td>0</td>\n",
       "      <td>0</td>\n",
       "      <td>0</td>\n",
       "      <td>1</td>\n",
       "      <td>0</td>\n",
       "      <td>0</td>\n",
       "      <td>0</td>\n",
       "      <td>0</td>\n",
       "      <td>0</td>\n",
       "      <td>0</td>\n",
       "      <td>0</td>\n",
       "      <td>0</td>\n",
       "      <td>0</td>\n",
       "      <td>0.0</td>\n",
       "      <td>0.8</td>\n",
       "      <td>0.000000</td>\n",
       "      <td>0.000000</td>\n",
       "      <td>0.026667</td>\n",
       "      <td>0.000000</td>\n",
       "      <td>0.146059</td>\n",
       "    </tr>\n",
       "    <tr>\n",
       "      <th>2969</th>\n",
       "      <td>2969</td>\n",
       "      <td>0.0</td>\n",
       "      <td>0</td>\n",
       "      <td>0</td>\n",
       "      <td>1</td>\n",
       "      <td>0</td>\n",
       "      <td>0</td>\n",
       "      <td>0</td>\n",
       "      <td>0</td>\n",
       "      <td>1</td>\n",
       "      <td>0</td>\n",
       "      <td>0</td>\n",
       "      <td>0</td>\n",
       "      <td>0</td>\n",
       "      <td>0</td>\n",
       "      <td>0</td>\n",
       "      <td>0</td>\n",
       "      <td>0</td>\n",
       "      <td>0</td>\n",
       "      <td>0.0</td>\n",
       "      <td>0.8</td>\n",
       "      <td>0.000000</td>\n",
       "      <td>0.000000</td>\n",
       "      <td>0.026667</td>\n",
       "      <td>0.000000</td>\n",
       "      <td>0.146059</td>\n",
       "    </tr>\n",
       "    <tr>\n",
       "      <th>2970</th>\n",
       "      <td>2970</td>\n",
       "      <td>0.0</td>\n",
       "      <td>0</td>\n",
       "      <td>0</td>\n",
       "      <td>0</td>\n",
       "      <td>1</td>\n",
       "      <td>0</td>\n",
       "      <td>0</td>\n",
       "      <td>0</td>\n",
       "      <td>1</td>\n",
       "      <td>0</td>\n",
       "      <td>0</td>\n",
       "      <td>0</td>\n",
       "      <td>0</td>\n",
       "      <td>0</td>\n",
       "      <td>0</td>\n",
       "      <td>0</td>\n",
       "      <td>0</td>\n",
       "      <td>0</td>\n",
       "      <td>0.0</td>\n",
       "      <td>0.8</td>\n",
       "      <td>0.000000</td>\n",
       "      <td>0.000000</td>\n",
       "      <td>0.026667</td>\n",
       "      <td>0.000000</td>\n",
       "      <td>0.146059</td>\n",
       "    </tr>\n",
       "    <tr>\n",
       "      <th>2971</th>\n",
       "      <td>2971</td>\n",
       "      <td>0.0</td>\n",
       "      <td>0</td>\n",
       "      <td>0</td>\n",
       "      <td>0</td>\n",
       "      <td>0</td>\n",
       "      <td>1</td>\n",
       "      <td>0</td>\n",
       "      <td>0</td>\n",
       "      <td>1</td>\n",
       "      <td>0</td>\n",
       "      <td>0</td>\n",
       "      <td>0</td>\n",
       "      <td>0</td>\n",
       "      <td>0</td>\n",
       "      <td>0</td>\n",
       "      <td>0</td>\n",
       "      <td>0</td>\n",
       "      <td>0</td>\n",
       "      <td>0.0</td>\n",
       "      <td>0.8</td>\n",
       "      <td>0.000000</td>\n",
       "      <td>0.000000</td>\n",
       "      <td>0.026667</td>\n",
       "      <td>0.000000</td>\n",
       "      <td>0.146059</td>\n",
       "    </tr>\n",
       "    <tr>\n",
       "      <th>2972</th>\n",
       "      <td>2972</td>\n",
       "      <td>0.0</td>\n",
       "      <td>0</td>\n",
       "      <td>0</td>\n",
       "      <td>0</td>\n",
       "      <td>0</td>\n",
       "      <td>0</td>\n",
       "      <td>1</td>\n",
       "      <td>0</td>\n",
       "      <td>1</td>\n",
       "      <td>0</td>\n",
       "      <td>0</td>\n",
       "      <td>0</td>\n",
       "      <td>0</td>\n",
       "      <td>0</td>\n",
       "      <td>0</td>\n",
       "      <td>0</td>\n",
       "      <td>0</td>\n",
       "      <td>0</td>\n",
       "      <td>2.8</td>\n",
       "      <td>3.6</td>\n",
       "      <td>0.933333</td>\n",
       "      <td>0.400000</td>\n",
       "      <td>0.120000</td>\n",
       "      <td>0.000000</td>\n",
       "      <td>0.146059</td>\n",
       "    </tr>\n",
       "    <tr>\n",
       "      <th>...</th>\n",
       "      <td>...</td>\n",
       "      <td>...</td>\n",
       "      <td>...</td>\n",
       "      <td>...</td>\n",
       "      <td>...</td>\n",
       "      <td>...</td>\n",
       "      <td>...</td>\n",
       "      <td>...</td>\n",
       "      <td>...</td>\n",
       "      <td>...</td>\n",
       "      <td>...</td>\n",
       "      <td>...</td>\n",
       "      <td>...</td>\n",
       "      <td>...</td>\n",
       "      <td>...</td>\n",
       "      <td>...</td>\n",
       "      <td>...</td>\n",
       "      <td>...</td>\n",
       "      <td>...</td>\n",
       "      <td>...</td>\n",
       "      <td>...</td>\n",
       "      <td>...</td>\n",
       "      <td>...</td>\n",
       "      <td>...</td>\n",
       "      <td>...</td>\n",
       "      <td>...</td>\n",
       "    </tr>\n",
       "    <tr>\n",
       "      <th>3705</th>\n",
       "      <td>3705</td>\n",
       "      <td>0.6</td>\n",
       "      <td>0</td>\n",
       "      <td>0</td>\n",
       "      <td>0</td>\n",
       "      <td>0</td>\n",
       "      <td>0</td>\n",
       "      <td>0</td>\n",
       "      <td>0</td>\n",
       "      <td>0</td>\n",
       "      <td>0</td>\n",
       "      <td>0</td>\n",
       "      <td>0</td>\n",
       "      <td>0</td>\n",
       "      <td>0</td>\n",
       "      <td>0</td>\n",
       "      <td>0</td>\n",
       "      <td>0</td>\n",
       "      <td>0</td>\n",
       "      <td>8.6</td>\n",
       "      <td>64.6</td>\n",
       "      <td>1.433333</td>\n",
       "      <td>1.228571</td>\n",
       "      <td>2.153333</td>\n",
       "      <td>0.677882</td>\n",
       "      <td>4.233176</td>\n",
       "    </tr>\n",
       "    <tr>\n",
       "      <th>3706</th>\n",
       "      <td>3706</td>\n",
       "      <td>3.2</td>\n",
       "      <td>0</td>\n",
       "      <td>0</td>\n",
       "      <td>1</td>\n",
       "      <td>0</td>\n",
       "      <td>0</td>\n",
       "      <td>0</td>\n",
       "      <td>0</td>\n",
       "      <td>0</td>\n",
       "      <td>0</td>\n",
       "      <td>0</td>\n",
       "      <td>0</td>\n",
       "      <td>0</td>\n",
       "      <td>0</td>\n",
       "      <td>0</td>\n",
       "      <td>0</td>\n",
       "      <td>0</td>\n",
       "      <td>0</td>\n",
       "      <td>7.0</td>\n",
       "      <td>50.1</td>\n",
       "      <td>1.400000</td>\n",
       "      <td>1.000000</td>\n",
       "      <td>1.670000</td>\n",
       "      <td>1.096531</td>\n",
       "      <td>3.487983</td>\n",
       "    </tr>\n",
       "    <tr>\n",
       "      <th>3707</th>\n",
       "      <td>3707</td>\n",
       "      <td>0.4</td>\n",
       "      <td>1</td>\n",
       "      <td>0</td>\n",
       "      <td>0</td>\n",
       "      <td>0</td>\n",
       "      <td>0</td>\n",
       "      <td>0</td>\n",
       "      <td>1</td>\n",
       "      <td>0</td>\n",
       "      <td>0</td>\n",
       "      <td>0</td>\n",
       "      <td>0</td>\n",
       "      <td>0</td>\n",
       "      <td>0</td>\n",
       "      <td>0</td>\n",
       "      <td>0</td>\n",
       "      <td>0</td>\n",
       "      <td>0</td>\n",
       "      <td>5.6</td>\n",
       "      <td>37.2</td>\n",
       "      <td>1.266667</td>\n",
       "      <td>0.800000</td>\n",
       "      <td>1.240000</td>\n",
       "      <td>1.075484</td>\n",
       "      <td>2.535289</td>\n",
       "    </tr>\n",
       "    <tr>\n",
       "      <th>3708</th>\n",
       "      <td>3708</td>\n",
       "      <td>0.2</td>\n",
       "      <td>0</td>\n",
       "      <td>1</td>\n",
       "      <td>0</td>\n",
       "      <td>0</td>\n",
       "      <td>0</td>\n",
       "      <td>0</td>\n",
       "      <td>1</td>\n",
       "      <td>0</td>\n",
       "      <td>0</td>\n",
       "      <td>0</td>\n",
       "      <td>0</td>\n",
       "      <td>0</td>\n",
       "      <td>0</td>\n",
       "      <td>0</td>\n",
       "      <td>0</td>\n",
       "      <td>0</td>\n",
       "      <td>0</td>\n",
       "      <td>13.1</td>\n",
       "      <td>41.9</td>\n",
       "      <td>2.900000</td>\n",
       "      <td>1.871429</td>\n",
       "      <td>1.396667</td>\n",
       "      <td>1.075484</td>\n",
       "      <td>1.343849</td>\n",
       "    </tr>\n",
       "    <tr>\n",
       "      <th>3709</th>\n",
       "      <td>3709</td>\n",
       "      <td>8.1</td>\n",
       "      <td>0</td>\n",
       "      <td>1</td>\n",
       "      <td>0</td>\n",
       "      <td>0</td>\n",
       "      <td>0</td>\n",
       "      <td>0</td>\n",
       "      <td>0</td>\n",
       "      <td>1</td>\n",
       "      <td>0</td>\n",
       "      <td>0</td>\n",
       "      <td>0</td>\n",
       "      <td>0</td>\n",
       "      <td>0</td>\n",
       "      <td>0</td>\n",
       "      <td>0</td>\n",
       "      <td>0</td>\n",
       "      <td>0</td>\n",
       "      <td>16.2</td>\n",
       "      <td>44.7</td>\n",
       "      <td>3.833333</td>\n",
       "      <td>2.314286</td>\n",
       "      <td>1.490000</td>\n",
       "      <td>2.948284</td>\n",
       "      <td>1.800667</td>\n",
       "    </tr>\n",
       "  </tbody>\n",
       "</table>\n",
       "<p>742 rows × 26 columns</p>\n",
       "</div>"
      ],
      "text/plain": [
       "      offset days  valor_previo  Lunes  Martes  Miércoles  Jueves  Viernes  \\\n",
       "2968         2968           0.0      0       1          0       0        0   \n",
       "2969         2969           0.0      0       0          1       0        0   \n",
       "2970         2970           0.0      0       0          0       1        0   \n",
       "2971         2971           0.0      0       0          0       0        1   \n",
       "2972         2972           0.0      0       0          0       0        0   \n",
       "...           ...           ...    ...     ...        ...     ...      ...   \n",
       "3705         3705           0.6      0       0          0       0        0   \n",
       "3706         3706           3.2      0       0          1       0        0   \n",
       "3707         3707           0.4      1       0          0       0        0   \n",
       "3708         3708           0.2      0       1          0       0        0   \n",
       "3709         3709           8.1      0       1          0       0        0   \n",
       "\n",
       "      Sábado  Enero  Febrero  Marzo  Abril  Mayo  Junio  Julio  Agosto  \\\n",
       "2968       0      0        1      0      0     0      0      0       0   \n",
       "2969       0      0        1      0      0     0      0      0       0   \n",
       "2970       0      0        1      0      0     0      0      0       0   \n",
       "2971       0      0        1      0      0     0      0      0       0   \n",
       "2972       1      0        1      0      0     0      0      0       0   \n",
       "...      ...    ...      ...    ...    ...   ...    ...    ...     ...   \n",
       "3705       0      0        0      0      0     0      0      0       0   \n",
       "3706       0      0        0      0      0     0      0      0       0   \n",
       "3707       0      1        0      0      0     0      0      0       0   \n",
       "3708       0      1        0      0      0     0      0      0       0   \n",
       "3709       0      0        1      0      0     0      0      0       0   \n",
       "\n",
       "      Septiembre  Octubre  Noviembre  lluvia_acumulada_semana  \\\n",
       "2968           0        0          0                      0.0   \n",
       "2969           0        0          0                      0.0   \n",
       "2970           0        0          0                      0.0   \n",
       "2971           0        0          0                      0.0   \n",
       "2972           0        0          0                      2.8   \n",
       "...          ...      ...        ...                      ...   \n",
       "3705           0        0          0                      8.6   \n",
       "3706           0        0          0                      7.0   \n",
       "3707           0        0          0                      5.6   \n",
       "3708           0        0          0                     13.1   \n",
       "3709           0        0          0                     16.2   \n",
       "\n",
       "      lluvia_acumulada_mes  lluvia_media_3d  lluvia_media_7d  \\\n",
       "2968                   0.8         0.000000         0.000000   \n",
       "2969                   0.8         0.000000         0.000000   \n",
       "2970                   0.8         0.000000         0.000000   \n",
       "2971                   0.8         0.000000         0.000000   \n",
       "2972                   3.6         0.933333         0.400000   \n",
       "...                    ...              ...              ...   \n",
       "3705                  64.6         1.433333         1.228571   \n",
       "3706                  50.1         1.400000         1.000000   \n",
       "3707                  37.2         1.266667         0.800000   \n",
       "3708                  41.9         2.900000         1.871429   \n",
       "3709                  44.7         3.833333         2.314286   \n",
       "\n",
       "      lluvia_media_30d  lluvia_std_7d  lluvia_std_30d  \n",
       "2968          0.026667       0.000000        0.146059  \n",
       "2969          0.026667       0.000000        0.146059  \n",
       "2970          0.026667       0.000000        0.146059  \n",
       "2971          0.026667       0.000000        0.146059  \n",
       "2972          0.120000       0.000000        0.146059  \n",
       "...                ...            ...             ...  \n",
       "3705          2.153333       0.677882        4.233176  \n",
       "3706          1.670000       1.096531        3.487983  \n",
       "3707          1.240000       1.075484        2.535289  \n",
       "3708          1.396667       1.075484        1.343849  \n",
       "3709          1.490000       2.948284        1.800667  \n",
       "\n",
       "[742 rows x 26 columns]"
      ]
     },
     "execution_count": 266,
     "metadata": {},
     "output_type": "execute_result"
    }
   ],
   "source": [
    "X_test"
   ]
  }
 ],
 "metadata": {
  "kernelspec": {
   "display_name": "base",
   "language": "python",
   "name": "python3"
  },
  "language_info": {
   "codemirror_mode": {
    "name": "ipython",
    "version": 3
   },
   "file_extension": ".py",
   "mimetype": "text/x-python",
   "name": "python",
   "nbconvert_exporter": "python",
   "pygments_lexer": "ipython3",
   "version": "3.12.2"
  }
 },
 "nbformat": 4,
 "nbformat_minor": 2
}
