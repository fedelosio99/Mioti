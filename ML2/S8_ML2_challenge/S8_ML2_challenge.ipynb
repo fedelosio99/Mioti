{
 "cells": [
  {
   "cell_type": "markdown",
   "metadata": {},
   "source": [
    "<img src=\"newlogomioti.png\" style=\"height: 100px\">   \n",
    "<br />"
   ]
  },
  {
   "cell_type": "markdown",
   "metadata": {},
   "source": [
    "<center style=\"color:#888\">Módulo Data Science in IoT<br/>Asignatura Machine Learning 2 (Unsupervised learning)</center>\n",
    "\n",
    "# Challenge S8: Aprendizaje no supervisado: Datos categóricos y funcionales"
   ]
  },
  {
   "cell_type": "markdown",
   "metadata": {},
   "source": [
    "<font size=\"5\"><center><span style=\"color:blue\">***Nombre y Apellidos: _ _ _ _ _ _ _ _ _ _ _ _ _ _ _ _ _ _***</span></center></font>"
   ]
  },
  {
   "cell_type": "markdown",
   "metadata": {},
   "source": [
    "# Análisis de correspondencias"
   ]
  },
  {
   "cell_type": "markdown",
   "metadata": {},
   "source": [
    "## Objetivos\n",
    "\n",
    "Uno de los objetivos del análisis de correspondencias es describir las relaciones existentes entre dos variables nominales, recogidas en una tabla de contingencia, sobre un espacio de pocas dimensiones, mientras que al mismo tiempo se describen las relaciones entre las categorías de cada variable."
   ]
  },
  {
   "cell_type": "markdown",
   "metadata": {},
   "source": [
    "En este caso, estamos interesados en estudiar como se relacionan los atributos de diferentes marcas de café refrigerado entre sí utilizando el análisis de correspondencias. Tenemos distintas marcas de café refrigerado y queremos conocer la relación en la percepción de los consumidores. \n",
    "\n",
    "Disponemos de una tabla de frecuencias donde para cada marca de café refrigerado conocemos el número de personas que lo vinculan con un cierto atributo.\n"
   ]
  },
  {
   "cell_type": "markdown",
   "metadata": {},
   "source": [
    "La lista de atributos percibidos y las etiquetas utilizadas son las siguientes:\n",
    "\n",
    "\n",
    "| <i></i> Atributo|  Etiqueta |  Atributo | Etiqueta |  \n",
    "| --- | --- |  --- |  --- |\n",
    "| good hangover cure | cure |fattening brand | fattening | \n",
    "|low fat/calorie brand\t|low fat|\tappeals to men|\tmen|\n",
    "|brand for children|\tchildren|\tSouth Australian brand|\tSouth Australian|\n",
    "|working class brand|\tworking\t|traditional/old fashioned brand|\ttraditional|\n",
    "|rich/sweet brand|\tsweet\t|premium quality brand|\tpremium|\n",
    "|unpopular brand|\tunpopular|\thealthy brand|\thealthy|\n",
    "|brand for fat/ugly people|\tugly|\thigh caffeine brand|\tcaffeine|\n",
    "|very fresh|\tfresh|\tnew brand|\tnew|\n",
    "|brand for yuppies|\tyuppies\t|brand for attractive people|\tattractive|\n",
    "|nutritious brand|\tnutritious|\ttough brand\t|tough|\n",
    "|brand for women|\twomen\t|popular brand|\tpopular|\n",
    "|minor brand|\tminor|   |   |\n",
    "| <i></i> |\n"
   ]
  },
  {
   "cell_type": "markdown",
   "metadata": {},
   "source": [
    "Primero cargamos las librerías que necesitamos"
   ]
  },
  {
   "cell_type": "code",
   "execution_count": 1,
   "metadata": {},
   "outputs": [],
   "source": [
    "import pandas as pd\n",
    "import numpy as np\n",
    "import matplotlib.pyplot as plt\n",
    "import seaborn as sb\n",
    "import prince"
   ]
  },
  {
   "cell_type": "markdown",
   "metadata": {},
   "source": [
    "y leemos el conjunto de datos disponible."
   ]
  },
  {
   "cell_type": "code",
   "execution_count": 2,
   "metadata": {
    "scrolled": true
   },
   "outputs": [
    {
     "data": {
      "text/html": [
       "<div>\n",
       "<style scoped>\n",
       "    .dataframe tbody tr th:only-of-type {\n",
       "        vertical-align: middle;\n",
       "    }\n",
       "\n",
       "    .dataframe tbody tr th {\n",
       "        vertical-align: top;\n",
       "    }\n",
       "\n",
       "    .dataframe thead th {\n",
       "        text-align: right;\n",
       "    }\n",
       "</style>\n",
       "<table border=\"1\" class=\"dataframe\">\n",
       "  <thead>\n",
       "    <tr style=\"text-align: right;\">\n",
       "      <th></th>\n",
       "      <th>image</th>\n",
       "      <th>brand</th>\n",
       "      <th>freq</th>\n",
       "    </tr>\n",
       "  </thead>\n",
       "  <tbody>\n",
       "    <tr>\n",
       "      <th>0</th>\n",
       "      <td>fattening</td>\n",
       "      <td>AA</td>\n",
       "      <td>82</td>\n",
       "    </tr>\n",
       "    <tr>\n",
       "      <th>1</th>\n",
       "      <td>men</td>\n",
       "      <td>AA</td>\n",
       "      <td>96</td>\n",
       "    </tr>\n",
       "    <tr>\n",
       "      <th>2</th>\n",
       "      <td>South Australian</td>\n",
       "      <td>AA</td>\n",
       "      <td>72</td>\n",
       "    </tr>\n",
       "    <tr>\n",
       "      <th>3</th>\n",
       "      <td>traditional</td>\n",
       "      <td>AA</td>\n",
       "      <td>101</td>\n",
       "    </tr>\n",
       "    <tr>\n",
       "      <th>4</th>\n",
       "      <td>premium</td>\n",
       "      <td>AA</td>\n",
       "      <td>66</td>\n",
       "    </tr>\n",
       "  </tbody>\n",
       "</table>\n",
       "</div>"
      ],
      "text/plain": [
       "              image brand  freq\n",
       "0         fattening    AA    82\n",
       "1               men    AA    96\n",
       "2  South Australian    AA    72\n",
       "3       traditional    AA   101\n",
       "4           premium    AA    66"
      ]
     },
     "execution_count": 2,
     "metadata": {},
     "output_type": "execute_result"
    }
   ],
   "source": [
    "df = pd.read_csv(\"coffe.csv\",sep=\";\")\n",
    "df.head()"
   ]
  },
  {
   "cell_type": "markdown",
   "metadata": {},
   "source": [
    "Realiza una exploración sobre los datos para entenderlos mejor y las acciones de preprocessing que consideres."
   ]
  },
  {
   "cell_type": "code",
   "execution_count": null,
   "metadata": {},
   "outputs": [],
   "source": []
  },
  {
   "cell_type": "markdown",
   "metadata": {},
   "source": [
    "Si ya lo tenemos todo listo, ejecutamos el algoritmo CA para 2 componentes."
   ]
  },
  {
   "cell_type": "code",
   "execution_count": null,
   "metadata": {},
   "outputs": [],
   "source": []
  },
  {
   "cell_type": "markdown",
   "metadata": {},
   "source": [
    "Extraeremos las coordenadas de cada atributo en las nuevas componentes así como las coordenadas de las marcas en ese nuevo espacio."
   ]
  },
  {
   "cell_type": "code",
   "execution_count": null,
   "metadata": {},
   "outputs": [],
   "source": []
  },
  {
   "cell_type": "markdown",
   "metadata": {},
   "source": [
    "El objetivo del análisis de correspondencias en último término es obtener un gráfico donde se relacionen las diferentes categorías. Incorpora en el gráfico tanto las marcas como los atributos."
   ]
  },
  {
   "cell_type": "code",
   "execution_count": null,
   "metadata": {},
   "outputs": [],
   "source": []
  },
  {
   "cell_type": "markdown",
   "metadata": {},
   "source": [
    "Indica también la inercia explicada por cada una de las componentes. ¿Cómo valoras la inercia explicada?"
   ]
  },
  {
   "cell_type": "code",
   "execution_count": null,
   "metadata": {},
   "outputs": [],
   "source": []
  },
  {
   "cell_type": "markdown",
   "metadata": {},
   "source": [
    "* ¿Cómo interpretas los resultados obtenidos en el mapa de posicionamiento?\n",
    "* ¿Puedes indicar qué caracteriza a cada una de las marcas?\n",
    "* ¿Dónde se da una mayor competencia? ¿a qué crees que es debido?\n",
    "* Realiza una propuesta de introducción de una nueva marca ¿Dónde la situarías, con qué atributos?"
   ]
  },
  {
   "cell_type": "markdown",
   "metadata": {},
   "source": [
    "# Clustering con FDA (Plus!)"
   ]
  },
  {
   "cell_type": "markdown",
   "metadata": {},
   "source": [
    "## Objetivos\n",
    "\n",
    "En esta parte de challenge queremos aplicar la técnica de clustering para FDA sobre un dataset con datos de temperatura en España.\n",
    "En concreto, trabajaremos sobre <datasets.fetch_aemet>.   \n",
    "\n",
    "El objetivo es poner en práctica algunas de las técnicas que hemos visto en el worksheet para manejar datos funcionales."
   ]
  },
  {
   "cell_type": "markdown",
   "metadata": {},
   "source": [
    "Los datos se corresponden con datos diarios de 73 estaciones meteorológicas españolas para el periodo 1980-2009. El dataset contiene información geográfica de cada estación y la media de temperatura diaria.\n",
    "Los datos fueron obtenidos a través de la AEMET en 2009 [AEMET](http://www.aemet.es/)\n",
    "\n",
    "Primero, importamos los datos sobre los que vamos a trabajar:"
   ]
  },
  {
   "cell_type": "code",
   "execution_count": 3,
   "metadata": {},
   "outputs": [
    {
     "name": "stderr",
     "output_type": "stream",
     "text": [
      "2024-05-08 11:51:36.817012: I tensorflow/core/platform/cpu_feature_guard.cc:182] This TensorFlow binary is optimized to use available CPU instructions in performance-critical operations.\n",
      "To enable the following instructions: AVX2 FMA, in other operations, rebuild TensorFlow with the appropriate compiler flags.\n"
     ]
    }
   ],
   "source": [
    "from skfda import datasets\n",
    "X, y = datasets.fetch_aemet(return_X_y=True, as_frame=True)"
   ]
  },
  {
   "cell_type": "markdown",
   "metadata": {},
   "source": [
    "Revisa los datos disponible y selecciona 10 curvas de temperatura donde el comportamiento del clima sea diferente. Por ejemplo podríamos seleccionar algunas curvas medidas en provincias del norte de España y otras del sur de España."
   ]
  },
  {
   "cell_type": "code",
   "execution_count": null,
   "metadata": {},
   "outputs": [],
   "source": []
  },
  {
   "cell_type": "markdown",
   "metadata": {},
   "source": [
    "Realiza una exploración visual de los datos seleccionados."
   ]
  },
  {
   "cell_type": "code",
   "execution_count": null,
   "metadata": {},
   "outputs": [],
   "source": []
  },
  {
   "cell_type": "markdown",
   "metadata": {},
   "source": [
    "Aplica Kmeans funcional con el número de clusters que te parezca razonable en función de las curvas elegidas."
   ]
  },
  {
   "cell_type": "code",
   "execution_count": null,
   "metadata": {},
   "outputs": [],
   "source": []
  },
  {
   "cell_type": "markdown",
   "metadata": {},
   "source": [
    "Interpreta los resultados."
   ]
  },
  {
   "cell_type": "code",
   "execution_count": null,
   "metadata": {},
   "outputs": [],
   "source": []
  },
  {
   "cell_type": "markdown",
   "metadata": {},
   "source": [
    "## Como conclusiones y reflexiones:\n",
    "* ¿Se te ocurren aplicaciones concretas de clustering FDA en tu entorno?\n",
    "\n",
    "* ¿En qué se parece o se diferencias las técnicas multivariantes con las funcionales?\n",
    "\n",
    "* ¿En qué situaciones deberíamos ser cuidadosos antes de aplicar FDA?"
   ]
  },
  {
   "cell_type": "code",
   "execution_count": null,
   "metadata": {},
   "outputs": [],
   "source": []
  }
 ],
 "metadata": {
  "kernelspec": {
   "display_name": "Python 3 (ipykernel)",
   "language": "python",
   "name": "python3"
  },
  "language_info": {
   "codemirror_mode": {
    "name": "ipython",
    "version": 3
   },
   "file_extension": ".py",
   "mimetype": "text/x-python",
   "name": "python",
   "nbconvert_exporter": "python",
   "pygments_lexer": "ipython3",
   "version": "3.11.5"
  },
  "toc": {
   "base_numbering": 1,
   "nav_menu": {},
   "number_sections": true,
   "sideBar": true,
   "skip_h1_title": false,
   "title_cell": "Table of Contents",
   "title_sidebar": "Contents",
   "toc_cell": false,
   "toc_position": {},
   "toc_section_display": true,
   "toc_window_display": false
  },
  "varInspector": {
   "cols": {
    "lenName": 16,
    "lenType": 16,
    "lenVar": 40
   },
   "kernels_config": {
    "python": {
     "delete_cmd_postfix": "",
     "delete_cmd_prefix": "del ",
     "library": "var_list.py",
     "varRefreshCmd": "print(var_dic_list())"
    },
    "r": {
     "delete_cmd_postfix": ") ",
     "delete_cmd_prefix": "rm(",
     "library": "var_list.r",
     "varRefreshCmd": "cat(var_dic_list()) "
    }
   },
   "types_to_exclude": [
    "module",
    "function",
    "builtin_function_or_method",
    "instance",
    "_Feature"
   ],
   "window_display": false
  }
 },
 "nbformat": 4,
 "nbformat_minor": 2
}
